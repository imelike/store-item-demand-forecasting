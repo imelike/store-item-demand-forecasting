{
 "cells": [
  {
   "cell_type": "markdown",
   "source": [
    "# Demand Forecasting"
   ],
   "metadata": {
    "collapsed": false
   }
  },
  {
   "cell_type": "code",
   "execution_count": 1,
   "outputs": [],
   "source": [
    "import numpy as np\n",
    "import pandas as pd\n",
    "from matplotlib import pyplot as plt\n",
    "import seaborn as sns\n",
    "import lightgbm as lgb\n",
    "import warnings\n",
    "\n",
    "pd.set_option('display.max_columns', None)\n",
    "pd.set_option('display.width', 500)\n",
    "warnings.filterwarnings('ignore')"
   ],
   "metadata": {
    "collapsed": false
   }
  },
  {
   "cell_type": "code",
   "execution_count": 2,
   "outputs": [],
   "source": [
    "def check_df(dataframe, head=5):\n",
    "    print(\"##################### Shape #####################\")\n",
    "    print(dataframe.shape)\n",
    "    print(\"##################### Types #####################\")\n",
    "    print(dataframe.dtypes)\n",
    "    print(\"##################### Head #####################\")\n",
    "    print(dataframe.head(head))\n",
    "    print(\"##################### Tail #####################\")\n",
    "    print(dataframe.tail(head))\n",
    "    print(\"##################### NA #####################\")\n",
    "    print(dataframe.isnull().sum())\n",
    "    print(\"##################### Quantiles #####################\")\n",
    "    print(dataframe.quantile([0, 0.05, 0.50, 0.95, 0.99, 1]).T)"
   ],
   "metadata": {
    "collapsed": false
   }
  },
  {
   "cell_type": "markdown",
   "source": [
    "**Loading the data**"
   ],
   "metadata": {
    "collapsed": false
   }
  },
  {
   "cell_type": "code",
   "execution_count": 5,
   "outputs": [],
   "source": [
    "train = pd.read_csv('train.csv', parse_dates=['date'])\n",
    "test = pd.read_csv('test.csv', parse_dates=['date'])"
   ],
   "metadata": {
    "collapsed": false
   }
  },
  {
   "cell_type": "code",
   "execution_count": 6,
   "outputs": [],
   "source": [
    "df = pd.concat([train, test], sort=False)"
   ],
   "metadata": {
    "collapsed": false
   }
  },
  {
   "cell_type": "markdown",
   "source": [
    "**EDA**"
   ],
   "metadata": {
    "collapsed": false
   }
  },
  {
   "cell_type": "code",
   "execution_count": 7,
   "outputs": [
    {
     "data": {
      "text/plain": "(Timestamp('2013-01-01 00:00:00'), Timestamp('2018-03-31 00:00:00'))"
     },
     "execution_count": 7,
     "metadata": {},
     "output_type": "execute_result"
    }
   ],
   "source": [
    "df[\"date\"].min(), df[\"date\"].max()"
   ],
   "metadata": {
    "collapsed": false
   }
  },
  {
   "cell_type": "code",
   "execution_count": 8,
   "outputs": [
    {
     "name": "stdout",
     "output_type": "stream",
     "text": [
      "##################### Shape #####################\n",
      "(958023, 5)\n",
      "##################### Types #####################\n",
      "date     datetime64[ns]\n",
      "store             int64\n",
      "item              int64\n",
      "sales           float64\n",
      "id              float64\n",
      "dtype: object\n",
      "##################### Head #####################\n",
      "        date  store  item  sales  id\n",
      "0 2013-01-01      1     1   13.0 NaN\n",
      "1 2013-01-02      1     1   11.0 NaN\n",
      "2 2013-01-03      1     1   14.0 NaN\n",
      "3 2013-01-04      1     1   13.0 NaN\n",
      "4 2013-01-05      1     1   10.0 NaN\n",
      "##################### Tail #####################\n",
      "            date  store  item  sales       id\n",
      "44995 2018-03-27     10    50    NaN  44995.0\n",
      "44996 2018-03-28     10    50    NaN  44996.0\n",
      "44997 2018-03-29     10    50    NaN  44997.0\n",
      "44998 2018-03-30     10    50    NaN  44998.0\n",
      "44999 2018-03-31     10    50    NaN  44999.0\n",
      "##################### NA #####################\n",
      "date          0\n",
      "store         0\n",
      "item          0\n",
      "sales     45000\n",
      "id       913023\n",
      "dtype: int64\n",
      "##################### Quantiles #####################\n",
      "       0.00     0.05     0.50      0.95      0.99     1.00\n",
      "store   1.0     1.00      5.0     10.00     10.00     10.0\n",
      "item    1.0     3.00     25.0     48.00     50.00     50.0\n",
      "sales   0.0    16.00     47.0    107.00    135.00    231.0\n",
      "id      0.0  2249.95  22499.5  42749.05  44549.01  44999.0\n"
     ]
    }
   ],
   "source": [
    "check_df(df)"
   ],
   "metadata": {
    "collapsed": false
   }
  },
  {
   "cell_type": "code",
   "execution_count": 9,
   "outputs": [
    {
     "data": {
      "text/plain": "store    10\ndtype: int64"
     },
     "execution_count": 9,
     "metadata": {},
     "output_type": "execute_result"
    }
   ],
   "source": [
    "df[[\"store\"]].nunique()"
   ],
   "metadata": {
    "collapsed": false
   }
  },
  {
   "cell_type": "code",
   "execution_count": 10,
   "outputs": [
    {
     "data": {
      "text/plain": "item    50\ndtype: int64"
     },
     "execution_count": 10,
     "metadata": {},
     "output_type": "execute_result"
    }
   ],
   "source": [
    "df[[\"item\"]].nunique()"
   ],
   "metadata": {
    "collapsed": false
   }
  },
  {
   "cell_type": "code",
   "execution_count": 11,
   "outputs": [
    {
     "data": {
      "text/plain": "store\n1     50\n2     50\n3     50\n4     50\n5     50\n6     50\n7     50\n8     50\n9     50\n10    50\nName: item, dtype: int64"
     },
     "execution_count": 11,
     "metadata": {},
     "output_type": "execute_result"
    }
   ],
   "source": [
    "df.groupby([\"store\"])[\"item\"].nunique()"
   ],
   "metadata": {
    "collapsed": false
   }
  },
  {
   "cell_type": "code",
   "execution_count": 12,
   "outputs": [
    {
     "data": {
      "text/plain": "               sales\n                 sum\nstore item          \n1     1      36711.0\n      2      97050.0\n      3      60638.0\n      4      36440.0\n      5      30335.0\n...              ...\n10    46    120601.0\n      47     45204.0\n      48    105570.0\n      49     60317.0\n      50    135192.0\n\n[500 rows x 1 columns]",
      "text/html": "<div>\n<style scoped>\n    .dataframe tbody tr th:only-of-type {\n        vertical-align: middle;\n    }\n\n    .dataframe tbody tr th {\n        vertical-align: top;\n    }\n\n    .dataframe thead tr th {\n        text-align: left;\n    }\n\n    .dataframe thead tr:last-of-type th {\n        text-align: right;\n    }\n</style>\n<table border=\"1\" class=\"dataframe\">\n  <thead>\n    <tr>\n      <th></th>\n      <th></th>\n      <th>sales</th>\n    </tr>\n    <tr>\n      <th></th>\n      <th></th>\n      <th>sum</th>\n    </tr>\n    <tr>\n      <th>store</th>\n      <th>item</th>\n      <th></th>\n    </tr>\n  </thead>\n  <tbody>\n    <tr>\n      <th rowspan=\"5\" valign=\"top\">1</th>\n      <th>1</th>\n      <td>36711.0</td>\n    </tr>\n    <tr>\n      <th>2</th>\n      <td>97050.0</td>\n    </tr>\n    <tr>\n      <th>3</th>\n      <td>60638.0</td>\n    </tr>\n    <tr>\n      <th>4</th>\n      <td>36440.0</td>\n    </tr>\n    <tr>\n      <th>5</th>\n      <td>30335.0</td>\n    </tr>\n    <tr>\n      <th>...</th>\n      <th>...</th>\n      <td>...</td>\n    </tr>\n    <tr>\n      <th rowspan=\"5\" valign=\"top\">10</th>\n      <th>46</th>\n      <td>120601.0</td>\n    </tr>\n    <tr>\n      <th>47</th>\n      <td>45204.0</td>\n    </tr>\n    <tr>\n      <th>48</th>\n      <td>105570.0</td>\n    </tr>\n    <tr>\n      <th>49</th>\n      <td>60317.0</td>\n    </tr>\n    <tr>\n      <th>50</th>\n      <td>135192.0</td>\n    </tr>\n  </tbody>\n</table>\n<p>500 rows × 1 columns</p>\n</div>"
     },
     "execution_count": 12,
     "metadata": {},
     "output_type": "execute_result"
    }
   ],
   "source": [
    "df.groupby([\"store\", \"item\"]).agg({\"sales\": [\"sum\"]})"
   ],
   "metadata": {
    "collapsed": false
   }
  },
  {
   "cell_type": "code",
   "execution_count": 13,
   "outputs": [
    {
     "data": {
      "text/plain": "               sales                             \n                 sum       mean median        std\nstore item                                       \n1     1      36711.0  19.854516   19.0   6.788943\n      2      97050.0  53.148959   52.0  15.005779\n      3      60638.0  33.208105   33.0  10.072529\n      4      36440.0  19.956188   20.0   6.640618\n      5      30335.0  16.612815   16.0   5.672102\n...              ...        ...    ...        ...\n10    46    120601.0  66.046550   65.0  18.114991\n      47     45204.0  24.755750   24.0   7.924820\n      48    105570.0  57.814896   57.0  15.898538\n      49     60317.0  33.032311   32.0  10.091610\n      50    135192.0  74.037240   73.0  19.937566\n\n[500 rows x 4 columns]",
      "text/html": "<div>\n<style scoped>\n    .dataframe tbody tr th:only-of-type {\n        vertical-align: middle;\n    }\n\n    .dataframe tbody tr th {\n        vertical-align: top;\n    }\n\n    .dataframe thead tr th {\n        text-align: left;\n    }\n\n    .dataframe thead tr:last-of-type th {\n        text-align: right;\n    }\n</style>\n<table border=\"1\" class=\"dataframe\">\n  <thead>\n    <tr>\n      <th></th>\n      <th></th>\n      <th colspan=\"4\" halign=\"left\">sales</th>\n    </tr>\n    <tr>\n      <th></th>\n      <th></th>\n      <th>sum</th>\n      <th>mean</th>\n      <th>median</th>\n      <th>std</th>\n    </tr>\n    <tr>\n      <th>store</th>\n      <th>item</th>\n      <th></th>\n      <th></th>\n      <th></th>\n      <th></th>\n    </tr>\n  </thead>\n  <tbody>\n    <tr>\n      <th rowspan=\"5\" valign=\"top\">1</th>\n      <th>1</th>\n      <td>36711.0</td>\n      <td>19.854516</td>\n      <td>19.0</td>\n      <td>6.788943</td>\n    </tr>\n    <tr>\n      <th>2</th>\n      <td>97050.0</td>\n      <td>53.148959</td>\n      <td>52.0</td>\n      <td>15.005779</td>\n    </tr>\n    <tr>\n      <th>3</th>\n      <td>60638.0</td>\n      <td>33.208105</td>\n      <td>33.0</td>\n      <td>10.072529</td>\n    </tr>\n    <tr>\n      <th>4</th>\n      <td>36440.0</td>\n      <td>19.956188</td>\n      <td>20.0</td>\n      <td>6.640618</td>\n    </tr>\n    <tr>\n      <th>5</th>\n      <td>30335.0</td>\n      <td>16.612815</td>\n      <td>16.0</td>\n      <td>5.672102</td>\n    </tr>\n    <tr>\n      <th>...</th>\n      <th>...</th>\n      <td>...</td>\n      <td>...</td>\n      <td>...</td>\n      <td>...</td>\n    </tr>\n    <tr>\n      <th rowspan=\"5\" valign=\"top\">10</th>\n      <th>46</th>\n      <td>120601.0</td>\n      <td>66.046550</td>\n      <td>65.0</td>\n      <td>18.114991</td>\n    </tr>\n    <tr>\n      <th>47</th>\n      <td>45204.0</td>\n      <td>24.755750</td>\n      <td>24.0</td>\n      <td>7.924820</td>\n    </tr>\n    <tr>\n      <th>48</th>\n      <td>105570.0</td>\n      <td>57.814896</td>\n      <td>57.0</td>\n      <td>15.898538</td>\n    </tr>\n    <tr>\n      <th>49</th>\n      <td>60317.0</td>\n      <td>33.032311</td>\n      <td>32.0</td>\n      <td>10.091610</td>\n    </tr>\n    <tr>\n      <th>50</th>\n      <td>135192.0</td>\n      <td>74.037240</td>\n      <td>73.0</td>\n      <td>19.937566</td>\n    </tr>\n  </tbody>\n</table>\n<p>500 rows × 4 columns</p>\n</div>"
     },
     "execution_count": 13,
     "metadata": {},
     "output_type": "execute_result"
    }
   ],
   "source": [
    "df.groupby([\"store\", \"item\"]).agg({\"sales\": [\"sum\", \"mean\", \"median\", \"std\"]})"
   ],
   "metadata": {
    "collapsed": false
   }
  },
  {
   "cell_type": "code",
   "execution_count": 14,
   "outputs": [
    {
     "data": {
      "text/plain": "        date  store  item  sales  id\n0 2013-01-01      1     1   13.0 NaN\n1 2013-01-02      1     1   11.0 NaN\n2 2013-01-03      1     1   14.0 NaN\n3 2013-01-04      1     1   13.0 NaN\n4 2013-01-05      1     1   10.0 NaN",
      "text/html": "<div>\n<style scoped>\n    .dataframe tbody tr th:only-of-type {\n        vertical-align: middle;\n    }\n\n    .dataframe tbody tr th {\n        vertical-align: top;\n    }\n\n    .dataframe thead th {\n        text-align: right;\n    }\n</style>\n<table border=\"1\" class=\"dataframe\">\n  <thead>\n    <tr style=\"text-align: right;\">\n      <th></th>\n      <th>date</th>\n      <th>store</th>\n      <th>item</th>\n      <th>sales</th>\n      <th>id</th>\n    </tr>\n  </thead>\n  <tbody>\n    <tr>\n      <th>0</th>\n      <td>2013-01-01</td>\n      <td>1</td>\n      <td>1</td>\n      <td>13.0</td>\n      <td>NaN</td>\n    </tr>\n    <tr>\n      <th>1</th>\n      <td>2013-01-02</td>\n      <td>1</td>\n      <td>1</td>\n      <td>11.0</td>\n      <td>NaN</td>\n    </tr>\n    <tr>\n      <th>2</th>\n      <td>2013-01-03</td>\n      <td>1</td>\n      <td>1</td>\n      <td>14.0</td>\n      <td>NaN</td>\n    </tr>\n    <tr>\n      <th>3</th>\n      <td>2013-01-04</td>\n      <td>1</td>\n      <td>1</td>\n      <td>13.0</td>\n      <td>NaN</td>\n    </tr>\n    <tr>\n      <th>4</th>\n      <td>2013-01-05</td>\n      <td>1</td>\n      <td>1</td>\n      <td>10.0</td>\n      <td>NaN</td>\n    </tr>\n  </tbody>\n</table>\n</div>"
     },
     "execution_count": 14,
     "metadata": {},
     "output_type": "execute_result"
    }
   ],
   "source": [
    "df.head()"
   ],
   "metadata": {
    "collapsed": false
   }
  },
  {
   "cell_type": "markdown",
   "source": [
    "**FEATURE ENGINEERING**"
   ],
   "metadata": {
    "collapsed": false
   }
  },
  {
   "cell_type": "code",
   "execution_count": 15,
   "outputs": [],
   "source": [
    "def create_date_features(df):\n",
    "    df['month'] = df.date.dt.month\n",
    "    df['day_of_month'] = df.date.dt.day\n",
    "    df['day_of_year'] = df.date.dt.dayofyear\n",
    "    df['week_of_year'] = df.date.dt.weekofyear\n",
    "    df['day_of_week'] = df.date.dt.dayofweek\n",
    "    df['year'] = df.date.dt.year\n",
    "    df[\"is_wknd\"] = df.date.dt.weekday // 4\n",
    "    df['is_month_start'] = df.date.dt.is_month_start.astype(int)\n",
    "    df['is_month_end'] = df.date.dt.is_month_end.astype(int)\n",
    "    return df"
   ],
   "metadata": {
    "collapsed": false
   }
  },
  {
   "cell_type": "code",
   "execution_count": 16,
   "outputs": [],
   "source": [
    "df = create_date_features(df)"
   ],
   "metadata": {
    "collapsed": false
   }
  },
  {
   "cell_type": "code",
   "execution_count": 17,
   "outputs": [
    {
     "data": {
      "text/plain": "                    sales                             \n                      sum       mean median        std\nstore item month                                      \n1     1    1       2368.0  13.303371   13.0   4.389007\n           2       2063.0  14.631206   14.0   4.668146\n           3       2728.0  17.600000   17.0   4.545013\n           4       3118.0  20.786667   20.0   4.894301\n           5       3448.0  22.245161   22.0   6.564705\n...                   ...        ...    ...        ...\n10    50   8      13108.0  84.567742   85.0  15.676527\n           9      11831.0  78.873333   79.0  15.207423\n           10     11322.0  73.045161   72.0  14.209171\n           11     11549.0  76.993333   77.0  16.253651\n           12      8724.0  56.283871   56.0  11.782529\n\n[6000 rows x 4 columns]",
      "text/html": "<div>\n<style scoped>\n    .dataframe tbody tr th:only-of-type {\n        vertical-align: middle;\n    }\n\n    .dataframe tbody tr th {\n        vertical-align: top;\n    }\n\n    .dataframe thead tr th {\n        text-align: left;\n    }\n\n    .dataframe thead tr:last-of-type th {\n        text-align: right;\n    }\n</style>\n<table border=\"1\" class=\"dataframe\">\n  <thead>\n    <tr>\n      <th></th>\n      <th></th>\n      <th></th>\n      <th colspan=\"4\" halign=\"left\">sales</th>\n    </tr>\n    <tr>\n      <th></th>\n      <th></th>\n      <th></th>\n      <th>sum</th>\n      <th>mean</th>\n      <th>median</th>\n      <th>std</th>\n    </tr>\n    <tr>\n      <th>store</th>\n      <th>item</th>\n      <th>month</th>\n      <th></th>\n      <th></th>\n      <th></th>\n      <th></th>\n    </tr>\n  </thead>\n  <tbody>\n    <tr>\n      <th rowspan=\"5\" valign=\"top\">1</th>\n      <th rowspan=\"5\" valign=\"top\">1</th>\n      <th>1</th>\n      <td>2368.0</td>\n      <td>13.303371</td>\n      <td>13.0</td>\n      <td>4.389007</td>\n    </tr>\n    <tr>\n      <th>2</th>\n      <td>2063.0</td>\n      <td>14.631206</td>\n      <td>14.0</td>\n      <td>4.668146</td>\n    </tr>\n    <tr>\n      <th>3</th>\n      <td>2728.0</td>\n      <td>17.600000</td>\n      <td>17.0</td>\n      <td>4.545013</td>\n    </tr>\n    <tr>\n      <th>4</th>\n      <td>3118.0</td>\n      <td>20.786667</td>\n      <td>20.0</td>\n      <td>4.894301</td>\n    </tr>\n    <tr>\n      <th>5</th>\n      <td>3448.0</td>\n      <td>22.245161</td>\n      <td>22.0</td>\n      <td>6.564705</td>\n    </tr>\n    <tr>\n      <th>...</th>\n      <th>...</th>\n      <th>...</th>\n      <td>...</td>\n      <td>...</td>\n      <td>...</td>\n      <td>...</td>\n    </tr>\n    <tr>\n      <th rowspan=\"5\" valign=\"top\">10</th>\n      <th rowspan=\"5\" valign=\"top\">50</th>\n      <th>8</th>\n      <td>13108.0</td>\n      <td>84.567742</td>\n      <td>85.0</td>\n      <td>15.676527</td>\n    </tr>\n    <tr>\n      <th>9</th>\n      <td>11831.0</td>\n      <td>78.873333</td>\n      <td>79.0</td>\n      <td>15.207423</td>\n    </tr>\n    <tr>\n      <th>10</th>\n      <td>11322.0</td>\n      <td>73.045161</td>\n      <td>72.0</td>\n      <td>14.209171</td>\n    </tr>\n    <tr>\n      <th>11</th>\n      <td>11549.0</td>\n      <td>76.993333</td>\n      <td>77.0</td>\n      <td>16.253651</td>\n    </tr>\n    <tr>\n      <th>12</th>\n      <td>8724.0</td>\n      <td>56.283871</td>\n      <td>56.0</td>\n      <td>11.782529</td>\n    </tr>\n  </tbody>\n</table>\n<p>6000 rows × 4 columns</p>\n</div>"
     },
     "execution_count": 17,
     "metadata": {},
     "output_type": "execute_result"
    }
   ],
   "source": [
    "df.groupby([\"store\", \"item\", \"month\"]).agg({\"sales\": [\"sum\", \"mean\", \"median\", \"std\"]})"
   ],
   "metadata": {
    "collapsed": false
   }
  },
  {
   "cell_type": "code",
   "execution_count": null,
   "outputs": [],
   "source": [],
   "metadata": {
    "collapsed": false
   }
  }
 ],
 "metadata": {
  "kernelspec": {
   "display_name": "Python 3",
   "language": "python",
   "name": "python3"
  },
  "language_info": {
   "codemirror_mode": {
    "name": "ipython",
    "version": 2
   },
   "file_extension": ".py",
   "mimetype": "text/x-python",
   "name": "python",
   "nbconvert_exporter": "python",
   "pygments_lexer": "ipython2",
   "version": "2.7.6"
  }
 },
 "nbformat": 4,
 "nbformat_minor": 0
}
