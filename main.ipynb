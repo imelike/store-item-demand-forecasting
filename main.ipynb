{
 "cells": [
  {
   "cell_type": "markdown",
   "source": [
    "# Demand Forecasting"
   ],
   "metadata": {
    "collapsed": false
   }
  },
  {
   "cell_type": "code",
   "execution_count": 40,
   "outputs": [],
   "source": [
    "import numpy as np\n",
    "import pandas as pd\n",
    "from matplotlib import pyplot as plt\n",
    "import seaborn as sns\n",
    "import lightgbm as lgb\n",
    "import warnings\n",
    "\n",
    "pd.set_option('display.max_columns', None)\n",
    "pd.set_option('display.width', 500)\n",
    "warnings.filterwarnings('ignore')"
   ],
   "metadata": {
    "collapsed": false
   }
  },
  {
   "cell_type": "code",
   "execution_count": 41,
   "outputs": [],
   "source": [
    "import seaborn as sns\n",
    "import matplotlib.pyplot as plt"
   ],
   "metadata": {
    "collapsed": false
   }
  },
  {
   "cell_type": "code",
   "execution_count": 42,
   "outputs": [],
   "source": [
    "# # !pip install lightgbm\n",
    "# conda install lightgbm"
   ],
   "metadata": {
    "collapsed": false
   }
  },
  {
   "cell_type": "code",
   "execution_count": 43,
   "outputs": [],
   "source": [
    "def check_df(dataframe, head=5):\n",
    "    print(\"##################### Shape #####################\")\n",
    "    print(dataframe.shape)\n",
    "    print(\"##################### Types #####################\")\n",
    "    print(dataframe.dtypes)\n",
    "    print(\"##################### Head #####################\")\n",
    "    print(dataframe.head(head))\n",
    "    print(\"##################### Tail #####################\")\n",
    "    print(dataframe.tail(head))\n",
    "    print(\"##################### NA #####################\")\n",
    "    print(dataframe.isnull().sum())\n",
    "    print(\"##################### Quantiles #####################\")\n",
    "    print(dataframe.quantile([0, 0.05, 0.50, 0.95, 0.99, 1]).T)"
   ],
   "metadata": {
    "collapsed": false
   }
  },
  {
   "cell_type": "markdown",
   "source": [
    "**Loading the data**"
   ],
   "metadata": {
    "collapsed": false
   }
  },
  {
   "cell_type": "code",
   "execution_count": 44,
   "outputs": [],
   "source": [
    "train = pd.read_csv('train.csv', parse_dates=['date'])\n",
    "test = pd.read_csv('test.csv', parse_dates=['date'])"
   ],
   "metadata": {
    "collapsed": false
   }
  },
  {
   "cell_type": "code",
   "execution_count": 45,
   "outputs": [],
   "source": [
    "df = pd.concat([train, test], sort=False)"
   ],
   "metadata": {
    "collapsed": false
   }
  },
  {
   "cell_type": "markdown",
   "source": [
    "**EDA**"
   ],
   "metadata": {
    "collapsed": false
   }
  },
  {
   "cell_type": "code",
   "execution_count": 46,
   "outputs": [
    {
     "data": {
      "text/plain": "(Timestamp('2013-01-01 00:00:00'), Timestamp('2017-12-31 00:00:00'))"
     },
     "execution_count": 7,
     "metadata": {},
     "output_type": "execute_result"
    },
    {
     "data": {
      "text/plain": "(Timestamp('2013-01-01 00:00:00'), Timestamp('2017-12-31 00:00:00'))"
     },
     "execution_count": 46,
     "metadata": {},
     "output_type": "execute_result"
    }
   ],
   "source": [
    "train[\"date\"].min(), train[\"date\"].max()"
   ],
   "metadata": {
    "collapsed": false
   }
  },
  {
   "cell_type": "code",
   "execution_count": 47,
   "outputs": [
    {
     "data": {
      "text/plain": "        date  store  item  sales\n0 2013-01-01      1     1     13\n1 2013-01-02      1     1     11\n2 2013-01-03      1     1     14\n3 2013-01-04      1     1     13\n4 2013-01-05      1     1     10",
      "text/html": "<div>\n<style scoped>\n    .dataframe tbody tr th:only-of-type {\n        vertical-align: middle;\n    }\n\n    .dataframe tbody tr th {\n        vertical-align: top;\n    }\n\n    .dataframe thead th {\n        text-align: right;\n    }\n</style>\n<table border=\"1\" class=\"dataframe\">\n  <thead>\n    <tr style=\"text-align: right;\">\n      <th></th>\n      <th>date</th>\n      <th>store</th>\n      <th>item</th>\n      <th>sales</th>\n    </tr>\n  </thead>\n  <tbody>\n    <tr>\n      <th>0</th>\n      <td>2013-01-01</td>\n      <td>1</td>\n      <td>1</td>\n      <td>13</td>\n    </tr>\n    <tr>\n      <th>1</th>\n      <td>2013-01-02</td>\n      <td>1</td>\n      <td>1</td>\n      <td>11</td>\n    </tr>\n    <tr>\n      <th>2</th>\n      <td>2013-01-03</td>\n      <td>1</td>\n      <td>1</td>\n      <td>14</td>\n    </tr>\n    <tr>\n      <th>3</th>\n      <td>2013-01-04</td>\n      <td>1</td>\n      <td>1</td>\n      <td>13</td>\n    </tr>\n    <tr>\n      <th>4</th>\n      <td>2013-01-05</td>\n      <td>1</td>\n      <td>1</td>\n      <td>10</td>\n    </tr>\n  </tbody>\n</table>\n</div>"
     },
     "execution_count": 8,
     "metadata": {},
     "output_type": "execute_result"
    },
    {
     "data": {
      "text/plain": "        date  store  item  sales\n0 2013-01-01      1     1     13\n1 2013-01-02      1     1     11\n2 2013-01-03      1     1     14\n3 2013-01-04      1     1     13\n4 2013-01-05      1     1     10",
      "text/html": "<div>\n<style scoped>\n    .dataframe tbody tr th:only-of-type {\n        vertical-align: middle;\n    }\n\n    .dataframe tbody tr th {\n        vertical-align: top;\n    }\n\n    .dataframe thead th {\n        text-align: right;\n    }\n</style>\n<table border=\"1\" class=\"dataframe\">\n  <thead>\n    <tr style=\"text-align: right;\">\n      <th></th>\n      <th>date</th>\n      <th>store</th>\n      <th>item</th>\n      <th>sales</th>\n    </tr>\n  </thead>\n  <tbody>\n    <tr>\n      <th>0</th>\n      <td>2013-01-01</td>\n      <td>1</td>\n      <td>1</td>\n      <td>13</td>\n    </tr>\n    <tr>\n      <th>1</th>\n      <td>2013-01-02</td>\n      <td>1</td>\n      <td>1</td>\n      <td>11</td>\n    </tr>\n    <tr>\n      <th>2</th>\n      <td>2013-01-03</td>\n      <td>1</td>\n      <td>1</td>\n      <td>14</td>\n    </tr>\n    <tr>\n      <th>3</th>\n      <td>2013-01-04</td>\n      <td>1</td>\n      <td>1</td>\n      <td>13</td>\n    </tr>\n    <tr>\n      <th>4</th>\n      <td>2013-01-05</td>\n      <td>1</td>\n      <td>1</td>\n      <td>10</td>\n    </tr>\n  </tbody>\n</table>\n</div>"
     },
     "execution_count": 47,
     "metadata": {},
     "output_type": "execute_result"
    }
   ],
   "source": [
    "train.head()"
   ],
   "metadata": {
    "collapsed": false
   }
  },
  {
   "cell_type": "code",
   "execution_count": 48,
   "outputs": [
    {
     "data": {
      "text/plain": "(Timestamp('2018-01-01 00:00:00'), Timestamp('2018-03-31 00:00:00'))"
     },
     "execution_count": 9,
     "metadata": {},
     "output_type": "execute_result"
    },
    {
     "data": {
      "text/plain": "(Timestamp('2018-01-01 00:00:00'), Timestamp('2018-03-31 00:00:00'))"
     },
     "execution_count": 48,
     "metadata": {},
     "output_type": "execute_result"
    }
   ],
   "source": [
    "test[\"date\"].min(), test[\"date\"].max()"
   ],
   "metadata": {
    "collapsed": false
   }
  },
  {
   "cell_type": "code",
   "execution_count": 49,
   "outputs": [
    {
     "data": {
      "text/plain": "   id       date  store  item\n0   0 2018-01-01      1     1\n1   1 2018-01-02      1     1\n2   2 2018-01-03      1     1\n3   3 2018-01-04      1     1\n4   4 2018-01-05      1     1",
      "text/html": "<div>\n<style scoped>\n    .dataframe tbody tr th:only-of-type {\n        vertical-align: middle;\n    }\n\n    .dataframe tbody tr th {\n        vertical-align: top;\n    }\n\n    .dataframe thead th {\n        text-align: right;\n    }\n</style>\n<table border=\"1\" class=\"dataframe\">\n  <thead>\n    <tr style=\"text-align: right;\">\n      <th></th>\n      <th>id</th>\n      <th>date</th>\n      <th>store</th>\n      <th>item</th>\n    </tr>\n  </thead>\n  <tbody>\n    <tr>\n      <th>0</th>\n      <td>0</td>\n      <td>2018-01-01</td>\n      <td>1</td>\n      <td>1</td>\n    </tr>\n    <tr>\n      <th>1</th>\n      <td>1</td>\n      <td>2018-01-02</td>\n      <td>1</td>\n      <td>1</td>\n    </tr>\n    <tr>\n      <th>2</th>\n      <td>2</td>\n      <td>2018-01-03</td>\n      <td>1</td>\n      <td>1</td>\n    </tr>\n    <tr>\n      <th>3</th>\n      <td>3</td>\n      <td>2018-01-04</td>\n      <td>1</td>\n      <td>1</td>\n    </tr>\n    <tr>\n      <th>4</th>\n      <td>4</td>\n      <td>2018-01-05</td>\n      <td>1</td>\n      <td>1</td>\n    </tr>\n  </tbody>\n</table>\n</div>"
     },
     "execution_count": 10,
     "metadata": {},
     "output_type": "execute_result"
    },
    {
     "data": {
      "text/plain": "   id       date  store  item\n0   0 2018-01-01      1     1\n1   1 2018-01-02      1     1\n2   2 2018-01-03      1     1\n3   3 2018-01-04      1     1\n4   4 2018-01-05      1     1",
      "text/html": "<div>\n<style scoped>\n    .dataframe tbody tr th:only-of-type {\n        vertical-align: middle;\n    }\n\n    .dataframe tbody tr th {\n        vertical-align: top;\n    }\n\n    .dataframe thead th {\n        text-align: right;\n    }\n</style>\n<table border=\"1\" class=\"dataframe\">\n  <thead>\n    <tr style=\"text-align: right;\">\n      <th></th>\n      <th>id</th>\n      <th>date</th>\n      <th>store</th>\n      <th>item</th>\n    </tr>\n  </thead>\n  <tbody>\n    <tr>\n      <th>0</th>\n      <td>0</td>\n      <td>2018-01-01</td>\n      <td>1</td>\n      <td>1</td>\n    </tr>\n    <tr>\n      <th>1</th>\n      <td>1</td>\n      <td>2018-01-02</td>\n      <td>1</td>\n      <td>1</td>\n    </tr>\n    <tr>\n      <th>2</th>\n      <td>2</td>\n      <td>2018-01-03</td>\n      <td>1</td>\n      <td>1</td>\n    </tr>\n    <tr>\n      <th>3</th>\n      <td>3</td>\n      <td>2018-01-04</td>\n      <td>1</td>\n      <td>1</td>\n    </tr>\n    <tr>\n      <th>4</th>\n      <td>4</td>\n      <td>2018-01-05</td>\n      <td>1</td>\n      <td>1</td>\n    </tr>\n  </tbody>\n</table>\n</div>"
     },
     "execution_count": 49,
     "metadata": {},
     "output_type": "execute_result"
    }
   ],
   "source": [
    "test.head()"
   ],
   "metadata": {
    "collapsed": false
   }
  },
  {
   "cell_type": "code",
   "execution_count": 50,
   "outputs": [
    {
     "data": {
      "text/plain": "(Timestamp('2013-01-01 00:00:00'), Timestamp('2018-03-31 00:00:00'))"
     },
     "execution_count": 11,
     "metadata": {},
     "output_type": "execute_result"
    },
    {
     "data": {
      "text/plain": "(Timestamp('2013-01-01 00:00:00'), Timestamp('2018-03-31 00:00:00'))"
     },
     "execution_count": 50,
     "metadata": {},
     "output_type": "execute_result"
    }
   ],
   "source": [
    "df[\"date\"].min(), df[\"date\"].max()"
   ],
   "metadata": {
    "collapsed": false
   }
  },
  {
   "cell_type": "code",
   "execution_count": 51,
   "outputs": [
    {
     "data": {
      "text/plain": "        date  store  item  sales  id\n0 2013-01-01      1     1   13.0 NaN\n1 2013-01-02      1     1   11.0 NaN\n2 2013-01-03      1     1   14.0 NaN\n3 2013-01-04      1     1   13.0 NaN\n4 2013-01-05      1     1   10.0 NaN",
      "text/html": "<div>\n<style scoped>\n    .dataframe tbody tr th:only-of-type {\n        vertical-align: middle;\n    }\n\n    .dataframe tbody tr th {\n        vertical-align: top;\n    }\n\n    .dataframe thead th {\n        text-align: right;\n    }\n</style>\n<table border=\"1\" class=\"dataframe\">\n  <thead>\n    <tr style=\"text-align: right;\">\n      <th></th>\n      <th>date</th>\n      <th>store</th>\n      <th>item</th>\n      <th>sales</th>\n      <th>id</th>\n    </tr>\n  </thead>\n  <tbody>\n    <tr>\n      <th>0</th>\n      <td>2013-01-01</td>\n      <td>1</td>\n      <td>1</td>\n      <td>13.0</td>\n      <td>NaN</td>\n    </tr>\n    <tr>\n      <th>1</th>\n      <td>2013-01-02</td>\n      <td>1</td>\n      <td>1</td>\n      <td>11.0</td>\n      <td>NaN</td>\n    </tr>\n    <tr>\n      <th>2</th>\n      <td>2013-01-03</td>\n      <td>1</td>\n      <td>1</td>\n      <td>14.0</td>\n      <td>NaN</td>\n    </tr>\n    <tr>\n      <th>3</th>\n      <td>2013-01-04</td>\n      <td>1</td>\n      <td>1</td>\n      <td>13.0</td>\n      <td>NaN</td>\n    </tr>\n    <tr>\n      <th>4</th>\n      <td>2013-01-05</td>\n      <td>1</td>\n      <td>1</td>\n      <td>10.0</td>\n      <td>NaN</td>\n    </tr>\n  </tbody>\n</table>\n</div>"
     },
     "execution_count": 12,
     "metadata": {},
     "output_type": "execute_result"
    },
    {
     "data": {
      "text/plain": "        date  store  item  sales  id\n0 2013-01-01      1     1   13.0 NaN\n1 2013-01-02      1     1   11.0 NaN\n2 2013-01-03      1     1   14.0 NaN\n3 2013-01-04      1     1   13.0 NaN\n4 2013-01-05      1     1   10.0 NaN",
      "text/html": "<div>\n<style scoped>\n    .dataframe tbody tr th:only-of-type {\n        vertical-align: middle;\n    }\n\n    .dataframe tbody tr th {\n        vertical-align: top;\n    }\n\n    .dataframe thead th {\n        text-align: right;\n    }\n</style>\n<table border=\"1\" class=\"dataframe\">\n  <thead>\n    <tr style=\"text-align: right;\">\n      <th></th>\n      <th>date</th>\n      <th>store</th>\n      <th>item</th>\n      <th>sales</th>\n      <th>id</th>\n    </tr>\n  </thead>\n  <tbody>\n    <tr>\n      <th>0</th>\n      <td>2013-01-01</td>\n      <td>1</td>\n      <td>1</td>\n      <td>13.0</td>\n      <td>NaN</td>\n    </tr>\n    <tr>\n      <th>1</th>\n      <td>2013-01-02</td>\n      <td>1</td>\n      <td>1</td>\n      <td>11.0</td>\n      <td>NaN</td>\n    </tr>\n    <tr>\n      <th>2</th>\n      <td>2013-01-03</td>\n      <td>1</td>\n      <td>1</td>\n      <td>14.0</td>\n      <td>NaN</td>\n    </tr>\n    <tr>\n      <th>3</th>\n      <td>2013-01-04</td>\n      <td>1</td>\n      <td>1</td>\n      <td>13.0</td>\n      <td>NaN</td>\n    </tr>\n    <tr>\n      <th>4</th>\n      <td>2013-01-05</td>\n      <td>1</td>\n      <td>1</td>\n      <td>10.0</td>\n      <td>NaN</td>\n    </tr>\n  </tbody>\n</table>\n</div>"
     },
     "execution_count": 51,
     "metadata": {},
     "output_type": "execute_result"
    }
   ],
   "source": [
    "df.head()"
   ],
   "metadata": {
    "collapsed": false
   }
  },
  {
   "cell_type": "code",
   "execution_count": 52,
   "outputs": [
    {
     "name": "stdout",
     "output_type": "stream",
     "text": [
      "##################### Shape #####################\n",
      "(958023, 5)\n",
      "##################### Types #####################\n",
      "date     datetime64[ns]\n",
      "store             int64\n",
      "item              int64\n",
      "sales           float64\n",
      "id              float64\n",
      "dtype: object\n",
      "##################### Head #####################\n",
      "        date  store  item  sales  id\n",
      "0 2013-01-01      1     1   13.0 NaN\n",
      "1 2013-01-02      1     1   11.0 NaN\n",
      "2 2013-01-03      1     1   14.0 NaN\n",
      "3 2013-01-04      1     1   13.0 NaN\n",
      "4 2013-01-05      1     1   10.0 NaN\n",
      "##################### Tail #####################\n",
      "            date  store  item  sales       id\n",
      "44995 2018-03-27     10    50    NaN  44995.0\n",
      "44996 2018-03-28     10    50    NaN  44996.0\n",
      "44997 2018-03-29     10    50    NaN  44997.0\n",
      "44998 2018-03-30     10    50    NaN  44998.0\n",
      "44999 2018-03-31     10    50    NaN  44999.0\n",
      "##################### NA #####################\n",
      "date          0\n",
      "store         0\n",
      "item          0\n",
      "sales     45000\n",
      "id       913023\n",
      "dtype: int64\n",
      "##################### Quantiles #####################\n",
      "       0.00     0.05     0.50      0.95      0.99     1.00\n",
      "store   1.0     1.00      5.0     10.00     10.00     10.0\n",
      "item    1.0     3.00     25.0     48.00     50.00     50.0\n",
      "sales   0.0    16.00     47.0    107.00    135.00    231.0\n",
      "id      0.0  2249.95  22499.5  42749.05  44549.01  44999.0\n",
      "##################### Shape #####################\n",
      "(958023, 5)\n",
      "##################### Types #####################\n",
      "date     datetime64[ns]\n",
      "store             int64\n",
      "item              int64\n",
      "sales           float64\n",
      "id              float64\n",
      "dtype: object\n",
      "##################### Head #####################\n",
      "        date  store  item  sales  id\n",
      "0 2013-01-01      1     1   13.0 NaN\n",
      "1 2013-01-02      1     1   11.0 NaN\n",
      "2 2013-01-03      1     1   14.0 NaN\n",
      "3 2013-01-04      1     1   13.0 NaN\n",
      "4 2013-01-05      1     1   10.0 NaN\n",
      "##################### Tail #####################\n",
      "            date  store  item  sales       id\n",
      "44995 2018-03-27     10    50    NaN  44995.0\n",
      "44996 2018-03-28     10    50    NaN  44996.0\n",
      "44997 2018-03-29     10    50    NaN  44997.0\n",
      "44998 2018-03-30     10    50    NaN  44998.0\n",
      "44999 2018-03-31     10    50    NaN  44999.0\n",
      "##################### NA #####################\n",
      "date          0\n",
      "store         0\n",
      "item          0\n",
      "sales     45000\n",
      "id       913023\n",
      "dtype: int64\n",
      "##################### Quantiles #####################\n",
      "       0.00     0.05     0.50      0.95      0.99     1.00\n",
      "store   1.0     1.00      5.0     10.00     10.00     10.0\n",
      "item    1.0     3.00     25.0     48.00     50.00     50.0\n",
      "sales   0.0    16.00     47.0    107.00    135.00    231.0\n",
      "id      0.0  2249.95  22499.5  42749.05  44549.01  44999.0\n"
     ]
    }
   ],
   "source": [
    "check_df(df)"
   ],
   "metadata": {
    "collapsed": false
   }
  },
  {
   "cell_type": "code",
   "execution_count": 53,
   "outputs": [
    {
     "data": {
      "text/plain": "store    10\ndtype: int64"
     },
     "execution_count": 14,
     "metadata": {},
     "output_type": "execute_result"
    },
    {
     "data": {
      "text/plain": "store    10\ndtype: int64"
     },
     "execution_count": 53,
     "metadata": {},
     "output_type": "execute_result"
    }
   ],
   "source": [
    "df[[\"store\"]].nunique()"
   ],
   "metadata": {
    "collapsed": false
   }
  },
  {
   "cell_type": "code",
   "execution_count": 54,
   "outputs": [
    {
     "data": {
      "text/plain": "item    50\ndtype: int64"
     },
     "execution_count": 15,
     "metadata": {},
     "output_type": "execute_result"
    },
    {
     "data": {
      "text/plain": "item    50\ndtype: int64"
     },
     "execution_count": 54,
     "metadata": {},
     "output_type": "execute_result"
    }
   ],
   "source": [
    "df[[\"item\"]].nunique()"
   ],
   "metadata": {
    "collapsed": false
   }
  },
  {
   "cell_type": "code",
   "execution_count": 55,
   "outputs": [
    {
     "data": {
      "text/plain": "store\n1     50\n2     50\n3     50\n4     50\n5     50\n6     50\n7     50\n8     50\n9     50\n10    50\nName: item, dtype: int64"
     },
     "execution_count": 16,
     "metadata": {},
     "output_type": "execute_result"
    },
    {
     "data": {
      "text/plain": "store\n1     50\n2     50\n3     50\n4     50\n5     50\n6     50\n7     50\n8     50\n9     50\n10    50\nName: item, dtype: int64"
     },
     "execution_count": 55,
     "metadata": {},
     "output_type": "execute_result"
    }
   ],
   "source": [
    "df.groupby([\"store\"])[\"item\"].nunique()"
   ],
   "metadata": {
    "collapsed": false
   }
  },
  {
   "cell_type": "code",
   "execution_count": 56,
   "outputs": [
    {
     "data": {
      "text/plain": "               sales\n                 sum\nstore item          \n1     1      36711.0\n      2      97050.0\n      3      60638.0\n      4      36440.0\n      5      30335.0\n...              ...\n10    46    120601.0\n      47     45204.0\n      48    105570.0\n      49     60317.0\n      50    135192.0\n\n[500 rows x 1 columns]",
      "text/html": "<div>\n<style scoped>\n    .dataframe tbody tr th:only-of-type {\n        vertical-align: middle;\n    }\n\n    .dataframe tbody tr th {\n        vertical-align: top;\n    }\n\n    .dataframe thead tr th {\n        text-align: left;\n    }\n\n    .dataframe thead tr:last-of-type th {\n        text-align: right;\n    }\n</style>\n<table border=\"1\" class=\"dataframe\">\n  <thead>\n    <tr>\n      <th></th>\n      <th></th>\n      <th>sales</th>\n    </tr>\n    <tr>\n      <th></th>\n      <th></th>\n      <th>sum</th>\n    </tr>\n    <tr>\n      <th>store</th>\n      <th>item</th>\n      <th></th>\n    </tr>\n  </thead>\n  <tbody>\n    <tr>\n      <th rowspan=\"5\" valign=\"top\">1</th>\n      <th>1</th>\n      <td>36711.0</td>\n    </tr>\n    <tr>\n      <th>2</th>\n      <td>97050.0</td>\n    </tr>\n    <tr>\n      <th>3</th>\n      <td>60638.0</td>\n    </tr>\n    <tr>\n      <th>4</th>\n      <td>36440.0</td>\n    </tr>\n    <tr>\n      <th>5</th>\n      <td>30335.0</td>\n    </tr>\n    <tr>\n      <th>...</th>\n      <th>...</th>\n      <td>...</td>\n    </tr>\n    <tr>\n      <th rowspan=\"5\" valign=\"top\">10</th>\n      <th>46</th>\n      <td>120601.0</td>\n    </tr>\n    <tr>\n      <th>47</th>\n      <td>45204.0</td>\n    </tr>\n    <tr>\n      <th>48</th>\n      <td>105570.0</td>\n    </tr>\n    <tr>\n      <th>49</th>\n      <td>60317.0</td>\n    </tr>\n    <tr>\n      <th>50</th>\n      <td>135192.0</td>\n    </tr>\n  </tbody>\n</table>\n<p>500 rows × 1 columns</p>\n</div>"
     },
     "execution_count": 17,
     "metadata": {},
     "output_type": "execute_result"
    },
    {
     "data": {
      "text/plain": "               sales\n                 sum\nstore item          \n1     1      36711.0\n      2      97050.0\n      3      60638.0\n      4      36440.0\n      5      30335.0\n...              ...\n10    46    120601.0\n      47     45204.0\n      48    105570.0\n      49     60317.0\n      50    135192.0\n\n[500 rows x 1 columns]",
      "text/html": "<div>\n<style scoped>\n    .dataframe tbody tr th:only-of-type {\n        vertical-align: middle;\n    }\n\n    .dataframe tbody tr th {\n        vertical-align: top;\n    }\n\n    .dataframe thead tr th {\n        text-align: left;\n    }\n\n    .dataframe thead tr:last-of-type th {\n        text-align: right;\n    }\n</style>\n<table border=\"1\" class=\"dataframe\">\n  <thead>\n    <tr>\n      <th></th>\n      <th></th>\n      <th>sales</th>\n    </tr>\n    <tr>\n      <th></th>\n      <th></th>\n      <th>sum</th>\n    </tr>\n    <tr>\n      <th>store</th>\n      <th>item</th>\n      <th></th>\n    </tr>\n  </thead>\n  <tbody>\n    <tr>\n      <th rowspan=\"5\" valign=\"top\">1</th>\n      <th>1</th>\n      <td>36711.0</td>\n    </tr>\n    <tr>\n      <th>2</th>\n      <td>97050.0</td>\n    </tr>\n    <tr>\n      <th>3</th>\n      <td>60638.0</td>\n    </tr>\n    <tr>\n      <th>4</th>\n      <td>36440.0</td>\n    </tr>\n    <tr>\n      <th>5</th>\n      <td>30335.0</td>\n    </tr>\n    <tr>\n      <th>...</th>\n      <th>...</th>\n      <td>...</td>\n    </tr>\n    <tr>\n      <th rowspan=\"5\" valign=\"top\">10</th>\n      <th>46</th>\n      <td>120601.0</td>\n    </tr>\n    <tr>\n      <th>47</th>\n      <td>45204.0</td>\n    </tr>\n    <tr>\n      <th>48</th>\n      <td>105570.0</td>\n    </tr>\n    <tr>\n      <th>49</th>\n      <td>60317.0</td>\n    </tr>\n    <tr>\n      <th>50</th>\n      <td>135192.0</td>\n    </tr>\n  </tbody>\n</table>\n<p>500 rows × 1 columns</p>\n</div>"
     },
     "execution_count": 56,
     "metadata": {},
     "output_type": "execute_result"
    }
   ],
   "source": [
    "df.groupby([\"store\", \"item\"]).agg({\"sales\": [\"sum\"]})"
   ],
   "metadata": {
    "collapsed": false
   }
  },
  {
   "cell_type": "code",
   "execution_count": 57,
   "outputs": [
    {
     "data": {
      "text/plain": "               sales                             \n                 sum       mean median        std\nstore item                                       \n1     1      36711.0  19.854516   19.0   6.788943\n      2      97050.0  53.148959   52.0  15.005779\n      3      60638.0  33.208105   33.0  10.072529\n      4      36440.0  19.956188   20.0   6.640618\n      5      30335.0  16.612815   16.0   5.672102\n...              ...        ...    ...        ...\n10    46    120601.0  66.046550   65.0  18.114991\n      47     45204.0  24.755750   24.0   7.924820\n      48    105570.0  57.814896   57.0  15.898538\n      49     60317.0  33.032311   32.0  10.091610\n      50    135192.0  74.037240   73.0  19.937566\n\n[500 rows x 4 columns]",
      "text/html": "<div>\n<style scoped>\n    .dataframe tbody tr th:only-of-type {\n        vertical-align: middle;\n    }\n\n    .dataframe tbody tr th {\n        vertical-align: top;\n    }\n\n    .dataframe thead tr th {\n        text-align: left;\n    }\n\n    .dataframe thead tr:last-of-type th {\n        text-align: right;\n    }\n</style>\n<table border=\"1\" class=\"dataframe\">\n  <thead>\n    <tr>\n      <th></th>\n      <th></th>\n      <th colspan=\"4\" halign=\"left\">sales</th>\n    </tr>\n    <tr>\n      <th></th>\n      <th></th>\n      <th>sum</th>\n      <th>mean</th>\n      <th>median</th>\n      <th>std</th>\n    </tr>\n    <tr>\n      <th>store</th>\n      <th>item</th>\n      <th></th>\n      <th></th>\n      <th></th>\n      <th></th>\n    </tr>\n  </thead>\n  <tbody>\n    <tr>\n      <th rowspan=\"5\" valign=\"top\">1</th>\n      <th>1</th>\n      <td>36711.0</td>\n      <td>19.854516</td>\n      <td>19.0</td>\n      <td>6.788943</td>\n    </tr>\n    <tr>\n      <th>2</th>\n      <td>97050.0</td>\n      <td>53.148959</td>\n      <td>52.0</td>\n      <td>15.005779</td>\n    </tr>\n    <tr>\n      <th>3</th>\n      <td>60638.0</td>\n      <td>33.208105</td>\n      <td>33.0</td>\n      <td>10.072529</td>\n    </tr>\n    <tr>\n      <th>4</th>\n      <td>36440.0</td>\n      <td>19.956188</td>\n      <td>20.0</td>\n      <td>6.640618</td>\n    </tr>\n    <tr>\n      <th>5</th>\n      <td>30335.0</td>\n      <td>16.612815</td>\n      <td>16.0</td>\n      <td>5.672102</td>\n    </tr>\n    <tr>\n      <th>...</th>\n      <th>...</th>\n      <td>...</td>\n      <td>...</td>\n      <td>...</td>\n      <td>...</td>\n    </tr>\n    <tr>\n      <th rowspan=\"5\" valign=\"top\">10</th>\n      <th>46</th>\n      <td>120601.0</td>\n      <td>66.046550</td>\n      <td>65.0</td>\n      <td>18.114991</td>\n    </tr>\n    <tr>\n      <th>47</th>\n      <td>45204.0</td>\n      <td>24.755750</td>\n      <td>24.0</td>\n      <td>7.924820</td>\n    </tr>\n    <tr>\n      <th>48</th>\n      <td>105570.0</td>\n      <td>57.814896</td>\n      <td>57.0</td>\n      <td>15.898538</td>\n    </tr>\n    <tr>\n      <th>49</th>\n      <td>60317.0</td>\n      <td>33.032311</td>\n      <td>32.0</td>\n      <td>10.091610</td>\n    </tr>\n    <tr>\n      <th>50</th>\n      <td>135192.0</td>\n      <td>74.037240</td>\n      <td>73.0</td>\n      <td>19.937566</td>\n    </tr>\n  </tbody>\n</table>\n<p>500 rows × 4 columns</p>\n</div>"
     },
     "execution_count": 18,
     "metadata": {},
     "output_type": "execute_result"
    },
    {
     "data": {
      "text/plain": "               sales                             \n                 sum       mean median        std\nstore item                                       \n1     1      36711.0  19.854516   19.0   6.788943\n      2      97050.0  53.148959   52.0  15.005779\n      3      60638.0  33.208105   33.0  10.072529\n      4      36440.0  19.956188   20.0   6.640618\n      5      30335.0  16.612815   16.0   5.672102\n...              ...        ...    ...        ...\n10    46    120601.0  66.046550   65.0  18.114991\n      47     45204.0  24.755750   24.0   7.924820\n      48    105570.0  57.814896   57.0  15.898538\n      49     60317.0  33.032311   32.0  10.091610\n      50    135192.0  74.037240   73.0  19.937566\n\n[500 rows x 4 columns]",
      "text/html": "<div>\n<style scoped>\n    .dataframe tbody tr th:only-of-type {\n        vertical-align: middle;\n    }\n\n    .dataframe tbody tr th {\n        vertical-align: top;\n    }\n\n    .dataframe thead tr th {\n        text-align: left;\n    }\n\n    .dataframe thead tr:last-of-type th {\n        text-align: right;\n    }\n</style>\n<table border=\"1\" class=\"dataframe\">\n  <thead>\n    <tr>\n      <th></th>\n      <th></th>\n      <th colspan=\"4\" halign=\"left\">sales</th>\n    </tr>\n    <tr>\n      <th></th>\n      <th></th>\n      <th>sum</th>\n      <th>mean</th>\n      <th>median</th>\n      <th>std</th>\n    </tr>\n    <tr>\n      <th>store</th>\n      <th>item</th>\n      <th></th>\n      <th></th>\n      <th></th>\n      <th></th>\n    </tr>\n  </thead>\n  <tbody>\n    <tr>\n      <th rowspan=\"5\" valign=\"top\">1</th>\n      <th>1</th>\n      <td>36711.0</td>\n      <td>19.854516</td>\n      <td>19.0</td>\n      <td>6.788943</td>\n    </tr>\n    <tr>\n      <th>2</th>\n      <td>97050.0</td>\n      <td>53.148959</td>\n      <td>52.0</td>\n      <td>15.005779</td>\n    </tr>\n    <tr>\n      <th>3</th>\n      <td>60638.0</td>\n      <td>33.208105</td>\n      <td>33.0</td>\n      <td>10.072529</td>\n    </tr>\n    <tr>\n      <th>4</th>\n      <td>36440.0</td>\n      <td>19.956188</td>\n      <td>20.0</td>\n      <td>6.640618</td>\n    </tr>\n    <tr>\n      <th>5</th>\n      <td>30335.0</td>\n      <td>16.612815</td>\n      <td>16.0</td>\n      <td>5.672102</td>\n    </tr>\n    <tr>\n      <th>...</th>\n      <th>...</th>\n      <td>...</td>\n      <td>...</td>\n      <td>...</td>\n      <td>...</td>\n    </tr>\n    <tr>\n      <th rowspan=\"5\" valign=\"top\">10</th>\n      <th>46</th>\n      <td>120601.0</td>\n      <td>66.046550</td>\n      <td>65.0</td>\n      <td>18.114991</td>\n    </tr>\n    <tr>\n      <th>47</th>\n      <td>45204.0</td>\n      <td>24.755750</td>\n      <td>24.0</td>\n      <td>7.924820</td>\n    </tr>\n    <tr>\n      <th>48</th>\n      <td>105570.0</td>\n      <td>57.814896</td>\n      <td>57.0</td>\n      <td>15.898538</td>\n    </tr>\n    <tr>\n      <th>49</th>\n      <td>60317.0</td>\n      <td>33.032311</td>\n      <td>32.0</td>\n      <td>10.091610</td>\n    </tr>\n    <tr>\n      <th>50</th>\n      <td>135192.0</td>\n      <td>74.037240</td>\n      <td>73.0</td>\n      <td>19.937566</td>\n    </tr>\n  </tbody>\n</table>\n<p>500 rows × 4 columns</p>\n</div>"
     },
     "execution_count": 57,
     "metadata": {},
     "output_type": "execute_result"
    }
   ],
   "source": [
    "df.groupby([\"store\", \"item\"]).agg({\"sales\": [\"sum\", \"mean\", \"median\", \"std\"]})"
   ],
   "metadata": {
    "collapsed": false
   }
  },
  {
   "cell_type": "markdown",
   "source": [
    "**FEATURE ENGINEERING**"
   ],
   "metadata": {
    "collapsed": false
   }
  },
  {
   "cell_type": "code",
   "execution_count": 58,
   "outputs": [],
   "source": [
    "def create_date_features(dataframe):\n",
    "    df['month'] = df.date.dt.month\n",
    "    df['day_of_month'] = df.date.dt.day\n",
    "    df['day_of_year'] = df.date.dt.dayofyear\n",
    "    df['week_of_year'] = df.date.dt.weekofyear\n",
    "    df['day_of_week'] = df.date.dt.dayofweek\n",
    "    df['year'] = df.date.dt.year\n",
    "    df[\"is_wknd\"] = df.date.dt.weekday // 4\n",
    "    df['is_month_start'] = df.date.dt.is_month_start.astype(int)\n",
    "    df['is_month_end'] = df.date.dt.is_month_end.astype(int)\n",
    "    return dataframe"
   ],
   "metadata": {
    "collapsed": false
   }
  },
  {
   "cell_type": "code",
   "execution_count": 59,
   "outputs": [],
   "source": [
    "df = create_date_features(df)"
   ],
   "metadata": {
    "collapsed": false
   }
  },
  {
   "cell_type": "code",
   "execution_count": 60,
   "outputs": [
    {
     "data": {
      "text/plain": "         date  store  item  sales  id  month  day_of_month  day_of_year  week_of_year  day_of_week  year  is_wknd  is_month_start  is_month_end\n0  2013-01-01      1     1   13.0 NaN      1             1            1             1            1  2013        0               1             0\n1  2013-01-02      1     1   11.0 NaN      1             2            2             1            2  2013        0               0             0\n2  2013-01-03      1     1   14.0 NaN      1             3            3             1            3  2013        0               0             0\n3  2013-01-04      1     1   13.0 NaN      1             4            4             1            4  2013        1               0             0\n4  2013-01-05      1     1   10.0 NaN      1             5            5             1            5  2013        1               0             0\n5  2013-01-06      1     1   12.0 NaN      1             6            6             1            6  2013        1               0             0\n6  2013-01-07      1     1   10.0 NaN      1             7            7             2            0  2013        0               0             0\n7  2013-01-08      1     1    9.0 NaN      1             8            8             2            1  2013        0               0             0\n8  2013-01-09      1     1   12.0 NaN      1             9            9             2            2  2013        0               0             0\n9  2013-01-10      1     1    9.0 NaN      1            10           10             2            3  2013        0               0             0\n10 2013-01-11      1     1    9.0 NaN      1            11           11             2            4  2013        1               0             0\n11 2013-01-12      1     1    7.0 NaN      1            12           12             2            5  2013        1               0             0\n12 2013-01-13      1     1   10.0 NaN      1            13           13             2            6  2013        1               0             0\n13 2013-01-14      1     1   12.0 NaN      1            14           14             3            0  2013        0               0             0\n14 2013-01-15      1     1    5.0 NaN      1            15           15             3            1  2013        0               0             0\n15 2013-01-16      1     1    7.0 NaN      1            16           16             3            2  2013        0               0             0\n16 2013-01-17      1     1   16.0 NaN      1            17           17             3            3  2013        0               0             0\n17 2013-01-18      1     1    7.0 NaN      1            18           18             3            4  2013        1               0             0\n18 2013-01-19      1     1   18.0 NaN      1            19           19             3            5  2013        1               0             0\n19 2013-01-20      1     1   15.0 NaN      1            20           20             3            6  2013        1               0             0\n20 2013-01-21      1     1    8.0 NaN      1            21           21             4            0  2013        0               0             0\n21 2013-01-22      1     1    7.0 NaN      1            22           22             4            1  2013        0               0             0\n22 2013-01-23      1     1    9.0 NaN      1            23           23             4            2  2013        0               0             0\n23 2013-01-24      1     1    8.0 NaN      1            24           24             4            3  2013        0               0             0\n24 2013-01-01      1     1   13.0 NaN      1             1            1             1            1  2013        0               1             0",
      "text/html": "<div>\n<style scoped>\n    .dataframe tbody tr th:only-of-type {\n        vertical-align: middle;\n    }\n\n    .dataframe tbody tr th {\n        vertical-align: top;\n    }\n\n    .dataframe thead th {\n        text-align: right;\n    }\n</style>\n<table border=\"1\" class=\"dataframe\">\n  <thead>\n    <tr style=\"text-align: right;\">\n      <th></th>\n      <th>date</th>\n      <th>store</th>\n      <th>item</th>\n      <th>sales</th>\n      <th>id</th>\n      <th>month</th>\n      <th>day_of_month</th>\n      <th>day_of_year</th>\n      <th>week_of_year</th>\n      <th>day_of_week</th>\n      <th>year</th>\n      <th>is_wknd</th>\n      <th>is_month_start</th>\n      <th>is_month_end</th>\n    </tr>\n  </thead>\n  <tbody>\n    <tr>\n      <th>0</th>\n      <td>2013-01-01</td>\n      <td>1</td>\n      <td>1</td>\n      <td>13.0</td>\n      <td>NaN</td>\n      <td>1</td>\n      <td>1</td>\n      <td>1</td>\n      <td>1</td>\n      <td>1</td>\n      <td>2013</td>\n      <td>0</td>\n      <td>1</td>\n      <td>0</td>\n    </tr>\n    <tr>\n      <th>1</th>\n      <td>2013-01-02</td>\n      <td>1</td>\n      <td>1</td>\n      <td>11.0</td>\n      <td>NaN</td>\n      <td>1</td>\n      <td>2</td>\n      <td>2</td>\n      <td>1</td>\n      <td>2</td>\n      <td>2013</td>\n      <td>0</td>\n      <td>0</td>\n      <td>0</td>\n    </tr>\n    <tr>\n      <th>2</th>\n      <td>2013-01-03</td>\n      <td>1</td>\n      <td>1</td>\n      <td>14.0</td>\n      <td>NaN</td>\n      <td>1</td>\n      <td>3</td>\n      <td>3</td>\n      <td>1</td>\n      <td>3</td>\n      <td>2013</td>\n      <td>0</td>\n      <td>0</td>\n      <td>0</td>\n    </tr>\n    <tr>\n      <th>3</th>\n      <td>2013-01-04</td>\n      <td>1</td>\n      <td>1</td>\n      <td>13.0</td>\n      <td>NaN</td>\n      <td>1</td>\n      <td>4</td>\n      <td>4</td>\n      <td>1</td>\n      <td>4</td>\n      <td>2013</td>\n      <td>1</td>\n      <td>0</td>\n      <td>0</td>\n    </tr>\n    <tr>\n      <th>4</th>\n      <td>2013-01-05</td>\n      <td>1</td>\n      <td>1</td>\n      <td>10.0</td>\n      <td>NaN</td>\n      <td>1</td>\n      <td>5</td>\n      <td>5</td>\n      <td>1</td>\n      <td>5</td>\n      <td>2013</td>\n      <td>1</td>\n      <td>0</td>\n      <td>0</td>\n    </tr>\n    <tr>\n      <th>5</th>\n      <td>2013-01-06</td>\n      <td>1</td>\n      <td>1</td>\n      <td>12.0</td>\n      <td>NaN</td>\n      <td>1</td>\n      <td>6</td>\n      <td>6</td>\n      <td>1</td>\n      <td>6</td>\n      <td>2013</td>\n      <td>1</td>\n      <td>0</td>\n      <td>0</td>\n    </tr>\n    <tr>\n      <th>6</th>\n      <td>2013-01-07</td>\n      <td>1</td>\n      <td>1</td>\n      <td>10.0</td>\n      <td>NaN</td>\n      <td>1</td>\n      <td>7</td>\n      <td>7</td>\n      <td>2</td>\n      <td>0</td>\n      <td>2013</td>\n      <td>0</td>\n      <td>0</td>\n      <td>0</td>\n    </tr>\n    <tr>\n      <th>7</th>\n      <td>2013-01-08</td>\n      <td>1</td>\n      <td>1</td>\n      <td>9.0</td>\n      <td>NaN</td>\n      <td>1</td>\n      <td>8</td>\n      <td>8</td>\n      <td>2</td>\n      <td>1</td>\n      <td>2013</td>\n      <td>0</td>\n      <td>0</td>\n      <td>0</td>\n    </tr>\n    <tr>\n      <th>8</th>\n      <td>2013-01-09</td>\n      <td>1</td>\n      <td>1</td>\n      <td>12.0</td>\n      <td>NaN</td>\n      <td>1</td>\n      <td>9</td>\n      <td>9</td>\n      <td>2</td>\n      <td>2</td>\n      <td>2013</td>\n      <td>0</td>\n      <td>0</td>\n      <td>0</td>\n    </tr>\n    <tr>\n      <th>9</th>\n      <td>2013-01-10</td>\n      <td>1</td>\n      <td>1</td>\n      <td>9.0</td>\n      <td>NaN</td>\n      <td>1</td>\n      <td>10</td>\n      <td>10</td>\n      <td>2</td>\n      <td>3</td>\n      <td>2013</td>\n      <td>0</td>\n      <td>0</td>\n      <td>0</td>\n    </tr>\n    <tr>\n      <th>10</th>\n      <td>2013-01-11</td>\n      <td>1</td>\n      <td>1</td>\n      <td>9.0</td>\n      <td>NaN</td>\n      <td>1</td>\n      <td>11</td>\n      <td>11</td>\n      <td>2</td>\n      <td>4</td>\n      <td>2013</td>\n      <td>1</td>\n      <td>0</td>\n      <td>0</td>\n    </tr>\n    <tr>\n      <th>11</th>\n      <td>2013-01-12</td>\n      <td>1</td>\n      <td>1</td>\n      <td>7.0</td>\n      <td>NaN</td>\n      <td>1</td>\n      <td>12</td>\n      <td>12</td>\n      <td>2</td>\n      <td>5</td>\n      <td>2013</td>\n      <td>1</td>\n      <td>0</td>\n      <td>0</td>\n    </tr>\n    <tr>\n      <th>12</th>\n      <td>2013-01-13</td>\n      <td>1</td>\n      <td>1</td>\n      <td>10.0</td>\n      <td>NaN</td>\n      <td>1</td>\n      <td>13</td>\n      <td>13</td>\n      <td>2</td>\n      <td>6</td>\n      <td>2013</td>\n      <td>1</td>\n      <td>0</td>\n      <td>0</td>\n    </tr>\n    <tr>\n      <th>13</th>\n      <td>2013-01-14</td>\n      <td>1</td>\n      <td>1</td>\n      <td>12.0</td>\n      <td>NaN</td>\n      <td>1</td>\n      <td>14</td>\n      <td>14</td>\n      <td>3</td>\n      <td>0</td>\n      <td>2013</td>\n      <td>0</td>\n      <td>0</td>\n      <td>0</td>\n    </tr>\n    <tr>\n      <th>14</th>\n      <td>2013-01-15</td>\n      <td>1</td>\n      <td>1</td>\n      <td>5.0</td>\n      <td>NaN</td>\n      <td>1</td>\n      <td>15</td>\n      <td>15</td>\n      <td>3</td>\n      <td>1</td>\n      <td>2013</td>\n      <td>0</td>\n      <td>0</td>\n      <td>0</td>\n    </tr>\n    <tr>\n      <th>15</th>\n      <td>2013-01-16</td>\n      <td>1</td>\n      <td>1</td>\n      <td>7.0</td>\n      <td>NaN</td>\n      <td>1</td>\n      <td>16</td>\n      <td>16</td>\n      <td>3</td>\n      <td>2</td>\n      <td>2013</td>\n      <td>0</td>\n      <td>0</td>\n      <td>0</td>\n    </tr>\n    <tr>\n      <th>16</th>\n      <td>2013-01-17</td>\n      <td>1</td>\n      <td>1</td>\n      <td>16.0</td>\n      <td>NaN</td>\n      <td>1</td>\n      <td>17</td>\n      <td>17</td>\n      <td>3</td>\n      <td>3</td>\n      <td>2013</td>\n      <td>0</td>\n      <td>0</td>\n      <td>0</td>\n    </tr>\n    <tr>\n      <th>17</th>\n      <td>2013-01-18</td>\n      <td>1</td>\n      <td>1</td>\n      <td>7.0</td>\n      <td>NaN</td>\n      <td>1</td>\n      <td>18</td>\n      <td>18</td>\n      <td>3</td>\n      <td>4</td>\n      <td>2013</td>\n      <td>1</td>\n      <td>0</td>\n      <td>0</td>\n    </tr>\n    <tr>\n      <th>18</th>\n      <td>2013-01-19</td>\n      <td>1</td>\n      <td>1</td>\n      <td>18.0</td>\n      <td>NaN</td>\n      <td>1</td>\n      <td>19</td>\n      <td>19</td>\n      <td>3</td>\n      <td>5</td>\n      <td>2013</td>\n      <td>1</td>\n      <td>0</td>\n      <td>0</td>\n    </tr>\n    <tr>\n      <th>19</th>\n      <td>2013-01-20</td>\n      <td>1</td>\n      <td>1</td>\n      <td>15.0</td>\n      <td>NaN</td>\n      <td>1</td>\n      <td>20</td>\n      <td>20</td>\n      <td>3</td>\n      <td>6</td>\n      <td>2013</td>\n      <td>1</td>\n      <td>0</td>\n      <td>0</td>\n    </tr>\n    <tr>\n      <th>20</th>\n      <td>2013-01-21</td>\n      <td>1</td>\n      <td>1</td>\n      <td>8.0</td>\n      <td>NaN</td>\n      <td>1</td>\n      <td>21</td>\n      <td>21</td>\n      <td>4</td>\n      <td>0</td>\n      <td>2013</td>\n      <td>0</td>\n      <td>0</td>\n      <td>0</td>\n    </tr>\n    <tr>\n      <th>21</th>\n      <td>2013-01-22</td>\n      <td>1</td>\n      <td>1</td>\n      <td>7.0</td>\n      <td>NaN</td>\n      <td>1</td>\n      <td>22</td>\n      <td>22</td>\n      <td>4</td>\n      <td>1</td>\n      <td>2013</td>\n      <td>0</td>\n      <td>0</td>\n      <td>0</td>\n    </tr>\n    <tr>\n      <th>22</th>\n      <td>2013-01-23</td>\n      <td>1</td>\n      <td>1</td>\n      <td>9.0</td>\n      <td>NaN</td>\n      <td>1</td>\n      <td>23</td>\n      <td>23</td>\n      <td>4</td>\n      <td>2</td>\n      <td>2013</td>\n      <td>0</td>\n      <td>0</td>\n      <td>0</td>\n    </tr>\n    <tr>\n      <th>23</th>\n      <td>2013-01-24</td>\n      <td>1</td>\n      <td>1</td>\n      <td>8.0</td>\n      <td>NaN</td>\n      <td>1</td>\n      <td>24</td>\n      <td>24</td>\n      <td>4</td>\n      <td>3</td>\n      <td>2013</td>\n      <td>0</td>\n      <td>0</td>\n      <td>0</td>\n    </tr>\n    <tr>\n      <th>24</th>\n      <td>2013-01-01</td>\n      <td>1</td>\n      <td>1</td>\n      <td>13.0</td>\n      <td>NaN</td>\n      <td>1</td>\n      <td>1</td>\n      <td>1</td>\n      <td>1</td>\n      <td>1</td>\n      <td>2013</td>\n      <td>0</td>\n      <td>1</td>\n      <td>0</td>\n    </tr>\n  </tbody>\n</table>\n</div>"
     },
     "execution_count": 21,
     "metadata": {},
     "output_type": "execute_result"
    },
    {
     "data": {
      "text/plain": "         date  store  item  sales  id  month  day_of_month  day_of_year  week_of_year  day_of_week  year  is_wknd  is_month_start  is_month_end\n0  2013-01-01      1     1   13.0 NaN      1             1            1             1            1  2013        0               1             0\n1  2013-01-02      1     1   11.0 NaN      1             2            2             1            2  2013        0               0             0\n2  2013-01-03      1     1   14.0 NaN      1             3            3             1            3  2013        0               0             0\n3  2013-01-04      1     1   13.0 NaN      1             4            4             1            4  2013        1               0             0\n4  2013-01-05      1     1   10.0 NaN      1             5            5             1            5  2013        1               0             0\n5  2013-01-06      1     1   12.0 NaN      1             6            6             1            6  2013        1               0             0\n6  2013-01-07      1     1   10.0 NaN      1             7            7             2            0  2013        0               0             0\n7  2013-01-08      1     1    9.0 NaN      1             8            8             2            1  2013        0               0             0\n8  2013-01-09      1     1   12.0 NaN      1             9            9             2            2  2013        0               0             0\n9  2013-01-10      1     1    9.0 NaN      1            10           10             2            3  2013        0               0             0\n10 2013-01-11      1     1    9.0 NaN      1            11           11             2            4  2013        1               0             0\n11 2013-01-12      1     1    7.0 NaN      1            12           12             2            5  2013        1               0             0\n12 2013-01-13      1     1   10.0 NaN      1            13           13             2            6  2013        1               0             0\n13 2013-01-14      1     1   12.0 NaN      1            14           14             3            0  2013        0               0             0\n14 2013-01-15      1     1    5.0 NaN      1            15           15             3            1  2013        0               0             0\n15 2013-01-16      1     1    7.0 NaN      1            16           16             3            2  2013        0               0             0\n16 2013-01-17      1     1   16.0 NaN      1            17           17             3            3  2013        0               0             0\n17 2013-01-18      1     1    7.0 NaN      1            18           18             3            4  2013        1               0             0\n18 2013-01-19      1     1   18.0 NaN      1            19           19             3            5  2013        1               0             0\n19 2013-01-20      1     1   15.0 NaN      1            20           20             3            6  2013        1               0             0\n20 2013-01-21      1     1    8.0 NaN      1            21           21             4            0  2013        0               0             0\n21 2013-01-22      1     1    7.0 NaN      1            22           22             4            1  2013        0               0             0\n22 2013-01-23      1     1    9.0 NaN      1            23           23             4            2  2013        0               0             0\n23 2013-01-24      1     1    8.0 NaN      1            24           24             4            3  2013        0               0             0\n24 2013-01-01      1     1   13.0 NaN      1             1            1             1            1  2013        0               1             0",
      "text/html": "<div>\n<style scoped>\n    .dataframe tbody tr th:only-of-type {\n        vertical-align: middle;\n    }\n\n    .dataframe tbody tr th {\n        vertical-align: top;\n    }\n\n    .dataframe thead th {\n        text-align: right;\n    }\n</style>\n<table border=\"1\" class=\"dataframe\">\n  <thead>\n    <tr style=\"text-align: right;\">\n      <th></th>\n      <th>date</th>\n      <th>store</th>\n      <th>item</th>\n      <th>sales</th>\n      <th>id</th>\n      <th>month</th>\n      <th>day_of_month</th>\n      <th>day_of_year</th>\n      <th>week_of_year</th>\n      <th>day_of_week</th>\n      <th>year</th>\n      <th>is_wknd</th>\n      <th>is_month_start</th>\n      <th>is_month_end</th>\n    </tr>\n  </thead>\n  <tbody>\n    <tr>\n      <th>0</th>\n      <td>2013-01-01</td>\n      <td>1</td>\n      <td>1</td>\n      <td>13.0</td>\n      <td>NaN</td>\n      <td>1</td>\n      <td>1</td>\n      <td>1</td>\n      <td>1</td>\n      <td>1</td>\n      <td>2013</td>\n      <td>0</td>\n      <td>1</td>\n      <td>0</td>\n    </tr>\n    <tr>\n      <th>1</th>\n      <td>2013-01-02</td>\n      <td>1</td>\n      <td>1</td>\n      <td>11.0</td>\n      <td>NaN</td>\n      <td>1</td>\n      <td>2</td>\n      <td>2</td>\n      <td>1</td>\n      <td>2</td>\n      <td>2013</td>\n      <td>0</td>\n      <td>0</td>\n      <td>0</td>\n    </tr>\n    <tr>\n      <th>2</th>\n      <td>2013-01-03</td>\n      <td>1</td>\n      <td>1</td>\n      <td>14.0</td>\n      <td>NaN</td>\n      <td>1</td>\n      <td>3</td>\n      <td>3</td>\n      <td>1</td>\n      <td>3</td>\n      <td>2013</td>\n      <td>0</td>\n      <td>0</td>\n      <td>0</td>\n    </tr>\n    <tr>\n      <th>3</th>\n      <td>2013-01-04</td>\n      <td>1</td>\n      <td>1</td>\n      <td>13.0</td>\n      <td>NaN</td>\n      <td>1</td>\n      <td>4</td>\n      <td>4</td>\n      <td>1</td>\n      <td>4</td>\n      <td>2013</td>\n      <td>1</td>\n      <td>0</td>\n      <td>0</td>\n    </tr>\n    <tr>\n      <th>4</th>\n      <td>2013-01-05</td>\n      <td>1</td>\n      <td>1</td>\n      <td>10.0</td>\n      <td>NaN</td>\n      <td>1</td>\n      <td>5</td>\n      <td>5</td>\n      <td>1</td>\n      <td>5</td>\n      <td>2013</td>\n      <td>1</td>\n      <td>0</td>\n      <td>0</td>\n    </tr>\n    <tr>\n      <th>5</th>\n      <td>2013-01-06</td>\n      <td>1</td>\n      <td>1</td>\n      <td>12.0</td>\n      <td>NaN</td>\n      <td>1</td>\n      <td>6</td>\n      <td>6</td>\n      <td>1</td>\n      <td>6</td>\n      <td>2013</td>\n      <td>1</td>\n      <td>0</td>\n      <td>0</td>\n    </tr>\n    <tr>\n      <th>6</th>\n      <td>2013-01-07</td>\n      <td>1</td>\n      <td>1</td>\n      <td>10.0</td>\n      <td>NaN</td>\n      <td>1</td>\n      <td>7</td>\n      <td>7</td>\n      <td>2</td>\n      <td>0</td>\n      <td>2013</td>\n      <td>0</td>\n      <td>0</td>\n      <td>0</td>\n    </tr>\n    <tr>\n      <th>7</th>\n      <td>2013-01-08</td>\n      <td>1</td>\n      <td>1</td>\n      <td>9.0</td>\n      <td>NaN</td>\n      <td>1</td>\n      <td>8</td>\n      <td>8</td>\n      <td>2</td>\n      <td>1</td>\n      <td>2013</td>\n      <td>0</td>\n      <td>0</td>\n      <td>0</td>\n    </tr>\n    <tr>\n      <th>8</th>\n      <td>2013-01-09</td>\n      <td>1</td>\n      <td>1</td>\n      <td>12.0</td>\n      <td>NaN</td>\n      <td>1</td>\n      <td>9</td>\n      <td>9</td>\n      <td>2</td>\n      <td>2</td>\n      <td>2013</td>\n      <td>0</td>\n      <td>0</td>\n      <td>0</td>\n    </tr>\n    <tr>\n      <th>9</th>\n      <td>2013-01-10</td>\n      <td>1</td>\n      <td>1</td>\n      <td>9.0</td>\n      <td>NaN</td>\n      <td>1</td>\n      <td>10</td>\n      <td>10</td>\n      <td>2</td>\n      <td>3</td>\n      <td>2013</td>\n      <td>0</td>\n      <td>0</td>\n      <td>0</td>\n    </tr>\n    <tr>\n      <th>10</th>\n      <td>2013-01-11</td>\n      <td>1</td>\n      <td>1</td>\n      <td>9.0</td>\n      <td>NaN</td>\n      <td>1</td>\n      <td>11</td>\n      <td>11</td>\n      <td>2</td>\n      <td>4</td>\n      <td>2013</td>\n      <td>1</td>\n      <td>0</td>\n      <td>0</td>\n    </tr>\n    <tr>\n      <th>11</th>\n      <td>2013-01-12</td>\n      <td>1</td>\n      <td>1</td>\n      <td>7.0</td>\n      <td>NaN</td>\n      <td>1</td>\n      <td>12</td>\n      <td>12</td>\n      <td>2</td>\n      <td>5</td>\n      <td>2013</td>\n      <td>1</td>\n      <td>0</td>\n      <td>0</td>\n    </tr>\n    <tr>\n      <th>12</th>\n      <td>2013-01-13</td>\n      <td>1</td>\n      <td>1</td>\n      <td>10.0</td>\n      <td>NaN</td>\n      <td>1</td>\n      <td>13</td>\n      <td>13</td>\n      <td>2</td>\n      <td>6</td>\n      <td>2013</td>\n      <td>1</td>\n      <td>0</td>\n      <td>0</td>\n    </tr>\n    <tr>\n      <th>13</th>\n      <td>2013-01-14</td>\n      <td>1</td>\n      <td>1</td>\n      <td>12.0</td>\n      <td>NaN</td>\n      <td>1</td>\n      <td>14</td>\n      <td>14</td>\n      <td>3</td>\n      <td>0</td>\n      <td>2013</td>\n      <td>0</td>\n      <td>0</td>\n      <td>0</td>\n    </tr>\n    <tr>\n      <th>14</th>\n      <td>2013-01-15</td>\n      <td>1</td>\n      <td>1</td>\n      <td>5.0</td>\n      <td>NaN</td>\n      <td>1</td>\n      <td>15</td>\n      <td>15</td>\n      <td>3</td>\n      <td>1</td>\n      <td>2013</td>\n      <td>0</td>\n      <td>0</td>\n      <td>0</td>\n    </tr>\n    <tr>\n      <th>15</th>\n      <td>2013-01-16</td>\n      <td>1</td>\n      <td>1</td>\n      <td>7.0</td>\n      <td>NaN</td>\n      <td>1</td>\n      <td>16</td>\n      <td>16</td>\n      <td>3</td>\n      <td>2</td>\n      <td>2013</td>\n      <td>0</td>\n      <td>0</td>\n      <td>0</td>\n    </tr>\n    <tr>\n      <th>16</th>\n      <td>2013-01-17</td>\n      <td>1</td>\n      <td>1</td>\n      <td>16.0</td>\n      <td>NaN</td>\n      <td>1</td>\n      <td>17</td>\n      <td>17</td>\n      <td>3</td>\n      <td>3</td>\n      <td>2013</td>\n      <td>0</td>\n      <td>0</td>\n      <td>0</td>\n    </tr>\n    <tr>\n      <th>17</th>\n      <td>2013-01-18</td>\n      <td>1</td>\n      <td>1</td>\n      <td>7.0</td>\n      <td>NaN</td>\n      <td>1</td>\n      <td>18</td>\n      <td>18</td>\n      <td>3</td>\n      <td>4</td>\n      <td>2013</td>\n      <td>1</td>\n      <td>0</td>\n      <td>0</td>\n    </tr>\n    <tr>\n      <th>18</th>\n      <td>2013-01-19</td>\n      <td>1</td>\n      <td>1</td>\n      <td>18.0</td>\n      <td>NaN</td>\n      <td>1</td>\n      <td>19</td>\n      <td>19</td>\n      <td>3</td>\n      <td>5</td>\n      <td>2013</td>\n      <td>1</td>\n      <td>0</td>\n      <td>0</td>\n    </tr>\n    <tr>\n      <th>19</th>\n      <td>2013-01-20</td>\n      <td>1</td>\n      <td>1</td>\n      <td>15.0</td>\n      <td>NaN</td>\n      <td>1</td>\n      <td>20</td>\n      <td>20</td>\n      <td>3</td>\n      <td>6</td>\n      <td>2013</td>\n      <td>1</td>\n      <td>0</td>\n      <td>0</td>\n    </tr>\n    <tr>\n      <th>20</th>\n      <td>2013-01-21</td>\n      <td>1</td>\n      <td>1</td>\n      <td>8.0</td>\n      <td>NaN</td>\n      <td>1</td>\n      <td>21</td>\n      <td>21</td>\n      <td>4</td>\n      <td>0</td>\n      <td>2013</td>\n      <td>0</td>\n      <td>0</td>\n      <td>0</td>\n    </tr>\n    <tr>\n      <th>21</th>\n      <td>2013-01-22</td>\n      <td>1</td>\n      <td>1</td>\n      <td>7.0</td>\n      <td>NaN</td>\n      <td>1</td>\n      <td>22</td>\n      <td>22</td>\n      <td>4</td>\n      <td>1</td>\n      <td>2013</td>\n      <td>0</td>\n      <td>0</td>\n      <td>0</td>\n    </tr>\n    <tr>\n      <th>22</th>\n      <td>2013-01-23</td>\n      <td>1</td>\n      <td>1</td>\n      <td>9.0</td>\n      <td>NaN</td>\n      <td>1</td>\n      <td>23</td>\n      <td>23</td>\n      <td>4</td>\n      <td>2</td>\n      <td>2013</td>\n      <td>0</td>\n      <td>0</td>\n      <td>0</td>\n    </tr>\n    <tr>\n      <th>23</th>\n      <td>2013-01-24</td>\n      <td>1</td>\n      <td>1</td>\n      <td>8.0</td>\n      <td>NaN</td>\n      <td>1</td>\n      <td>24</td>\n      <td>24</td>\n      <td>4</td>\n      <td>3</td>\n      <td>2013</td>\n      <td>0</td>\n      <td>0</td>\n      <td>0</td>\n    </tr>\n    <tr>\n      <th>24</th>\n      <td>2013-01-01</td>\n      <td>1</td>\n      <td>1</td>\n      <td>13.0</td>\n      <td>NaN</td>\n      <td>1</td>\n      <td>1</td>\n      <td>1</td>\n      <td>1</td>\n      <td>1</td>\n      <td>2013</td>\n      <td>0</td>\n      <td>1</td>\n      <td>0</td>\n    </tr>\n  </tbody>\n</table>\n</div>"
     },
     "execution_count": 60,
     "metadata": {},
     "output_type": "execute_result"
    }
   ],
   "source": [
    "df.head(25)"
   ],
   "metadata": {
    "collapsed": false
   }
  },
  {
   "cell_type": "code",
   "execution_count": 61,
   "outputs": [
    {
     "data": {
      "text/plain": "                    sales                             \n                      sum       mean median        std\nstore item month                                      \n1     1    1       2368.0  13.303371   13.0   4.389007\n           2       2063.0  14.631206   14.0   4.668146\n           3       2728.0  17.600000   17.0   4.545013\n           4       3118.0  20.786667   20.0   4.894301\n           5       3448.0  22.245161   22.0   6.564705\n...                   ...        ...    ...        ...\n10    50   8      13108.0  84.567742   85.0  15.676527\n           9      11831.0  78.873333   79.0  15.207423\n           10     11322.0  73.045161   72.0  14.209171\n           11     11549.0  76.993333   77.0  16.253651\n           12      8724.0  56.283871   56.0  11.782529\n\n[6000 rows x 4 columns]",
      "text/html": "<div>\n<style scoped>\n    .dataframe tbody tr th:only-of-type {\n        vertical-align: middle;\n    }\n\n    .dataframe tbody tr th {\n        vertical-align: top;\n    }\n\n    .dataframe thead tr th {\n        text-align: left;\n    }\n\n    .dataframe thead tr:last-of-type th {\n        text-align: right;\n    }\n</style>\n<table border=\"1\" class=\"dataframe\">\n  <thead>\n    <tr>\n      <th></th>\n      <th></th>\n      <th></th>\n      <th colspan=\"4\" halign=\"left\">sales</th>\n    </tr>\n    <tr>\n      <th></th>\n      <th></th>\n      <th></th>\n      <th>sum</th>\n      <th>mean</th>\n      <th>median</th>\n      <th>std</th>\n    </tr>\n    <tr>\n      <th>store</th>\n      <th>item</th>\n      <th>month</th>\n      <th></th>\n      <th></th>\n      <th></th>\n      <th></th>\n    </tr>\n  </thead>\n  <tbody>\n    <tr>\n      <th rowspan=\"5\" valign=\"top\">1</th>\n      <th rowspan=\"5\" valign=\"top\">1</th>\n      <th>1</th>\n      <td>2368.0</td>\n      <td>13.303371</td>\n      <td>13.0</td>\n      <td>4.389007</td>\n    </tr>\n    <tr>\n      <th>2</th>\n      <td>2063.0</td>\n      <td>14.631206</td>\n      <td>14.0</td>\n      <td>4.668146</td>\n    </tr>\n    <tr>\n      <th>3</th>\n      <td>2728.0</td>\n      <td>17.600000</td>\n      <td>17.0</td>\n      <td>4.545013</td>\n    </tr>\n    <tr>\n      <th>4</th>\n      <td>3118.0</td>\n      <td>20.786667</td>\n      <td>20.0</td>\n      <td>4.894301</td>\n    </tr>\n    <tr>\n      <th>5</th>\n      <td>3448.0</td>\n      <td>22.245161</td>\n      <td>22.0</td>\n      <td>6.564705</td>\n    </tr>\n    <tr>\n      <th>...</th>\n      <th>...</th>\n      <th>...</th>\n      <td>...</td>\n      <td>...</td>\n      <td>...</td>\n      <td>...</td>\n    </tr>\n    <tr>\n      <th rowspan=\"5\" valign=\"top\">10</th>\n      <th rowspan=\"5\" valign=\"top\">50</th>\n      <th>8</th>\n      <td>13108.0</td>\n      <td>84.567742</td>\n      <td>85.0</td>\n      <td>15.676527</td>\n    </tr>\n    <tr>\n      <th>9</th>\n      <td>11831.0</td>\n      <td>78.873333</td>\n      <td>79.0</td>\n      <td>15.207423</td>\n    </tr>\n    <tr>\n      <th>10</th>\n      <td>11322.0</td>\n      <td>73.045161</td>\n      <td>72.0</td>\n      <td>14.209171</td>\n    </tr>\n    <tr>\n      <th>11</th>\n      <td>11549.0</td>\n      <td>76.993333</td>\n      <td>77.0</td>\n      <td>16.253651</td>\n    </tr>\n    <tr>\n      <th>12</th>\n      <td>8724.0</td>\n      <td>56.283871</td>\n      <td>56.0</td>\n      <td>11.782529</td>\n    </tr>\n  </tbody>\n</table>\n<p>6000 rows × 4 columns</p>\n</div>"
     },
     "execution_count": 22,
     "metadata": {},
     "output_type": "execute_result"
    },
    {
     "data": {
      "text/plain": "                    sales                             \n                      sum       mean median        std\nstore item month                                      \n1     1    1       2368.0  13.303371   13.0   4.389007\n           2       2063.0  14.631206   14.0   4.668146\n           3       2728.0  17.600000   17.0   4.545013\n           4       3118.0  20.786667   20.0   4.894301\n           5       3448.0  22.245161   22.0   6.564705\n...                   ...        ...    ...        ...\n10    50   8      13108.0  84.567742   85.0  15.676527\n           9      11831.0  78.873333   79.0  15.207423\n           10     11322.0  73.045161   72.0  14.209171\n           11     11549.0  76.993333   77.0  16.253651\n           12      8724.0  56.283871   56.0  11.782529\n\n[6000 rows x 4 columns]",
      "text/html": "<div>\n<style scoped>\n    .dataframe tbody tr th:only-of-type {\n        vertical-align: middle;\n    }\n\n    .dataframe tbody tr th {\n        vertical-align: top;\n    }\n\n    .dataframe thead tr th {\n        text-align: left;\n    }\n\n    .dataframe thead tr:last-of-type th {\n        text-align: right;\n    }\n</style>\n<table border=\"1\" class=\"dataframe\">\n  <thead>\n    <tr>\n      <th></th>\n      <th></th>\n      <th></th>\n      <th colspan=\"4\" halign=\"left\">sales</th>\n    </tr>\n    <tr>\n      <th></th>\n      <th></th>\n      <th></th>\n      <th>sum</th>\n      <th>mean</th>\n      <th>median</th>\n      <th>std</th>\n    </tr>\n    <tr>\n      <th>store</th>\n      <th>item</th>\n      <th>month</th>\n      <th></th>\n      <th></th>\n      <th></th>\n      <th></th>\n    </tr>\n  </thead>\n  <tbody>\n    <tr>\n      <th rowspan=\"5\" valign=\"top\">1</th>\n      <th rowspan=\"5\" valign=\"top\">1</th>\n      <th>1</th>\n      <td>2368.0</td>\n      <td>13.303371</td>\n      <td>13.0</td>\n      <td>4.389007</td>\n    </tr>\n    <tr>\n      <th>2</th>\n      <td>2063.0</td>\n      <td>14.631206</td>\n      <td>14.0</td>\n      <td>4.668146</td>\n    </tr>\n    <tr>\n      <th>3</th>\n      <td>2728.0</td>\n      <td>17.600000</td>\n      <td>17.0</td>\n      <td>4.545013</td>\n    </tr>\n    <tr>\n      <th>4</th>\n      <td>3118.0</td>\n      <td>20.786667</td>\n      <td>20.0</td>\n      <td>4.894301</td>\n    </tr>\n    <tr>\n      <th>5</th>\n      <td>3448.0</td>\n      <td>22.245161</td>\n      <td>22.0</td>\n      <td>6.564705</td>\n    </tr>\n    <tr>\n      <th>...</th>\n      <th>...</th>\n      <th>...</th>\n      <td>...</td>\n      <td>...</td>\n      <td>...</td>\n      <td>...</td>\n    </tr>\n    <tr>\n      <th rowspan=\"5\" valign=\"top\">10</th>\n      <th rowspan=\"5\" valign=\"top\">50</th>\n      <th>8</th>\n      <td>13108.0</td>\n      <td>84.567742</td>\n      <td>85.0</td>\n      <td>15.676527</td>\n    </tr>\n    <tr>\n      <th>9</th>\n      <td>11831.0</td>\n      <td>78.873333</td>\n      <td>79.0</td>\n      <td>15.207423</td>\n    </tr>\n    <tr>\n      <th>10</th>\n      <td>11322.0</td>\n      <td>73.045161</td>\n      <td>72.0</td>\n      <td>14.209171</td>\n    </tr>\n    <tr>\n      <th>11</th>\n      <td>11549.0</td>\n      <td>76.993333</td>\n      <td>77.0</td>\n      <td>16.253651</td>\n    </tr>\n    <tr>\n      <th>12</th>\n      <td>8724.0</td>\n      <td>56.283871</td>\n      <td>56.0</td>\n      <td>11.782529</td>\n    </tr>\n  </tbody>\n</table>\n<p>6000 rows × 4 columns</p>\n</div>"
     },
     "execution_count": 61,
     "metadata": {},
     "output_type": "execute_result"
    }
   ],
   "source": [
    "df.groupby([\"store\", \"item\", \"month\"]).agg({\"sales\": [\"sum\", \"mean\", \"median\", \"std\"]})"
   ],
   "metadata": {
    "collapsed": false
   }
  },
  {
   "cell_type": "markdown",
   "source": [
    "**Random Noise**"
   ],
   "metadata": {
    "collapsed": false
   }
  },
  {
   "cell_type": "code",
   "execution_count": 62,
   "outputs": [],
   "source": [
    "def random_noise(dataframe):\n",
    "    return np.random.normal(scale=1.6, size=(len(dataframe),))"
   ],
   "metadata": {
    "collapsed": false
   }
  },
  {
   "cell_type": "markdown",
   "source": [
    "**Lag/Shifted Features**"
   ],
   "metadata": {
    "collapsed": false
   }
  },
  {
   "cell_type": "code",
   "execution_count": 63,
   "outputs": [],
   "source": [
    "df.sort_values(by=['store', 'item', 'date'], axis=0, inplace=True)"
   ],
   "metadata": {
    "collapsed": false
   }
  },
  {
   "cell_type": "code",
   "execution_count": 64,
   "outputs": [],
   "source": [
    "def lag_features(dataframe, lags):\n",
    "    for lag in lags:\n",
    "        dataframe['sales_lag_' + str(lag)] = dataframe.groupby([\"store\", \"item\"])['sales'].transform(\n",
    "            lambda x: x.shift(lag)) + random_noise(dataframe)\n",
    "    return dataframe"
   ],
   "metadata": {
    "collapsed": false
   }
  },
  {
   "cell_type": "code",
   "execution_count": 65,
   "outputs": [
    {
     "name": "stdout",
     "output_type": "stream",
     "text": [
      "##################### Shape #####################\n",
      "(958023, 24)\n",
      "##################### Types #####################\n",
      "date              datetime64[ns]\n",
      "store                      int64\n",
      "item                       int64\n",
      "sales                    float64\n",
      "id                       float64\n",
      "month                      int64\n",
      "day_of_month               int64\n",
      "day_of_year                int64\n",
      "week_of_year               int64\n",
      "day_of_week                int64\n",
      "year                       int64\n",
      "is_wknd                    int64\n",
      "is_month_start             int32\n",
      "is_month_end               int32\n",
      "sales_lag_91             float64\n",
      "sales_lag_98             float64\n",
      "sales_lag_105            float64\n",
      "sales_lag_112            float64\n",
      "sales_lag_119            float64\n",
      "sales_lag_126            float64\n",
      "sales_lag_182            float64\n",
      "sales_lag_364            float64\n",
      "sales_lag_546            float64\n",
      "sales_lag_728            float64\n",
      "dtype: object\n",
      "##################### Head #####################\n",
      "         date  store  item  sales  id  month  day_of_month  day_of_year  week_of_year  day_of_week  year  is_wknd  is_month_start  is_month_end  sales_lag_91  sales_lag_98  sales_lag_105  sales_lag_112  sales_lag_119  sales_lag_126  sales_lag_182  sales_lag_364  sales_lag_546  sales_lag_728\n",
      "0  2013-01-01      1     1   13.0 NaN      1             1            1             1            1  2013        0               1             0           NaN           NaN            NaN            NaN            NaN            NaN            NaN            NaN            NaN            NaN\n",
      "24 2013-01-01      1     1   13.0 NaN      1             1            1             1            1  2013        0               1             0           NaN           NaN            NaN            NaN            NaN            NaN            NaN            NaN            NaN            NaN\n",
      "1  2013-01-02      1     1   11.0 NaN      1             2            2             1            2  2013        0               0             0           NaN           NaN            NaN            NaN            NaN            NaN            NaN            NaN            NaN            NaN\n",
      "25 2013-01-02      1     1   11.0 NaN      1             2            2             1            2  2013        0               0             0           NaN           NaN            NaN            NaN            NaN            NaN            NaN            NaN            NaN            NaN\n",
      "2  2013-01-03      1     1   14.0 NaN      1             3            3             1            3  2013        0               0             0           NaN           NaN            NaN            NaN            NaN            NaN            NaN            NaN            NaN            NaN\n",
      "##################### Tail #####################\n",
      "            date  store  item  sales       id  month  day_of_month  day_of_year  week_of_year  day_of_week  year  is_wknd  is_month_start  is_month_end  sales_lag_91  sales_lag_98  sales_lag_105  sales_lag_112  sales_lag_119  sales_lag_126  sales_lag_182  sales_lag_364  sales_lag_546  sales_lag_728\n",
      "44995 2018-03-27     10    50    NaN  44995.0      3            27           86            13            1  2018        0               0             0     40.912960     53.497906      68.128784      67.448275      66.404635      79.960015      80.134407      57.655564      94.620587      74.037063\n",
      "44996 2018-03-28     10    50    NaN  44996.0      3            28           87            13            2  2018        0               0             0     65.026335     53.504049      69.037328      63.023352      76.085457      79.984190      81.873612      74.646715      79.171510      68.665939\n",
      "44997 2018-03-29     10    50    NaN  44997.0      3            29           88            13            3  2018        0               0             0     59.789766     61.450057      70.853245      66.873342      74.318526      86.009441      83.799763      69.583255      99.317472      75.355552\n",
      "44998 2018-03-30     10    50    NaN  44998.0      3            30           89            13            4  2018        1               0             0     73.835956     75.607373      72.338883      70.645568      63.282256      80.033074      89.401878      67.703982      80.060090      82.216243\n",
      "44999 2018-03-31     10    50    NaN  44999.0      3            31           90            13            5  2018        1               0             1     60.025558     71.183289      51.796236      67.720276      48.809418      75.040318     103.772358     101.118243      98.400605      82.948522\n",
      "##################### NA #####################\n",
      "date                   0\n",
      "store                  0\n",
      "item                   0\n",
      "sales              45000\n",
      "id                913023\n",
      "month                  0\n",
      "day_of_month           0\n",
      "day_of_year            0\n",
      "week_of_year           0\n",
      "day_of_week            0\n",
      "year                   0\n",
      "is_wknd                0\n",
      "is_month_start         0\n",
      "is_month_end           0\n",
      "sales_lag_91       45500\n",
      "sales_lag_98       49000\n",
      "sales_lag_105      52500\n",
      "sales_lag_112      56000\n",
      "sales_lag_119      59500\n",
      "sales_lag_126      63000\n",
      "sales_lag_182      91000\n",
      "sales_lag_364     182000\n",
      "sales_lag_546     273000\n",
      "sales_lag_728     364000\n",
      "dtype: int64\n",
      "##################### Quantiles #####################\n",
      "                       0.00         0.05          0.50          0.95          0.99          1.00\n",
      "store              1.000000     1.000000      5.000000     10.000000     10.000000     10.000000\n",
      "item               1.000000     3.000000     25.000000     48.000000     50.000000     50.000000\n",
      "sales              0.000000    16.000000     47.000000    107.000000    135.000000    231.000000\n",
      "id                 0.000000  2249.950000  22499.500000  42749.050000  44549.010000  44999.000000\n",
      "month              1.000000     1.000000      6.000000     12.000000     12.000000     12.000000\n",
      "day_of_month       1.000000     2.000000     16.000000     29.000000     31.000000     31.000000\n",
      "day_of_year        1.000000    16.000000    174.000000    347.000000    362.000000    366.000000\n",
      "week_of_year       1.000000     3.000000     25.000000     50.000000     52.000000     53.000000\n",
      "day_of_week        0.000000     0.000000      3.000000      6.000000      6.000000      6.000000\n",
      "year            2013.000000  2013.000000   2015.000000   2017.000000   2018.000000   2018.000000\n",
      "is_wknd            0.000000     0.000000      0.000000      1.000000      1.000000      1.000000\n",
      "is_month_start     0.000000     0.000000      0.000000      0.000000      1.000000      1.000000\n",
      "is_month_end       0.000000     0.000000      0.000000      0.000000      1.000000      1.000000\n",
      "sales_lag_91      -1.717514    15.467753     46.936131    107.383303    134.698261    230.789491\n",
      "sales_lag_98      -2.050987    15.457690     46.969855    107.489192    134.784958    231.146090\n",
      "sales_lag_105     -2.359533    15.446007     46.996346    107.547081    134.778595    231.571695\n",
      "sales_lag_112     -2.038890    15.449119     47.027595    107.590554    134.888431    229.503310\n",
      "sales_lag_119     -2.427561    15.472109     47.042673    107.690390    134.877024    230.299219\n",
      "sales_lag_126     -2.348633    15.483876     47.019188    107.703771    134.924375    234.054646\n",
      "sales_lag_182     -1.940037    15.379191     46.775305    107.339114    134.795575    233.710081\n",
      "sales_lag_364     -3.411643    14.932656     45.334974    103.221960    129.439194    214.513037\n",
      "sales_lag_546     -1.087777    14.880353     45.344235    103.852260    130.257835    214.658501\n",
      "sales_lag_728     -0.932693    14.346424     43.572301     98.739910    123.250326    197.769052\n",
      "##################### Shape #####################\n",
      "(958023, 24)\n",
      "##################### Types #####################\n",
      "date              datetime64[ns]\n",
      "store                      int64\n",
      "item                       int64\n",
      "sales                    float64\n",
      "id                       float64\n",
      "month                      int64\n",
      "day_of_month               int64\n",
      "day_of_year                int64\n",
      "week_of_year               int64\n",
      "day_of_week                int64\n",
      "year                       int64\n",
      "is_wknd                    int64\n",
      "is_month_start             int32\n",
      "is_month_end               int32\n",
      "sales_lag_91             float64\n",
      "sales_lag_98             float64\n",
      "sales_lag_105            float64\n",
      "sales_lag_112            float64\n",
      "sales_lag_119            float64\n",
      "sales_lag_126            float64\n",
      "sales_lag_182            float64\n",
      "sales_lag_364            float64\n",
      "sales_lag_546            float64\n",
      "sales_lag_728            float64\n",
      "dtype: object\n",
      "##################### Head #####################\n",
      "         date  store  item  sales  id  month  day_of_month  day_of_year  week_of_year  day_of_week  year  is_wknd  is_month_start  is_month_end  sales_lag_91  sales_lag_98  sales_lag_105  sales_lag_112  sales_lag_119  sales_lag_126  sales_lag_182  sales_lag_364  sales_lag_546  sales_lag_728\n",
      "0  2013-01-01      1     1   13.0 NaN      1             1            1             1            1  2013        0               1             0           NaN           NaN            NaN            NaN            NaN            NaN            NaN            NaN            NaN            NaN\n",
      "24 2013-01-01      1     1   13.0 NaN      1             1            1             1            1  2013        0               1             0           NaN           NaN            NaN            NaN            NaN            NaN            NaN            NaN            NaN            NaN\n",
      "1  2013-01-02      1     1   11.0 NaN      1             2            2             1            2  2013        0               0             0           NaN           NaN            NaN            NaN            NaN            NaN            NaN            NaN            NaN            NaN\n",
      "25 2013-01-02      1     1   11.0 NaN      1             2            2             1            2  2013        0               0             0           NaN           NaN            NaN            NaN            NaN            NaN            NaN            NaN            NaN            NaN\n",
      "2  2013-01-03      1     1   14.0 NaN      1             3            3             1            3  2013        0               0             0           NaN           NaN            NaN            NaN            NaN            NaN            NaN            NaN            NaN            NaN\n",
      "##################### Tail #####################\n",
      "            date  store  item  sales       id  month  day_of_month  day_of_year  week_of_year  day_of_week  year  is_wknd  is_month_start  is_month_end  sales_lag_91  sales_lag_98  sales_lag_105  sales_lag_112  sales_lag_119  sales_lag_126  sales_lag_182  sales_lag_364  sales_lag_546  sales_lag_728\n",
      "44995 2018-03-27     10    50    NaN  44995.0      3            27           86            13            1  2018        0               0             0     42.404543     54.415110      67.564221      69.874074      70.444520      78.762114      81.037075      57.431557      97.347539      74.301188\n",
      "44996 2018-03-28     10    50    NaN  44996.0      3            28           87            13            2  2018        0               0             0     63.550876     49.454431      66.463829      61.229898      76.250378      79.562259      82.236058      74.328129      79.603984      68.666942\n",
      "44997 2018-03-29     10    50    NaN  44997.0      3            29           88            13            3  2018        0               0             0     59.180313     62.660187      69.200374      65.713735      71.679134      87.528039      83.544743      66.824460      97.079707      73.673479\n",
      "44998 2018-03-30     10    50    NaN  44998.0      3            30           89            13            4  2018        1               0             0     73.438435     75.750007      71.580377      67.335350      66.331764      83.176356      89.730837      72.211497      81.063340      82.744463\n",
      "44999 2018-03-31     10    50    NaN  44999.0      3            31           90            13            5  2018        1               0             1     61.622726     72.774932      51.833452      68.360373      46.791720      77.322386     104.161699     102.318002      96.858345      82.754090\n",
      "##################### NA #####################\n",
      "date                   0\n",
      "store                  0\n",
      "item                   0\n",
      "sales              45000\n",
      "id                913023\n",
      "month                  0\n",
      "day_of_month           0\n",
      "day_of_year            0\n",
      "week_of_year           0\n",
      "day_of_week            0\n",
      "year                   0\n",
      "is_wknd                0\n",
      "is_month_start         0\n",
      "is_month_end           0\n",
      "sales_lag_91       45500\n",
      "sales_lag_98       49000\n",
      "sales_lag_105      52500\n",
      "sales_lag_112      56000\n",
      "sales_lag_119      59500\n",
      "sales_lag_126      63000\n",
      "sales_lag_182      91000\n",
      "sales_lag_364     182000\n",
      "sales_lag_546     273000\n",
      "sales_lag_728     364000\n",
      "dtype: int64\n",
      "##################### Quantiles #####################\n",
      "                       0.00         0.05          0.50          0.95          0.99          1.00\n",
      "store              1.000000     1.000000      5.000000     10.000000     10.000000     10.000000\n",
      "item               1.000000     3.000000     25.000000     48.000000     50.000000     50.000000\n",
      "sales              0.000000    16.000000     47.000000    107.000000    135.000000    231.000000\n",
      "id                 0.000000  2249.950000  22499.500000  42749.050000  44549.010000  44999.000000\n",
      "month              1.000000     1.000000      6.000000     12.000000     12.000000     12.000000\n",
      "day_of_month       1.000000     2.000000     16.000000     29.000000     31.000000     31.000000\n",
      "day_of_year        1.000000    16.000000    174.000000    347.000000    362.000000    366.000000\n",
      "week_of_year       1.000000     3.000000     25.000000     50.000000     52.000000     53.000000\n",
      "day_of_week        0.000000     0.000000      3.000000      6.000000      6.000000      6.000000\n",
      "year            2013.000000  2013.000000   2015.000000   2017.000000   2018.000000   2018.000000\n",
      "is_wknd            0.000000     0.000000      0.000000      1.000000      1.000000      1.000000\n",
      "is_month_start     0.000000     0.000000      0.000000      0.000000      1.000000      1.000000\n",
      "is_month_end       0.000000     0.000000      0.000000      0.000000      1.000000      1.000000\n",
      "sales_lag_91      -2.851696    15.460962     46.942303    107.425137    134.695679    231.703512\n",
      "sales_lag_98      -2.410301    15.448584     46.966284    107.519661    134.755468    232.665360\n",
      "sales_lag_105     -1.560414    15.486295     46.980343    107.538447    134.807990    229.937446\n",
      "sales_lag_112     -1.758591    15.492800     47.029082    107.604790    134.827616    229.980432\n",
      "sales_lag_119     -1.930789    15.486493     47.041379    107.656007    134.984616    229.931794\n",
      "sales_lag_126     -0.785842    15.469776     47.024818    107.674560    135.000159    229.551757\n",
      "sales_lag_182     -1.610381    15.379508     46.779807    107.348256    134.887419    227.713171\n",
      "sales_lag_364     -2.080631    14.943419     45.322170    103.196607    129.419634    216.602975\n",
      "sales_lag_546     -0.891597    14.896800     45.359631    103.864824    130.208240    215.034695\n",
      "sales_lag_728     -2.428614    14.363710     43.560128     98.680910    123.287411    197.360379\n"
     ]
    }
   ],
   "source": [
    "df = lag_features(df, [91, 98, 105, 112, 119, 126, 182, 364, 546, 728])\n",
    "check_df(df)"
   ],
   "metadata": {
    "collapsed": false
   }
  },
  {
   "cell_type": "markdown",
   "source": [
    "**Rolling Mean Features**"
   ],
   "metadata": {
    "collapsed": false
   }
  },
  {
   "cell_type": "code",
   "execution_count": 66,
   "outputs": [],
   "source": [
    "def roll_mean_features(dataframe, windows):\n",
    "    for window in windows:\n",
    "        dataframe['sales_roll_mean_' + str(window)] = dataframe.groupby([\"store\", \"item\"])['sales']. \\\n",
    "                                                          transform(\n",
    "            lambda x: x.shift(1).rolling(window=window, min_periods=10, win_type=\"triang\").mean()) + random_noise(\n",
    "            dataframe)\n",
    "    return dataframe"
   ],
   "metadata": {
    "collapsed": false
   }
  },
  {
   "cell_type": "code",
   "execution_count": 67,
   "outputs": [],
   "source": [
    "df = roll_mean_features(df, [365, 546])"
   ],
   "metadata": {
    "collapsed": false
   }
  },
  {
   "cell_type": "markdown",
   "source": [
    "**Exponentially Weighted Mean Features**"
   ],
   "metadata": {
    "collapsed": false
   }
  },
  {
   "cell_type": "code",
   "execution_count": 68,
   "outputs": [],
   "source": [
    "def ewm_features(dataframe, alphas, lags):\n",
    "    for alpha in alphas:\n",
    "        for lag in lags:\n",
    "            dataframe['sales_ewm_alpha_' + str(alpha).replace(\".\", \"\") + \"_lag_\" + str(lag)] = \\\n",
    "                dataframe.groupby([\"store\", \"item\"])['sales'].transform(lambda x: x.shift(lag).ewm(alpha=alpha).mean())\n",
    "    return dataframe"
   ],
   "metadata": {
    "collapsed": false
   }
  },
  {
   "cell_type": "code",
   "execution_count": 69,
   "outputs": [],
   "source": [
    "alphas = [0.95, 0.9, 0.8, 0.7, 0.5]\n",
    "lags = [91, 98, 105, 112, 180, 270, 365, 546, 728]"
   ],
   "metadata": {
    "collapsed": false
   }
  },
  {
   "cell_type": "code",
   "execution_count": 70,
   "outputs": [
    {
     "name": "stdout",
     "output_type": "stream",
     "text": [
      "##################### Shape #####################\n",
      "(958023, 71)\n",
      "##################### Types #####################\n",
      "date                          datetime64[ns]\n",
      "store                                  int64\n",
      "item                                   int64\n",
      "sales                                float64\n",
      "id                                   float64\n",
      "                                   ...      \n",
      "sales_ewm_alpha_05_lag_180           float64\n",
      "sales_ewm_alpha_05_lag_270           float64\n",
      "sales_ewm_alpha_05_lag_365           float64\n",
      "sales_ewm_alpha_05_lag_546           float64\n",
      "sales_ewm_alpha_05_lag_728           float64\n",
      "Length: 71, dtype: object\n",
      "##################### Head #####################\n",
      "         date  store  item  sales  id  month  day_of_month  day_of_year  week_of_year  day_of_week  year  is_wknd  is_month_start  is_month_end  sales_lag_91  sales_lag_98  sales_lag_105  sales_lag_112  sales_lag_119  sales_lag_126  sales_lag_182  sales_lag_364  sales_lag_546  sales_lag_728  sales_roll_mean_365  sales_roll_mean_546  sales_ewm_alpha_095_lag_91  sales_ewm_alpha_095_lag_98  sales_ewm_alpha_095_lag_105  sales_ewm_alpha_095_lag_112  sales_ewm_alpha_095_lag_180  \\\n",
      "0  2013-01-01      1     1   13.0 NaN      1             1            1             1            1  2013        0               1             0           NaN           NaN            NaN            NaN            NaN            NaN            NaN            NaN            NaN            NaN                  NaN                  NaN                         NaN                         NaN                          NaN                          NaN                          NaN   \n",
      "24 2013-01-01      1     1   13.0 NaN      1             1            1             1            1  2013        0               1             0           NaN           NaN            NaN            NaN            NaN            NaN            NaN            NaN            NaN            NaN                  NaN                  NaN                         NaN                         NaN                          NaN                          NaN                          NaN   \n",
      "1  2013-01-02      1     1   11.0 NaN      1             2            2             1            2  2013        0               0             0           NaN           NaN            NaN            NaN            NaN            NaN            NaN            NaN            NaN            NaN                  NaN                  NaN                         NaN                         NaN                          NaN                          NaN                          NaN   \n",
      "25 2013-01-02      1     1   11.0 NaN      1             2            2             1            2  2013        0               0             0           NaN           NaN            NaN            NaN            NaN            NaN            NaN            NaN            NaN            NaN                  NaN                  NaN                         NaN                         NaN                          NaN                          NaN                          NaN   \n",
      "2  2013-01-03      1     1   14.0 NaN      1             3            3             1            3  2013        0               0             0           NaN           NaN            NaN            NaN            NaN            NaN            NaN            NaN            NaN            NaN                  NaN                  NaN                         NaN                         NaN                          NaN                          NaN                          NaN   \n",
      "\n",
      "    sales_ewm_alpha_095_lag_270  sales_ewm_alpha_095_lag_365  sales_ewm_alpha_095_lag_546  sales_ewm_alpha_095_lag_728  sales_ewm_alpha_09_lag_91  sales_ewm_alpha_09_lag_98  sales_ewm_alpha_09_lag_105  sales_ewm_alpha_09_lag_112  sales_ewm_alpha_09_lag_180  sales_ewm_alpha_09_lag_270  sales_ewm_alpha_09_lag_365  sales_ewm_alpha_09_lag_546  sales_ewm_alpha_09_lag_728  sales_ewm_alpha_08_lag_91  sales_ewm_alpha_08_lag_98  sales_ewm_alpha_08_lag_105  sales_ewm_alpha_08_lag_112  \\\n",
      "0                           NaN                          NaN                          NaN                          NaN                        NaN                        NaN                         NaN                         NaN                         NaN                         NaN                         NaN                         NaN                         NaN                        NaN                        NaN                         NaN                         NaN   \n",
      "24                          NaN                          NaN                          NaN                          NaN                        NaN                        NaN                         NaN                         NaN                         NaN                         NaN                         NaN                         NaN                         NaN                        NaN                        NaN                         NaN                         NaN   \n",
      "1                           NaN                          NaN                          NaN                          NaN                        NaN                        NaN                         NaN                         NaN                         NaN                         NaN                         NaN                         NaN                         NaN                        NaN                        NaN                         NaN                         NaN   \n",
      "25                          NaN                          NaN                          NaN                          NaN                        NaN                        NaN                         NaN                         NaN                         NaN                         NaN                         NaN                         NaN                         NaN                        NaN                        NaN                         NaN                         NaN   \n",
      "2                           NaN                          NaN                          NaN                          NaN                        NaN                        NaN                         NaN                         NaN                         NaN                         NaN                         NaN                         NaN                         NaN                        NaN                        NaN                         NaN                         NaN   \n",
      "\n",
      "    sales_ewm_alpha_08_lag_180  sales_ewm_alpha_08_lag_270  sales_ewm_alpha_08_lag_365  sales_ewm_alpha_08_lag_546  sales_ewm_alpha_08_lag_728  sales_ewm_alpha_07_lag_91  sales_ewm_alpha_07_lag_98  sales_ewm_alpha_07_lag_105  sales_ewm_alpha_07_lag_112  sales_ewm_alpha_07_lag_180  sales_ewm_alpha_07_lag_270  sales_ewm_alpha_07_lag_365  sales_ewm_alpha_07_lag_546  sales_ewm_alpha_07_lag_728  sales_ewm_alpha_05_lag_91  sales_ewm_alpha_05_lag_98  sales_ewm_alpha_05_lag_105  \\\n",
      "0                          NaN                         NaN                         NaN                         NaN                         NaN                        NaN                        NaN                         NaN                         NaN                         NaN                         NaN                         NaN                         NaN                         NaN                        NaN                        NaN                         NaN   \n",
      "24                         NaN                         NaN                         NaN                         NaN                         NaN                        NaN                        NaN                         NaN                         NaN                         NaN                         NaN                         NaN                         NaN                         NaN                        NaN                        NaN                         NaN   \n",
      "1                          NaN                         NaN                         NaN                         NaN                         NaN                        NaN                        NaN                         NaN                         NaN                         NaN                         NaN                         NaN                         NaN                         NaN                        NaN                        NaN                         NaN   \n",
      "25                         NaN                         NaN                         NaN                         NaN                         NaN                        NaN                        NaN                         NaN                         NaN                         NaN                         NaN                         NaN                         NaN                         NaN                        NaN                        NaN                         NaN   \n",
      "2                          NaN                         NaN                         NaN                         NaN                         NaN                        NaN                        NaN                         NaN                         NaN                         NaN                         NaN                         NaN                         NaN                         NaN                        NaN                        NaN                         NaN   \n",
      "\n",
      "    sales_ewm_alpha_05_lag_112  sales_ewm_alpha_05_lag_180  sales_ewm_alpha_05_lag_270  sales_ewm_alpha_05_lag_365  sales_ewm_alpha_05_lag_546  sales_ewm_alpha_05_lag_728  \n",
      "0                          NaN                         NaN                         NaN                         NaN                         NaN                         NaN  \n",
      "24                         NaN                         NaN                         NaN                         NaN                         NaN                         NaN  \n",
      "1                          NaN                         NaN                         NaN                         NaN                         NaN                         NaN  \n",
      "25                         NaN                         NaN                         NaN                         NaN                         NaN                         NaN  \n",
      "2                          NaN                         NaN                         NaN                         NaN                         NaN                         NaN  \n",
      "##################### Tail #####################\n",
      "            date  store  item  sales       id  month  day_of_month  day_of_year  week_of_year  day_of_week  year  is_wknd  is_month_start  is_month_end  sales_lag_91  sales_lag_98  sales_lag_105  sales_lag_112  sales_lag_119  sales_lag_126  sales_lag_182  sales_lag_364  sales_lag_546  sales_lag_728  sales_roll_mean_365  sales_roll_mean_546  sales_ewm_alpha_095_lag_91  sales_ewm_alpha_095_lag_98  sales_ewm_alpha_095_lag_105  sales_ewm_alpha_095_lag_112  sales_ewm_alpha_095_lag_180  \\\n",
      "44995 2018-03-27     10    50    NaN  44995.0      3            27           86            13            1  2018        0               0             0     40.912960     53.497906      68.128784      67.448275      66.404635      79.960015      80.134407      57.655564      94.620587      74.037063            87.059758            89.189604                   41.561777                   54.028375                    66.387487                    67.349358                    81.895724   \n",
      "44996 2018-03-28     10    50    NaN  44996.0      3            28           87            13            2  2018        0               0             0     65.026335     53.504049      69.037328      63.023352      76.085457      79.984190      81.873612      74.646715      79.171510      68.665939            87.844849            82.358679                   61.928089                   51.151419                    66.969374                    60.367468                    89.594786   \n",
      "44997 2018-03-29     10    50    NaN  44997.0      3            29           88            13            3  2018        0               0             0     59.789766     61.450057      70.853245      66.873342      74.318526      86.009441      83.799763      69.583255      99.317472      75.355552            89.090524            83.474434                   59.146404                   62.407571                    71.748469                    65.718373                   102.329739   \n",
      "44998 2018-03-30     10    50    NaN  44998.0      3            30           89            13            4  2018        1               0             0     73.835956     75.607373      72.338883      70.645568      63.282256      80.033074      89.401878      67.703982      80.060090      82.216243            89.593037            86.112513                   73.257320                   74.370379                    71.987423                    66.935919                    99.166487   \n",
      "44999 2018-03-31     10    50    NaN  44999.0      3            31           90            13            5  2018        1               0             1     60.025558     71.183289      51.796236      67.720276      48.809418      75.040318     103.772358     101.118243      98.400605      82.948522            86.802016            85.836648                   62.562866                   70.218519                    52.999371                    68.896796                    72.408324   \n",
      "\n",
      "       sales_ewm_alpha_095_lag_270  sales_ewm_alpha_095_lag_365  sales_ewm_alpha_095_lag_546  sales_ewm_alpha_095_lag_728  sales_ewm_alpha_09_lag_91  sales_ewm_alpha_09_lag_98  sales_ewm_alpha_09_lag_105  sales_ewm_alpha_09_lag_112  sales_ewm_alpha_09_lag_180  sales_ewm_alpha_09_lag_270  sales_ewm_alpha_09_lag_365  sales_ewm_alpha_09_lag_546  sales_ewm_alpha_09_lag_728  sales_ewm_alpha_08_lag_91  sales_ewm_alpha_08_lag_98  sales_ewm_alpha_08_lag_105  sales_ewm_alpha_08_lag_112  \\\n",
      "44995                   112.421502                    66.744209                    94.617783                    71.979468                  42.244368                  54.197995                   65.849785                   66.785772                   81.777579                  112.682169                   67.473304                   92.561560                   71.115472                  43.955442                  54.879654                   64.996171                   65.861563   \n",
      "44996                   118.671075                    60.337210                    80.730889                    68.198973                  60.924437                  51.319799                   66.884978                   60.678577                   89.177758                  118.368217                   60.747330                   81.256156                   68.311547                  59.191088                  51.775931                   66.599234                   61.172313   \n",
      "44997                   119.933554                    72.366861                    98.086544                    74.659949                  59.192444                  61.831980                   71.488498                   65.467858                  101.617776                  119.836822                   71.774733                   97.225616                   74.331155                  59.038218                  60.755186                   70.919847                   65.034463   \n",
      "44998                   100.046678                    68.218343                    79.954327                    82.582997                  72.519244                  73.683198                   71.948850                   66.846786                   99.261778                  101.083682                   68.377473                   80.822562                   82.133115                  71.007644                  72.151037                   71.783969                   66.606893   \n",
      "44999                    98.102334                    68.960917                    96.147716                    82.029150                  63.051924                  70.368320                   53.994885                   68.784679                   73.826178                   98.308368                   68.937747                   95.382256                   82.013312                  63.801529                  70.430207                   55.956794                   68.521379   \n",
      "\n",
      "       sales_ewm_alpha_08_lag_180  sales_ewm_alpha_08_lag_270  sales_ewm_alpha_08_lag_365  sales_ewm_alpha_08_lag_546  sales_ewm_alpha_08_lag_728  sales_ewm_alpha_07_lag_91  sales_ewm_alpha_07_lag_98  sales_ewm_alpha_07_lag_105  sales_ewm_alpha_07_lag_112  sales_ewm_alpha_07_lag_180  sales_ewm_alpha_07_lag_270  sales_ewm_alpha_07_lag_365  sales_ewm_alpha_07_lag_546  sales_ewm_alpha_07_lag_728  sales_ewm_alpha_05_lag_91  sales_ewm_alpha_05_lag_98  sales_ewm_alpha_05_lag_105  \\\n",
      "44995                   81.488819                  112.703381                   68.859556                   89.361543                   69.838571                  46.091666                  55.909793                   64.428121                   65.144155                   81.162051                  112.055216                   70.090358                   87.248414                   69.116907                  51.309755                  58.648702                   64.033868   \n",
      "44996                   88.297764                  117.740676                   61.771911                   81.872309                   68.367714                  57.927500                  52.472938                   66.228436                   61.543247                   87.348615                  116.916565                   63.027108                   82.174524                   68.335072                  57.154878                  54.824351                   65.516934   \n",
      "44997                  100.059553                  119.548135                   70.754382                   95.574462                   73.673543                  58.678250                  59.841881                   70.268531                   64.662974                   98.304585                  119.074969                   70.008132                   93.952357                   73.000522                  58.077439                  58.912176                   68.758467   \n",
      "44998                   99.211911                  103.109627                   68.550876                   82.314892                   81.134709                  69.403475                  70.452564                   71.480559                   66.298892                   98.791375                  105.022491                   68.602440                   83.485707                   80.000156                  66.038719                  66.956088                   70.379233   \n",
      "44999                   76.642382                   99.021925                   68.910175                   94.062978                   81.826942                  64.221042                  70.135769                   57.844168                   68.189668                   79.337413                  100.106747                   68.880732                   92.945712                   81.400047                  64.019360                  68.478044                   61.189617   \n",
      "\n",
      "       sales_ewm_alpha_05_lag_112  sales_ewm_alpha_05_lag_180  sales_ewm_alpha_05_lag_270  sales_ewm_alpha_05_lag_365  sales_ewm_alpha_05_lag_546  sales_ewm_alpha_05_lag_728  \n",
      "44995                   64.335072                   80.828687                  109.036310                   71.734958                   85.489012                   68.933911  \n",
      "44996                   62.167536                   85.414343                  114.018155                   65.867479                   82.744506                   68.466956  \n",
      "44997                   64.083768                   94.207172                  117.009078                   69.433740                   90.872253                   71.733478  \n",
      "44998                   65.541884                   96.603586                  108.004539                   68.716870                   84.936127                   77.366739  \n",
      "44999                   67.270942                   83.801793                  103.002269                   68.858435                   90.968063                   79.683369  \n",
      "##################### NA #####################\n",
      "date                               0\n",
      "store                              0\n",
      "item                               0\n",
      "sales                          45000\n",
      "id                            913023\n",
      "                               ...  \n",
      "sales_ewm_alpha_05_lag_180     90000\n",
      "sales_ewm_alpha_05_lag_270    135000\n",
      "sales_ewm_alpha_05_lag_365    182500\n",
      "sales_ewm_alpha_05_lag_546    273000\n",
      "sales_ewm_alpha_05_lag_728    364000\n",
      "Length: 71, dtype: int64\n",
      "##################### Quantiles #####################\n",
      "                            0.00         0.05          0.50          0.95          0.99          1.00\n",
      "store                        1.0     1.000000      5.000000     10.000000     10.000000     10.000000\n",
      "item                         1.0     3.000000     25.000000     48.000000     50.000000     50.000000\n",
      "sales                        0.0    16.000000     47.000000    107.000000    135.000000    231.000000\n",
      "id                           0.0  2249.950000  22499.500000  42749.050000  44549.010000  44999.000000\n",
      "month                        1.0     1.000000      6.000000     12.000000     12.000000     12.000000\n",
      "...                          ...          ...           ...           ...           ...           ...\n",
      "sales_ewm_alpha_05_lag_180   2.0    16.719188     47.286573    104.519914    128.183825    201.730822\n",
      "sales_ewm_alpha_05_lag_270   2.0    16.519215     46.595624    102.578013    125.636433    201.730822\n",
      "sales_ewm_alpha_05_lag_365   2.0    16.286700     45.836602    100.339350    122.828465    188.015215\n",
      "sales_ewm_alpha_05_lag_546   2.0    16.226134     45.861098    100.980233    123.793736    188.015215\n",
      "sales_ewm_alpha_05_lag_728   2.0    15.694145     44.091707     95.922082    116.842325    178.776611\n",
      "\n",
      "[70 rows x 6 columns]\n",
      "##################### Shape #####################\n",
      "(958023, 71)\n",
      "##################### Types #####################\n",
      "date                          datetime64[ns]\n",
      "store                                  int64\n",
      "item                                   int64\n",
      "sales                                float64\n",
      "id                                   float64\n",
      "                                   ...      \n",
      "sales_ewm_alpha_05_lag_180           float64\n",
      "sales_ewm_alpha_05_lag_270           float64\n",
      "sales_ewm_alpha_05_lag_365           float64\n",
      "sales_ewm_alpha_05_lag_546           float64\n",
      "sales_ewm_alpha_05_lag_728           float64\n",
      "Length: 71, dtype: object\n",
      "##################### Head #####################\n",
      "         date  store  item  sales  id  month  day_of_month  day_of_year  week_of_year  day_of_week  year  is_wknd  is_month_start  is_month_end  sales_lag_91  sales_lag_98  sales_lag_105  sales_lag_112  sales_lag_119  sales_lag_126  sales_lag_182  sales_lag_364  sales_lag_546  sales_lag_728  sales_roll_mean_365  sales_roll_mean_546  sales_ewm_alpha_095_lag_91  sales_ewm_alpha_095_lag_98  sales_ewm_alpha_095_lag_105  sales_ewm_alpha_095_lag_112  sales_ewm_alpha_095_lag_180  \\\n",
      "0  2013-01-01      1     1   13.0 NaN      1             1            1             1            1  2013        0               1             0           NaN           NaN            NaN            NaN            NaN            NaN            NaN            NaN            NaN            NaN                  NaN                  NaN                         NaN                         NaN                          NaN                          NaN                          NaN   \n",
      "24 2013-01-01      1     1   13.0 NaN      1             1            1             1            1  2013        0               1             0           NaN           NaN            NaN            NaN            NaN            NaN            NaN            NaN            NaN            NaN                  NaN                  NaN                         NaN                         NaN                          NaN                          NaN                          NaN   \n",
      "1  2013-01-02      1     1   11.0 NaN      1             2            2             1            2  2013        0               0             0           NaN           NaN            NaN            NaN            NaN            NaN            NaN            NaN            NaN            NaN                  NaN                  NaN                         NaN                         NaN                          NaN                          NaN                          NaN   \n",
      "25 2013-01-02      1     1   11.0 NaN      1             2            2             1            2  2013        0               0             0           NaN           NaN            NaN            NaN            NaN            NaN            NaN            NaN            NaN            NaN                  NaN                  NaN                         NaN                         NaN                          NaN                          NaN                          NaN   \n",
      "2  2013-01-03      1     1   14.0 NaN      1             3            3             1            3  2013        0               0             0           NaN           NaN            NaN            NaN            NaN            NaN            NaN            NaN            NaN            NaN                  NaN                  NaN                         NaN                         NaN                          NaN                          NaN                          NaN   \n",
      "\n",
      "    sales_ewm_alpha_095_lag_270  sales_ewm_alpha_095_lag_365  sales_ewm_alpha_095_lag_546  sales_ewm_alpha_095_lag_728  sales_ewm_alpha_09_lag_91  sales_ewm_alpha_09_lag_98  sales_ewm_alpha_09_lag_105  sales_ewm_alpha_09_lag_112  sales_ewm_alpha_09_lag_180  sales_ewm_alpha_09_lag_270  sales_ewm_alpha_09_lag_365  sales_ewm_alpha_09_lag_546  sales_ewm_alpha_09_lag_728  sales_ewm_alpha_08_lag_91  sales_ewm_alpha_08_lag_98  sales_ewm_alpha_08_lag_105  sales_ewm_alpha_08_lag_112  \\\n",
      "0                           NaN                          NaN                          NaN                          NaN                        NaN                        NaN                         NaN                         NaN                         NaN                         NaN                         NaN                         NaN                         NaN                        NaN                        NaN                         NaN                         NaN   \n",
      "24                          NaN                          NaN                          NaN                          NaN                        NaN                        NaN                         NaN                         NaN                         NaN                         NaN                         NaN                         NaN                         NaN                        NaN                        NaN                         NaN                         NaN   \n",
      "1                           NaN                          NaN                          NaN                          NaN                        NaN                        NaN                         NaN                         NaN                         NaN                         NaN                         NaN                         NaN                         NaN                        NaN                        NaN                         NaN                         NaN   \n",
      "25                          NaN                          NaN                          NaN                          NaN                        NaN                        NaN                         NaN                         NaN                         NaN                         NaN                         NaN                         NaN                         NaN                        NaN                        NaN                         NaN                         NaN   \n",
      "2                           NaN                          NaN                          NaN                          NaN                        NaN                        NaN                         NaN                         NaN                         NaN                         NaN                         NaN                         NaN                         NaN                        NaN                        NaN                         NaN                         NaN   \n",
      "\n",
      "    sales_ewm_alpha_08_lag_180  sales_ewm_alpha_08_lag_270  sales_ewm_alpha_08_lag_365  sales_ewm_alpha_08_lag_546  sales_ewm_alpha_08_lag_728  sales_ewm_alpha_07_lag_91  sales_ewm_alpha_07_lag_98  sales_ewm_alpha_07_lag_105  sales_ewm_alpha_07_lag_112  sales_ewm_alpha_07_lag_180  sales_ewm_alpha_07_lag_270  sales_ewm_alpha_07_lag_365  sales_ewm_alpha_07_lag_546  sales_ewm_alpha_07_lag_728  sales_ewm_alpha_05_lag_91  sales_ewm_alpha_05_lag_98  sales_ewm_alpha_05_lag_105  \\\n",
      "0                          NaN                         NaN                         NaN                         NaN                         NaN                        NaN                        NaN                         NaN                         NaN                         NaN                         NaN                         NaN                         NaN                         NaN                        NaN                        NaN                         NaN   \n",
      "24                         NaN                         NaN                         NaN                         NaN                         NaN                        NaN                        NaN                         NaN                         NaN                         NaN                         NaN                         NaN                         NaN                         NaN                        NaN                        NaN                         NaN   \n",
      "1                          NaN                         NaN                         NaN                         NaN                         NaN                        NaN                        NaN                         NaN                         NaN                         NaN                         NaN                         NaN                         NaN                         NaN                        NaN                        NaN                         NaN   \n",
      "25                         NaN                         NaN                         NaN                         NaN                         NaN                        NaN                        NaN                         NaN                         NaN                         NaN                         NaN                         NaN                         NaN                         NaN                        NaN                        NaN                         NaN   \n",
      "2                          NaN                         NaN                         NaN                         NaN                         NaN                        NaN                        NaN                         NaN                         NaN                         NaN                         NaN                         NaN                         NaN                         NaN                        NaN                        NaN                         NaN   \n",
      "\n",
      "    sales_ewm_alpha_05_lag_112  sales_ewm_alpha_05_lag_180  sales_ewm_alpha_05_lag_270  sales_ewm_alpha_05_lag_365  sales_ewm_alpha_05_lag_546  sales_ewm_alpha_05_lag_728  \n",
      "0                          NaN                         NaN                         NaN                         NaN                         NaN                         NaN  \n",
      "24                         NaN                         NaN                         NaN                         NaN                         NaN                         NaN  \n",
      "1                          NaN                         NaN                         NaN                         NaN                         NaN                         NaN  \n",
      "25                         NaN                         NaN                         NaN                         NaN                         NaN                         NaN  \n",
      "2                          NaN                         NaN                         NaN                         NaN                         NaN                         NaN  \n",
      "##################### Tail #####################\n",
      "            date  store  item  sales       id  month  day_of_month  day_of_year  week_of_year  day_of_week  year  is_wknd  is_month_start  is_month_end  sales_lag_91  sales_lag_98  sales_lag_105  sales_lag_112  sales_lag_119  sales_lag_126  sales_lag_182  sales_lag_364  sales_lag_546  sales_lag_728  sales_roll_mean_365  sales_roll_mean_546  sales_ewm_alpha_095_lag_91  sales_ewm_alpha_095_lag_98  sales_ewm_alpha_095_lag_105  sales_ewm_alpha_095_lag_112  sales_ewm_alpha_095_lag_180  \\\n",
      "44995 2018-03-27     10    50    NaN  44995.0      3            27           86            13            1  2018        0               0             0     42.404543     54.415110      67.564221      69.874074      70.444520      78.762114      81.037075      57.431557      97.347539      74.301188            89.582341            88.191571                   41.561777                   54.028375                    66.387487                    67.349358                    81.895724   \n",
      "44996 2018-03-28     10    50    NaN  44996.0      3            28           87            13            2  2018        0               0             0     63.550876     49.454431      66.463829      61.229898      76.250378      79.562259      82.236058      74.328129      79.603984      68.666942            88.698377            86.457505                   61.928089                   51.151419                    66.969374                    60.367468                    89.594786   \n",
      "44997 2018-03-29     10    50    NaN  44997.0      3            29           88            13            3  2018        0               0             0     59.180313     62.660187      69.200374      65.713735      71.679134      87.528039      83.544743      66.824460      97.079707      73.673479            88.885126            84.386198                   59.146404                   62.407571                    71.748469                    65.718373                   102.329739   \n",
      "44998 2018-03-30     10    50    NaN  44998.0      3            30           89            13            4  2018        1               0             0     73.438435     75.750007      71.580377      67.335350      66.331764      83.176356      89.730837      72.211497      81.063340      82.744463            88.883431            85.806512                   73.257320                   74.370379                    71.987423                    66.935919                    99.166487   \n",
      "44999 2018-03-31     10    50    NaN  44999.0      3            31           90            13            5  2018        1               0             1     61.622726     72.774932      51.833452      68.360373      46.791720      77.322386     104.161699     102.318002      96.858345      82.754090            90.891725            87.484936                   62.562866                   70.218519                    52.999371                    68.896796                    72.408324   \n",
      "\n",
      "       sales_ewm_alpha_095_lag_270  sales_ewm_alpha_095_lag_365  sales_ewm_alpha_095_lag_546  sales_ewm_alpha_095_lag_728  sales_ewm_alpha_09_lag_91  sales_ewm_alpha_09_lag_98  sales_ewm_alpha_09_lag_105  sales_ewm_alpha_09_lag_112  sales_ewm_alpha_09_lag_180  sales_ewm_alpha_09_lag_270  sales_ewm_alpha_09_lag_365  sales_ewm_alpha_09_lag_546  sales_ewm_alpha_09_lag_728  sales_ewm_alpha_08_lag_91  sales_ewm_alpha_08_lag_98  sales_ewm_alpha_08_lag_105  sales_ewm_alpha_08_lag_112  \\\n",
      "44995                   112.421502                    66.744209                    94.617783                    71.979468                  42.244368                  54.197995                   65.849785                   66.785772                   81.777579                  112.682169                   67.473304                   92.561560                   71.115472                  43.955442                  54.879654                   64.996171                   65.861563   \n",
      "44996                   118.671075                    60.337210                    80.730889                    68.198973                  60.924437                  51.319799                   66.884978                   60.678577                   89.177758                  118.368217                   60.747330                   81.256156                   68.311547                  59.191088                  51.775931                   66.599234                   61.172313   \n",
      "44997                   119.933554                    72.366861                    98.086544                    74.659949                  59.192444                  61.831980                   71.488498                   65.467858                  101.617776                  119.836822                   71.774733                   97.225616                   74.331155                  59.038218                  60.755186                   70.919847                   65.034463   \n",
      "44998                   100.046678                    68.218343                    79.954327                    82.582997                  72.519244                  73.683198                   71.948850                   66.846786                   99.261778                  101.083682                   68.377473                   80.822562                   82.133115                  71.007644                  72.151037                   71.783969                   66.606893   \n",
      "44999                    98.102334                    68.960917                    96.147716                    82.029150                  63.051924                  70.368320                   53.994885                   68.784679                   73.826178                   98.308368                   68.937747                   95.382256                   82.013312                  63.801529                  70.430207                   55.956794                   68.521379   \n",
      "\n",
      "       sales_ewm_alpha_08_lag_180  sales_ewm_alpha_08_lag_270  sales_ewm_alpha_08_lag_365  sales_ewm_alpha_08_lag_546  sales_ewm_alpha_08_lag_728  sales_ewm_alpha_07_lag_91  sales_ewm_alpha_07_lag_98  sales_ewm_alpha_07_lag_105  sales_ewm_alpha_07_lag_112  sales_ewm_alpha_07_lag_180  sales_ewm_alpha_07_lag_270  sales_ewm_alpha_07_lag_365  sales_ewm_alpha_07_lag_546  sales_ewm_alpha_07_lag_728  sales_ewm_alpha_05_lag_91  sales_ewm_alpha_05_lag_98  sales_ewm_alpha_05_lag_105  \\\n",
      "44995                   81.488819                  112.703381                   68.859556                   89.361543                   69.838571                  46.091666                  55.909793                   64.428121                   65.144155                   81.162051                  112.055216                   70.090358                   87.248414                   69.116907                  51.309755                  58.648702                   64.033868   \n",
      "44996                   88.297764                  117.740676                   61.771911                   81.872309                   68.367714                  57.927500                  52.472938                   66.228436                   61.543247                   87.348615                  116.916565                   63.027108                   82.174524                   68.335072                  57.154878                  54.824351                   65.516934   \n",
      "44997                  100.059553                  119.548135                   70.754382                   95.574462                   73.673543                  58.678250                  59.841881                   70.268531                   64.662974                   98.304585                  119.074969                   70.008132                   93.952357                   73.000522                  58.077439                  58.912176                   68.758467   \n",
      "44998                   99.211911                  103.109627                   68.550876                   82.314892                   81.134709                  69.403475                  70.452564                   71.480559                   66.298892                   98.791375                  105.022491                   68.602440                   83.485707                   80.000156                  66.038719                  66.956088                   70.379233   \n",
      "44999                   76.642382                   99.021925                   68.910175                   94.062978                   81.826942                  64.221042                  70.135769                   57.844168                   68.189668                   79.337413                  100.106747                   68.880732                   92.945712                   81.400047                  64.019360                  68.478044                   61.189617   \n",
      "\n",
      "       sales_ewm_alpha_05_lag_112  sales_ewm_alpha_05_lag_180  sales_ewm_alpha_05_lag_270  sales_ewm_alpha_05_lag_365  sales_ewm_alpha_05_lag_546  sales_ewm_alpha_05_lag_728  \n",
      "44995                   64.335072                   80.828687                  109.036310                   71.734958                   85.489012                   68.933911  \n",
      "44996                   62.167536                   85.414343                  114.018155                   65.867479                   82.744506                   68.466956  \n",
      "44997                   64.083768                   94.207172                  117.009078                   69.433740                   90.872253                   71.733478  \n",
      "44998                   65.541884                   96.603586                  108.004539                   68.716870                   84.936127                   77.366739  \n",
      "44999                   67.270942                   83.801793                  103.002269                   68.858435                   90.968063                   79.683369  \n",
      "##################### NA #####################\n",
      "date                               0\n",
      "store                              0\n",
      "item                               0\n",
      "sales                          45000\n",
      "id                            913023\n",
      "                               ...  \n",
      "sales_ewm_alpha_05_lag_180     90000\n",
      "sales_ewm_alpha_05_lag_270    135000\n",
      "sales_ewm_alpha_05_lag_365    182500\n",
      "sales_ewm_alpha_05_lag_546    273000\n",
      "sales_ewm_alpha_05_lag_728    364000\n",
      "Length: 71, dtype: int64\n",
      "##################### Quantiles #####################\n",
      "                            0.00         0.05          0.50          0.95          0.99          1.00\n",
      "store                        1.0     1.000000      5.000000     10.000000     10.000000     10.000000\n",
      "item                         1.0     3.000000     25.000000     48.000000     50.000000     50.000000\n",
      "sales                        0.0    16.000000     47.000000    107.000000    135.000000    231.000000\n",
      "id                           0.0  2249.950000  22499.500000  42749.050000  44549.010000  44999.000000\n",
      "month                        1.0     1.000000      6.000000     12.000000     12.000000     12.000000\n",
      "...                          ...          ...           ...           ...           ...           ...\n",
      "sales_ewm_alpha_05_lag_180   2.0    16.719188     47.286573    104.519914    128.183825    201.730822\n",
      "sales_ewm_alpha_05_lag_270   2.0    16.519215     46.595624    102.578013    125.636433    201.730822\n",
      "sales_ewm_alpha_05_lag_365   2.0    16.286700     45.836602    100.339350    122.828465    188.015215\n",
      "sales_ewm_alpha_05_lag_546   2.0    16.226134     45.861098    100.980233    123.793736    188.015215\n",
      "sales_ewm_alpha_05_lag_728   2.0    15.694145     44.091707     95.922082    116.842325    178.776611\n",
      "\n",
      "[70 rows x 6 columns]\n"
     ]
    }
   ],
   "source": [
    "df = ewm_features(df, alphas, lags)\n",
    "check_df(df)"
   ],
   "metadata": {
    "collapsed": false
   }
  },
  {
   "cell_type": "markdown",
   "source": [
    "**One-Hot Encoding**"
   ],
   "metadata": {
    "collapsed": false
   }
  },
  {
   "cell_type": "code",
   "execution_count": 71,
   "outputs": [
    {
     "name": "stdout",
     "output_type": "stream",
     "text": [
      "##################### Shape #####################\n",
      "(958023, 146)\n",
      "##################### Types #####################\n",
      "date            datetime64[ns]\n",
      "sales                  float64\n",
      "id                     float64\n",
      "day_of_month             int64\n",
      "day_of_year              int64\n",
      "                     ...      \n",
      "month_8                  uint8\n",
      "month_9                  uint8\n",
      "month_10                 uint8\n",
      "month_11                 uint8\n",
      "month_12                 uint8\n",
      "Length: 146, dtype: object\n",
      "##################### Head #####################\n",
      "         date  sales  id  day_of_month  day_of_year  week_of_year  year  is_wknd  is_month_start  is_month_end  sales_lag_91  sales_lag_98  sales_lag_105  sales_lag_112  sales_lag_119  sales_lag_126  sales_lag_182  sales_lag_364  sales_lag_546  sales_lag_728  sales_roll_mean_365  sales_roll_mean_546  sales_ewm_alpha_095_lag_91  sales_ewm_alpha_095_lag_98  sales_ewm_alpha_095_lag_105  sales_ewm_alpha_095_lag_112  sales_ewm_alpha_095_lag_180  sales_ewm_alpha_095_lag_270  \\\n",
      "0  2013-01-01   13.0 NaN             1            1             1  2013        0               1             0           NaN           NaN            NaN            NaN            NaN            NaN            NaN            NaN            NaN            NaN                  NaN                  NaN                         NaN                         NaN                          NaN                          NaN                          NaN                          NaN   \n",
      "24 2013-01-01   13.0 NaN             1            1             1  2013        0               1             0           NaN           NaN            NaN            NaN            NaN            NaN            NaN            NaN            NaN            NaN                  NaN                  NaN                         NaN                         NaN                          NaN                          NaN                          NaN                          NaN   \n",
      "1  2013-01-02   11.0 NaN             2            2             1  2013        0               0             0           NaN           NaN            NaN            NaN            NaN            NaN            NaN            NaN            NaN            NaN                  NaN                  NaN                         NaN                         NaN                          NaN                          NaN                          NaN                          NaN   \n",
      "25 2013-01-02   11.0 NaN             2            2             1  2013        0               0             0           NaN           NaN            NaN            NaN            NaN            NaN            NaN            NaN            NaN            NaN                  NaN                  NaN                         NaN                         NaN                          NaN                          NaN                          NaN                          NaN   \n",
      "2  2013-01-03   14.0 NaN             3            3             1  2013        0               0             0           NaN           NaN            NaN            NaN            NaN            NaN            NaN            NaN            NaN            NaN                  NaN                  NaN                         NaN                         NaN                          NaN                          NaN                          NaN                          NaN   \n",
      "\n",
      "    sales_ewm_alpha_095_lag_365  sales_ewm_alpha_095_lag_546  sales_ewm_alpha_095_lag_728  sales_ewm_alpha_09_lag_91  sales_ewm_alpha_09_lag_98  sales_ewm_alpha_09_lag_105  sales_ewm_alpha_09_lag_112  sales_ewm_alpha_09_lag_180  sales_ewm_alpha_09_lag_270  sales_ewm_alpha_09_lag_365  sales_ewm_alpha_09_lag_546  sales_ewm_alpha_09_lag_728  sales_ewm_alpha_08_lag_91  sales_ewm_alpha_08_lag_98  sales_ewm_alpha_08_lag_105  sales_ewm_alpha_08_lag_112  sales_ewm_alpha_08_lag_180  \\\n",
      "0                           NaN                          NaN                          NaN                        NaN                        NaN                         NaN                         NaN                         NaN                         NaN                         NaN                         NaN                         NaN                        NaN                        NaN                         NaN                         NaN                         NaN   \n",
      "24                          NaN                          NaN                          NaN                        NaN                        NaN                         NaN                         NaN                         NaN                         NaN                         NaN                         NaN                         NaN                        NaN                        NaN                         NaN                         NaN                         NaN   \n",
      "1                           NaN                          NaN                          NaN                        NaN                        NaN                         NaN                         NaN                         NaN                         NaN                         NaN                         NaN                         NaN                        NaN                        NaN                         NaN                         NaN                         NaN   \n",
      "25                          NaN                          NaN                          NaN                        NaN                        NaN                         NaN                         NaN                         NaN                         NaN                         NaN                         NaN                         NaN                        NaN                        NaN                         NaN                         NaN                         NaN   \n",
      "2                           NaN                          NaN                          NaN                        NaN                        NaN                         NaN                         NaN                         NaN                         NaN                         NaN                         NaN                         NaN                        NaN                        NaN                         NaN                         NaN                         NaN   \n",
      "\n",
      "    sales_ewm_alpha_08_lag_270  sales_ewm_alpha_08_lag_365  sales_ewm_alpha_08_lag_546  sales_ewm_alpha_08_lag_728  sales_ewm_alpha_07_lag_91  sales_ewm_alpha_07_lag_98  sales_ewm_alpha_07_lag_105  sales_ewm_alpha_07_lag_112  sales_ewm_alpha_07_lag_180  sales_ewm_alpha_07_lag_270  sales_ewm_alpha_07_lag_365  sales_ewm_alpha_07_lag_546  sales_ewm_alpha_07_lag_728  sales_ewm_alpha_05_lag_91  sales_ewm_alpha_05_lag_98  sales_ewm_alpha_05_lag_105  sales_ewm_alpha_05_lag_112  \\\n",
      "0                          NaN                         NaN                         NaN                         NaN                        NaN                        NaN                         NaN                         NaN                         NaN                         NaN                         NaN                         NaN                         NaN                        NaN                        NaN                         NaN                         NaN   \n",
      "24                         NaN                         NaN                         NaN                         NaN                        NaN                        NaN                         NaN                         NaN                         NaN                         NaN                         NaN                         NaN                         NaN                        NaN                        NaN                         NaN                         NaN   \n",
      "1                          NaN                         NaN                         NaN                         NaN                        NaN                        NaN                         NaN                         NaN                         NaN                         NaN                         NaN                         NaN                         NaN                        NaN                        NaN                         NaN                         NaN   \n",
      "25                         NaN                         NaN                         NaN                         NaN                        NaN                        NaN                         NaN                         NaN                         NaN                         NaN                         NaN                         NaN                         NaN                        NaN                        NaN                         NaN                         NaN   \n",
      "2                          NaN                         NaN                         NaN                         NaN                        NaN                        NaN                         NaN                         NaN                         NaN                         NaN                         NaN                         NaN                         NaN                        NaN                        NaN                         NaN                         NaN   \n",
      "\n",
      "    sales_ewm_alpha_05_lag_180  sales_ewm_alpha_05_lag_270  sales_ewm_alpha_05_lag_365  sales_ewm_alpha_05_lag_546  sales_ewm_alpha_05_lag_728  store_1  store_2  store_3  store_4  store_5  store_6  store_7  store_8  store_9  store_10  item_1  item_2  item_3  item_4  item_5  item_6  item_7  item_8  item_9  item_10  item_11  item_12  item_13  item_14  item_15  item_16  item_17  item_18  item_19  item_20  item_21  item_22  item_23  item_24  item_25  item_26  item_27  item_28  item_29  item_30  \\\n",
      "0                          NaN                         NaN                         NaN                         NaN                         NaN        1        0        0        0        0        0        0        0        0         0       1       0       0       0       0       0       0       0       0        0        0        0        0        0        0        0        0        0        0        0        0        0        0        0        0        0        0        0        0        0   \n",
      "24                         NaN                         NaN                         NaN                         NaN                         NaN        1        0        0        0        0        0        0        0        0         0       1       0       0       0       0       0       0       0       0        0        0        0        0        0        0        0        0        0        0        0        0        0        0        0        0        0        0        0        0        0   \n",
      "1                          NaN                         NaN                         NaN                         NaN                         NaN        1        0        0        0        0        0        0        0        0         0       1       0       0       0       0       0       0       0       0        0        0        0        0        0        0        0        0        0        0        0        0        0        0        0        0        0        0        0        0        0   \n",
      "25                         NaN                         NaN                         NaN                         NaN                         NaN        1        0        0        0        0        0        0        0        0         0       1       0       0       0       0       0       0       0       0        0        0        0        0        0        0        0        0        0        0        0        0        0        0        0        0        0        0        0        0        0   \n",
      "2                          NaN                         NaN                         NaN                         NaN                         NaN        1        0        0        0        0        0        0        0        0         0       1       0       0       0       0       0       0       0       0        0        0        0        0        0        0        0        0        0        0        0        0        0        0        0        0        0        0        0        0        0   \n",
      "\n",
      "    item_31  item_32  item_33  item_34  item_35  item_36  item_37  item_38  item_39  item_40  item_41  item_42  item_43  item_44  item_45  item_46  item_47  item_48  item_49  item_50  day_of_week_0  day_of_week_1  day_of_week_2  day_of_week_3  day_of_week_4  day_of_week_5  day_of_week_6  month_1  month_2  month_3  month_4  month_5  month_6  month_7  month_8  month_9  month_10  month_11  month_12  \n",
      "0         0        0        0        0        0        0        0        0        0        0        0        0        0        0        0        0        0        0        0        0              0              1              0              0              0              0              0        1        0        0        0        0        0        0        0        0         0         0         0  \n",
      "24        0        0        0        0        0        0        0        0        0        0        0        0        0        0        0        0        0        0        0        0              0              1              0              0              0              0              0        1        0        0        0        0        0        0        0        0         0         0         0  \n",
      "1         0        0        0        0        0        0        0        0        0        0        0        0        0        0        0        0        0        0        0        0              0              0              1              0              0              0              0        1        0        0        0        0        0        0        0        0         0         0         0  \n",
      "25        0        0        0        0        0        0        0        0        0        0        0        0        0        0        0        0        0        0        0        0              0              0              1              0              0              0              0        1        0        0        0        0        0        0        0        0         0         0         0  \n",
      "2         0        0        0        0        0        0        0        0        0        0        0        0        0        0        0        0        0        0        0        0              0              0              0              1              0              0              0        1        0        0        0        0        0        0        0        0         0         0         0  \n",
      "##################### Tail #####################\n",
      "            date  sales       id  day_of_month  day_of_year  week_of_year  year  is_wknd  is_month_start  is_month_end  sales_lag_91  sales_lag_98  sales_lag_105  sales_lag_112  sales_lag_119  sales_lag_126  sales_lag_182  sales_lag_364  sales_lag_546  sales_lag_728  sales_roll_mean_365  sales_roll_mean_546  sales_ewm_alpha_095_lag_91  sales_ewm_alpha_095_lag_98  sales_ewm_alpha_095_lag_105  sales_ewm_alpha_095_lag_112  sales_ewm_alpha_095_lag_180  sales_ewm_alpha_095_lag_270  \\\n",
      "44995 2018-03-27    NaN  44995.0            27           86            13  2018        0               0             0     40.912960     53.497906      68.128784      67.448275      66.404635      79.960015      80.134407      57.655564      94.620587      74.037063            87.059758            89.189604                   41.561777                   54.028375                    66.387487                    67.349358                    81.895724                   112.421502   \n",
      "44996 2018-03-28    NaN  44996.0            28           87            13  2018        0               0             0     65.026335     53.504049      69.037328      63.023352      76.085457      79.984190      81.873612      74.646715      79.171510      68.665939            87.844849            82.358679                   61.928089                   51.151419                    66.969374                    60.367468                    89.594786                   118.671075   \n",
      "44997 2018-03-29    NaN  44997.0            29           88            13  2018        0               0             0     59.789766     61.450057      70.853245      66.873342      74.318526      86.009441      83.799763      69.583255      99.317472      75.355552            89.090524            83.474434                   59.146404                   62.407571                    71.748469                    65.718373                   102.329739                   119.933554   \n",
      "44998 2018-03-30    NaN  44998.0            30           89            13  2018        1               0             0     73.835956     75.607373      72.338883      70.645568      63.282256      80.033074      89.401878      67.703982      80.060090      82.216243            89.593037            86.112513                   73.257320                   74.370379                    71.987423                    66.935919                    99.166487                   100.046678   \n",
      "44999 2018-03-31    NaN  44999.0            31           90            13  2018        1               0             1     60.025558     71.183289      51.796236      67.720276      48.809418      75.040318     103.772358     101.118243      98.400605      82.948522            86.802016            85.836648                   62.562866                   70.218519                    52.999371                    68.896796                    72.408324                    98.102334   \n",
      "\n",
      "       sales_ewm_alpha_095_lag_365  sales_ewm_alpha_095_lag_546  sales_ewm_alpha_095_lag_728  sales_ewm_alpha_09_lag_91  sales_ewm_alpha_09_lag_98  sales_ewm_alpha_09_lag_105  sales_ewm_alpha_09_lag_112  sales_ewm_alpha_09_lag_180  sales_ewm_alpha_09_lag_270  sales_ewm_alpha_09_lag_365  sales_ewm_alpha_09_lag_546  sales_ewm_alpha_09_lag_728  sales_ewm_alpha_08_lag_91  sales_ewm_alpha_08_lag_98  sales_ewm_alpha_08_lag_105  sales_ewm_alpha_08_lag_112  sales_ewm_alpha_08_lag_180  \\\n",
      "44995                    66.744209                    94.617783                    71.979468                  42.244368                  54.197995                   65.849785                   66.785772                   81.777579                  112.682169                   67.473304                   92.561560                   71.115472                  43.955442                  54.879654                   64.996171                   65.861563                   81.488819   \n",
      "44996                    60.337210                    80.730889                    68.198973                  60.924437                  51.319799                   66.884978                   60.678577                   89.177758                  118.368217                   60.747330                   81.256156                   68.311547                  59.191088                  51.775931                   66.599234                   61.172313                   88.297764   \n",
      "44997                    72.366861                    98.086544                    74.659949                  59.192444                  61.831980                   71.488498                   65.467858                  101.617776                  119.836822                   71.774733                   97.225616                   74.331155                  59.038218                  60.755186                   70.919847                   65.034463                  100.059553   \n",
      "44998                    68.218343                    79.954327                    82.582997                  72.519244                  73.683198                   71.948850                   66.846786                   99.261778                  101.083682                   68.377473                   80.822562                   82.133115                  71.007644                  72.151037                   71.783969                   66.606893                   99.211911   \n",
      "44999                    68.960917                    96.147716                    82.029150                  63.051924                  70.368320                   53.994885                   68.784679                   73.826178                   98.308368                   68.937747                   95.382256                   82.013312                  63.801529                  70.430207                   55.956794                   68.521379                   76.642382   \n",
      "\n",
      "       sales_ewm_alpha_08_lag_270  sales_ewm_alpha_08_lag_365  sales_ewm_alpha_08_lag_546  sales_ewm_alpha_08_lag_728  sales_ewm_alpha_07_lag_91  sales_ewm_alpha_07_lag_98  sales_ewm_alpha_07_lag_105  sales_ewm_alpha_07_lag_112  sales_ewm_alpha_07_lag_180  sales_ewm_alpha_07_lag_270  sales_ewm_alpha_07_lag_365  sales_ewm_alpha_07_lag_546  sales_ewm_alpha_07_lag_728  sales_ewm_alpha_05_lag_91  sales_ewm_alpha_05_lag_98  sales_ewm_alpha_05_lag_105  sales_ewm_alpha_05_lag_112  \\\n",
      "44995                  112.703381                   68.859556                   89.361543                   69.838571                  46.091666                  55.909793                   64.428121                   65.144155                   81.162051                  112.055216                   70.090358                   87.248414                   69.116907                  51.309755                  58.648702                   64.033868                   64.335072   \n",
      "44996                  117.740676                   61.771911                   81.872309                   68.367714                  57.927500                  52.472938                   66.228436                   61.543247                   87.348615                  116.916565                   63.027108                   82.174524                   68.335072                  57.154878                  54.824351                   65.516934                   62.167536   \n",
      "44997                  119.548135                   70.754382                   95.574462                   73.673543                  58.678250                  59.841881                   70.268531                   64.662974                   98.304585                  119.074969                   70.008132                   93.952357                   73.000522                  58.077439                  58.912176                   68.758467                   64.083768   \n",
      "44998                  103.109627                   68.550876                   82.314892                   81.134709                  69.403475                  70.452564                   71.480559                   66.298892                   98.791375                  105.022491                   68.602440                   83.485707                   80.000156                  66.038719                  66.956088                   70.379233                   65.541884   \n",
      "44999                   99.021925                   68.910175                   94.062978                   81.826942                  64.221042                  70.135769                   57.844168                   68.189668                   79.337413                  100.106747                   68.880732                   92.945712                   81.400047                  64.019360                  68.478044                   61.189617                   67.270942   \n",
      "\n",
      "       sales_ewm_alpha_05_lag_180  sales_ewm_alpha_05_lag_270  sales_ewm_alpha_05_lag_365  sales_ewm_alpha_05_lag_546  sales_ewm_alpha_05_lag_728  store_1  store_2  store_3  store_4  store_5  store_6  store_7  store_8  store_9  store_10  item_1  item_2  item_3  item_4  item_5  item_6  item_7  item_8  item_9  item_10  item_11  item_12  item_13  item_14  item_15  item_16  item_17  item_18  item_19  item_20  item_21  item_22  item_23  item_24  item_25  item_26  item_27  item_28  item_29  item_30  \\\n",
      "44995                   80.828687                  109.036310                   71.734958                   85.489012                   68.933911        0        0        0        0        0        0        0        0        0         1       0       0       0       0       0       0       0       0       0        0        0        0        0        0        0        0        0        0        0        0        0        0        0        0        0        0        0        0        0        0   \n",
      "44996                   85.414343                  114.018155                   65.867479                   82.744506                   68.466956        0        0        0        0        0        0        0        0        0         1       0       0       0       0       0       0       0       0       0        0        0        0        0        0        0        0        0        0        0        0        0        0        0        0        0        0        0        0        0        0   \n",
      "44997                   94.207172                  117.009078                   69.433740                   90.872253                   71.733478        0        0        0        0        0        0        0        0        0         1       0       0       0       0       0       0       0       0       0        0        0        0        0        0        0        0        0        0        0        0        0        0        0        0        0        0        0        0        0        0   \n",
      "44998                   96.603586                  108.004539                   68.716870                   84.936127                   77.366739        0        0        0        0        0        0        0        0        0         1       0       0       0       0       0       0       0       0       0        0        0        0        0        0        0        0        0        0        0        0        0        0        0        0        0        0        0        0        0        0   \n",
      "44999                   83.801793                  103.002269                   68.858435                   90.968063                   79.683369        0        0        0        0        0        0        0        0        0         1       0       0       0       0       0       0       0       0       0        0        0        0        0        0        0        0        0        0        0        0        0        0        0        0        0        0        0        0        0        0   \n",
      "\n",
      "       item_31  item_32  item_33  item_34  item_35  item_36  item_37  item_38  item_39  item_40  item_41  item_42  item_43  item_44  item_45  item_46  item_47  item_48  item_49  item_50  day_of_week_0  day_of_week_1  day_of_week_2  day_of_week_3  day_of_week_4  day_of_week_5  day_of_week_6  month_1  month_2  month_3  month_4  month_5  month_6  month_7  month_8  month_9  month_10  month_11  month_12  \n",
      "44995        0        0        0        0        0        0        0        0        0        0        0        0        0        0        0        0        0        0        0        1              0              1              0              0              0              0              0        0        0        1        0        0        0        0        0        0         0         0         0  \n",
      "44996        0        0        0        0        0        0        0        0        0        0        0        0        0        0        0        0        0        0        0        1              0              0              1              0              0              0              0        0        0        1        0        0        0        0        0        0         0         0         0  \n",
      "44997        0        0        0        0        0        0        0        0        0        0        0        0        0        0        0        0        0        0        0        1              0              0              0              1              0              0              0        0        0        1        0        0        0        0        0        0         0         0         0  \n",
      "44998        0        0        0        0        0        0        0        0        0        0        0        0        0        0        0        0        0        0        0        1              0              0              0              0              1              0              0        0        0        1        0        0        0        0        0        0         0         0         0  \n",
      "44999        0        0        0        0        0        0        0        0        0        0        0        0        0        0        0        0        0        0        0        1              0              0              0              0              0              1              0        0        0        1        0        0        0        0        0        0         0         0         0  \n",
      "##################### NA #####################\n",
      "date                 0\n",
      "sales            45000\n",
      "id              913023\n",
      "day_of_month         0\n",
      "day_of_year          0\n",
      "                 ...  \n",
      "month_8              0\n",
      "month_9              0\n",
      "month_10             0\n",
      "month_11             0\n",
      "month_12             0\n",
      "Length: 146, dtype: int64\n",
      "##################### Quantiles #####################\n",
      "              0.00     0.05     0.50      0.95      0.99     1.00\n",
      "sales          0.0    16.00     47.0    107.00    135.00    231.0\n",
      "id             0.0  2249.95  22499.5  42749.05  44549.01  44999.0\n",
      "day_of_month   1.0     2.00     16.0     29.00     31.00     31.0\n",
      "day_of_year    1.0    16.00    174.0    347.00    362.00    366.0\n",
      "week_of_year   1.0     3.00     25.0     50.00     52.00     53.0\n",
      "...            ...      ...      ...       ...       ...      ...\n",
      "month_8        0.0     0.00      0.0      1.00      1.00      1.0\n",
      "month_9        0.0     0.00      0.0      1.00      1.00      1.0\n",
      "month_10       0.0     0.00      0.0      1.00      1.00      1.0\n",
      "month_11       0.0     0.00      0.0      1.00      1.00      1.0\n",
      "month_12       0.0     0.00      0.0      1.00      1.00      1.0\n",
      "\n",
      "[145 rows x 6 columns]\n",
      "##################### Shape #####################\n",
      "(958023, 146)\n",
      "##################### Types #####################\n",
      "date            datetime64[ns]\n",
      "sales                  float64\n",
      "id                     float64\n",
      "day_of_month             int64\n",
      "day_of_year              int64\n",
      "                     ...      \n",
      "month_8                  uint8\n",
      "month_9                  uint8\n",
      "month_10                 uint8\n",
      "month_11                 uint8\n",
      "month_12                 uint8\n",
      "Length: 146, dtype: object\n",
      "##################### Head #####################\n",
      "         date  sales  id  day_of_month  day_of_year  week_of_year  year  is_wknd  is_month_start  is_month_end  sales_lag_91  sales_lag_98  sales_lag_105  sales_lag_112  sales_lag_119  sales_lag_126  sales_lag_182  sales_lag_364  sales_lag_546  sales_lag_728  sales_roll_mean_365  sales_roll_mean_546  sales_ewm_alpha_095_lag_91  sales_ewm_alpha_095_lag_98  sales_ewm_alpha_095_lag_105  sales_ewm_alpha_095_lag_112  sales_ewm_alpha_095_lag_180  sales_ewm_alpha_095_lag_270  \\\n",
      "0  2013-01-01   13.0 NaN             1            1             1  2013        0               1             0           NaN           NaN            NaN            NaN            NaN            NaN            NaN            NaN            NaN            NaN                  NaN                  NaN                         NaN                         NaN                          NaN                          NaN                          NaN                          NaN   \n",
      "24 2013-01-01   13.0 NaN             1            1             1  2013        0               1             0           NaN           NaN            NaN            NaN            NaN            NaN            NaN            NaN            NaN            NaN                  NaN                  NaN                         NaN                         NaN                          NaN                          NaN                          NaN                          NaN   \n",
      "1  2013-01-02   11.0 NaN             2            2             1  2013        0               0             0           NaN           NaN            NaN            NaN            NaN            NaN            NaN            NaN            NaN            NaN                  NaN                  NaN                         NaN                         NaN                          NaN                          NaN                          NaN                          NaN   \n",
      "25 2013-01-02   11.0 NaN             2            2             1  2013        0               0             0           NaN           NaN            NaN            NaN            NaN            NaN            NaN            NaN            NaN            NaN                  NaN                  NaN                         NaN                         NaN                          NaN                          NaN                          NaN                          NaN   \n",
      "2  2013-01-03   14.0 NaN             3            3             1  2013        0               0             0           NaN           NaN            NaN            NaN            NaN            NaN            NaN            NaN            NaN            NaN                  NaN                  NaN                         NaN                         NaN                          NaN                          NaN                          NaN                          NaN   \n",
      "\n",
      "    sales_ewm_alpha_095_lag_365  sales_ewm_alpha_095_lag_546  sales_ewm_alpha_095_lag_728  sales_ewm_alpha_09_lag_91  sales_ewm_alpha_09_lag_98  sales_ewm_alpha_09_lag_105  sales_ewm_alpha_09_lag_112  sales_ewm_alpha_09_lag_180  sales_ewm_alpha_09_lag_270  sales_ewm_alpha_09_lag_365  sales_ewm_alpha_09_lag_546  sales_ewm_alpha_09_lag_728  sales_ewm_alpha_08_lag_91  sales_ewm_alpha_08_lag_98  sales_ewm_alpha_08_lag_105  sales_ewm_alpha_08_lag_112  sales_ewm_alpha_08_lag_180  \\\n",
      "0                           NaN                          NaN                          NaN                        NaN                        NaN                         NaN                         NaN                         NaN                         NaN                         NaN                         NaN                         NaN                        NaN                        NaN                         NaN                         NaN                         NaN   \n",
      "24                          NaN                          NaN                          NaN                        NaN                        NaN                         NaN                         NaN                         NaN                         NaN                         NaN                         NaN                         NaN                        NaN                        NaN                         NaN                         NaN                         NaN   \n",
      "1                           NaN                          NaN                          NaN                        NaN                        NaN                         NaN                         NaN                         NaN                         NaN                         NaN                         NaN                         NaN                        NaN                        NaN                         NaN                         NaN                         NaN   \n",
      "25                          NaN                          NaN                          NaN                        NaN                        NaN                         NaN                         NaN                         NaN                         NaN                         NaN                         NaN                         NaN                        NaN                        NaN                         NaN                         NaN                         NaN   \n",
      "2                           NaN                          NaN                          NaN                        NaN                        NaN                         NaN                         NaN                         NaN                         NaN                         NaN                         NaN                         NaN                        NaN                        NaN                         NaN                         NaN                         NaN   \n",
      "\n",
      "    sales_ewm_alpha_08_lag_270  sales_ewm_alpha_08_lag_365  sales_ewm_alpha_08_lag_546  sales_ewm_alpha_08_lag_728  sales_ewm_alpha_07_lag_91  sales_ewm_alpha_07_lag_98  sales_ewm_alpha_07_lag_105  sales_ewm_alpha_07_lag_112  sales_ewm_alpha_07_lag_180  sales_ewm_alpha_07_lag_270  sales_ewm_alpha_07_lag_365  sales_ewm_alpha_07_lag_546  sales_ewm_alpha_07_lag_728  sales_ewm_alpha_05_lag_91  sales_ewm_alpha_05_lag_98  sales_ewm_alpha_05_lag_105  sales_ewm_alpha_05_lag_112  \\\n",
      "0                          NaN                         NaN                         NaN                         NaN                        NaN                        NaN                         NaN                         NaN                         NaN                         NaN                         NaN                         NaN                         NaN                        NaN                        NaN                         NaN                         NaN   \n",
      "24                         NaN                         NaN                         NaN                         NaN                        NaN                        NaN                         NaN                         NaN                         NaN                         NaN                         NaN                         NaN                         NaN                        NaN                        NaN                         NaN                         NaN   \n",
      "1                          NaN                         NaN                         NaN                         NaN                        NaN                        NaN                         NaN                         NaN                         NaN                         NaN                         NaN                         NaN                         NaN                        NaN                        NaN                         NaN                         NaN   \n",
      "25                         NaN                         NaN                         NaN                         NaN                        NaN                        NaN                         NaN                         NaN                         NaN                         NaN                         NaN                         NaN                         NaN                        NaN                        NaN                         NaN                         NaN   \n",
      "2                          NaN                         NaN                         NaN                         NaN                        NaN                        NaN                         NaN                         NaN                         NaN                         NaN                         NaN                         NaN                         NaN                        NaN                        NaN                         NaN                         NaN   \n",
      "\n",
      "    sales_ewm_alpha_05_lag_180  sales_ewm_alpha_05_lag_270  sales_ewm_alpha_05_lag_365  sales_ewm_alpha_05_lag_546  sales_ewm_alpha_05_lag_728  store_1  store_2  store_3  store_4  store_5  store_6  store_7  store_8  store_9  store_10  item_1  item_2  item_3  item_4  item_5  item_6  item_7  item_8  item_9  item_10  item_11  item_12  item_13  item_14  item_15  item_16  item_17  item_18  item_19  item_20  item_21  item_22  item_23  item_24  item_25  item_26  item_27  item_28  item_29  item_30  \\\n",
      "0                          NaN                         NaN                         NaN                         NaN                         NaN        1        0        0        0        0        0        0        0        0         0       1       0       0       0       0       0       0       0       0        0        0        0        0        0        0        0        0        0        0        0        0        0        0        0        0        0        0        0        0        0   \n",
      "24                         NaN                         NaN                         NaN                         NaN                         NaN        1        0        0        0        0        0        0        0        0         0       1       0       0       0       0       0       0       0       0        0        0        0        0        0        0        0        0        0        0        0        0        0        0        0        0        0        0        0        0        0   \n",
      "1                          NaN                         NaN                         NaN                         NaN                         NaN        1        0        0        0        0        0        0        0        0         0       1       0       0       0       0       0       0       0       0        0        0        0        0        0        0        0        0        0        0        0        0        0        0        0        0        0        0        0        0        0   \n",
      "25                         NaN                         NaN                         NaN                         NaN                         NaN        1        0        0        0        0        0        0        0        0         0       1       0       0       0       0       0       0       0       0        0        0        0        0        0        0        0        0        0        0        0        0        0        0        0        0        0        0        0        0        0   \n",
      "2                          NaN                         NaN                         NaN                         NaN                         NaN        1        0        0        0        0        0        0        0        0         0       1       0       0       0       0       0       0       0       0        0        0        0        0        0        0        0        0        0        0        0        0        0        0        0        0        0        0        0        0        0   \n",
      "\n",
      "    item_31  item_32  item_33  item_34  item_35  item_36  item_37  item_38  item_39  item_40  item_41  item_42  item_43  item_44  item_45  item_46  item_47  item_48  item_49  item_50  day_of_week_0  day_of_week_1  day_of_week_2  day_of_week_3  day_of_week_4  day_of_week_5  day_of_week_6  month_1  month_2  month_3  month_4  month_5  month_6  month_7  month_8  month_9  month_10  month_11  month_12  \n",
      "0         0        0        0        0        0        0        0        0        0        0        0        0        0        0        0        0        0        0        0        0              0              1              0              0              0              0              0        1        0        0        0        0        0        0        0        0         0         0         0  \n",
      "24        0        0        0        0        0        0        0        0        0        0        0        0        0        0        0        0        0        0        0        0              0              1              0              0              0              0              0        1        0        0        0        0        0        0        0        0         0         0         0  \n",
      "1         0        0        0        0        0        0        0        0        0        0        0        0        0        0        0        0        0        0        0        0              0              0              1              0              0              0              0        1        0        0        0        0        0        0        0        0         0         0         0  \n",
      "25        0        0        0        0        0        0        0        0        0        0        0        0        0        0        0        0        0        0        0        0              0              0              1              0              0              0              0        1        0        0        0        0        0        0        0        0         0         0         0  \n",
      "2         0        0        0        0        0        0        0        0        0        0        0        0        0        0        0        0        0        0        0        0              0              0              0              1              0              0              0        1        0        0        0        0        0        0        0        0         0         0         0  \n",
      "##################### Tail #####################\n",
      "            date  sales       id  day_of_month  day_of_year  week_of_year  year  is_wknd  is_month_start  is_month_end  sales_lag_91  sales_lag_98  sales_lag_105  sales_lag_112  sales_lag_119  sales_lag_126  sales_lag_182  sales_lag_364  sales_lag_546  sales_lag_728  sales_roll_mean_365  sales_roll_mean_546  sales_ewm_alpha_095_lag_91  sales_ewm_alpha_095_lag_98  sales_ewm_alpha_095_lag_105  sales_ewm_alpha_095_lag_112  sales_ewm_alpha_095_lag_180  sales_ewm_alpha_095_lag_270  \\\n",
      "44995 2018-03-27    NaN  44995.0            27           86            13  2018        0               0             0     42.404543     54.415110      67.564221      69.874074      70.444520      78.762114      81.037075      57.431557      97.347539      74.301188            89.582341            88.191571                   41.561777                   54.028375                    66.387487                    67.349358                    81.895724                   112.421502   \n",
      "44996 2018-03-28    NaN  44996.0            28           87            13  2018        0               0             0     63.550876     49.454431      66.463829      61.229898      76.250378      79.562259      82.236058      74.328129      79.603984      68.666942            88.698377            86.457505                   61.928089                   51.151419                    66.969374                    60.367468                    89.594786                   118.671075   \n",
      "44997 2018-03-29    NaN  44997.0            29           88            13  2018        0               0             0     59.180313     62.660187      69.200374      65.713735      71.679134      87.528039      83.544743      66.824460      97.079707      73.673479            88.885126            84.386198                   59.146404                   62.407571                    71.748469                    65.718373                   102.329739                   119.933554   \n",
      "44998 2018-03-30    NaN  44998.0            30           89            13  2018        1               0             0     73.438435     75.750007      71.580377      67.335350      66.331764      83.176356      89.730837      72.211497      81.063340      82.744463            88.883431            85.806512                   73.257320                   74.370379                    71.987423                    66.935919                    99.166487                   100.046678   \n",
      "44999 2018-03-31    NaN  44999.0            31           90            13  2018        1               0             1     61.622726     72.774932      51.833452      68.360373      46.791720      77.322386     104.161699     102.318002      96.858345      82.754090            90.891725            87.484936                   62.562866                   70.218519                    52.999371                    68.896796                    72.408324                    98.102334   \n",
      "\n",
      "       sales_ewm_alpha_095_lag_365  sales_ewm_alpha_095_lag_546  sales_ewm_alpha_095_lag_728  sales_ewm_alpha_09_lag_91  sales_ewm_alpha_09_lag_98  sales_ewm_alpha_09_lag_105  sales_ewm_alpha_09_lag_112  sales_ewm_alpha_09_lag_180  sales_ewm_alpha_09_lag_270  sales_ewm_alpha_09_lag_365  sales_ewm_alpha_09_lag_546  sales_ewm_alpha_09_lag_728  sales_ewm_alpha_08_lag_91  sales_ewm_alpha_08_lag_98  sales_ewm_alpha_08_lag_105  sales_ewm_alpha_08_lag_112  sales_ewm_alpha_08_lag_180  \\\n",
      "44995                    66.744209                    94.617783                    71.979468                  42.244368                  54.197995                   65.849785                   66.785772                   81.777579                  112.682169                   67.473304                   92.561560                   71.115472                  43.955442                  54.879654                   64.996171                   65.861563                   81.488819   \n",
      "44996                    60.337210                    80.730889                    68.198973                  60.924437                  51.319799                   66.884978                   60.678577                   89.177758                  118.368217                   60.747330                   81.256156                   68.311547                  59.191088                  51.775931                   66.599234                   61.172313                   88.297764   \n",
      "44997                    72.366861                    98.086544                    74.659949                  59.192444                  61.831980                   71.488498                   65.467858                  101.617776                  119.836822                   71.774733                   97.225616                   74.331155                  59.038218                  60.755186                   70.919847                   65.034463                  100.059553   \n",
      "44998                    68.218343                    79.954327                    82.582997                  72.519244                  73.683198                   71.948850                   66.846786                   99.261778                  101.083682                   68.377473                   80.822562                   82.133115                  71.007644                  72.151037                   71.783969                   66.606893                   99.211911   \n",
      "44999                    68.960917                    96.147716                    82.029150                  63.051924                  70.368320                   53.994885                   68.784679                   73.826178                   98.308368                   68.937747                   95.382256                   82.013312                  63.801529                  70.430207                   55.956794                   68.521379                   76.642382   \n",
      "\n",
      "       sales_ewm_alpha_08_lag_270  sales_ewm_alpha_08_lag_365  sales_ewm_alpha_08_lag_546  sales_ewm_alpha_08_lag_728  sales_ewm_alpha_07_lag_91  sales_ewm_alpha_07_lag_98  sales_ewm_alpha_07_lag_105  sales_ewm_alpha_07_lag_112  sales_ewm_alpha_07_lag_180  sales_ewm_alpha_07_lag_270  sales_ewm_alpha_07_lag_365  sales_ewm_alpha_07_lag_546  sales_ewm_alpha_07_lag_728  sales_ewm_alpha_05_lag_91  sales_ewm_alpha_05_lag_98  sales_ewm_alpha_05_lag_105  sales_ewm_alpha_05_lag_112  \\\n",
      "44995                  112.703381                   68.859556                   89.361543                   69.838571                  46.091666                  55.909793                   64.428121                   65.144155                   81.162051                  112.055216                   70.090358                   87.248414                   69.116907                  51.309755                  58.648702                   64.033868                   64.335072   \n",
      "44996                  117.740676                   61.771911                   81.872309                   68.367714                  57.927500                  52.472938                   66.228436                   61.543247                   87.348615                  116.916565                   63.027108                   82.174524                   68.335072                  57.154878                  54.824351                   65.516934                   62.167536   \n",
      "44997                  119.548135                   70.754382                   95.574462                   73.673543                  58.678250                  59.841881                   70.268531                   64.662974                   98.304585                  119.074969                   70.008132                   93.952357                   73.000522                  58.077439                  58.912176                   68.758467                   64.083768   \n",
      "44998                  103.109627                   68.550876                   82.314892                   81.134709                  69.403475                  70.452564                   71.480559                   66.298892                   98.791375                  105.022491                   68.602440                   83.485707                   80.000156                  66.038719                  66.956088                   70.379233                   65.541884   \n",
      "44999                   99.021925                   68.910175                   94.062978                   81.826942                  64.221042                  70.135769                   57.844168                   68.189668                   79.337413                  100.106747                   68.880732                   92.945712                   81.400047                  64.019360                  68.478044                   61.189617                   67.270942   \n",
      "\n",
      "       sales_ewm_alpha_05_lag_180  sales_ewm_alpha_05_lag_270  sales_ewm_alpha_05_lag_365  sales_ewm_alpha_05_lag_546  sales_ewm_alpha_05_lag_728  store_1  store_2  store_3  store_4  store_5  store_6  store_7  store_8  store_9  store_10  item_1  item_2  item_3  item_4  item_5  item_6  item_7  item_8  item_9  item_10  item_11  item_12  item_13  item_14  item_15  item_16  item_17  item_18  item_19  item_20  item_21  item_22  item_23  item_24  item_25  item_26  item_27  item_28  item_29  item_30  \\\n",
      "44995                   80.828687                  109.036310                   71.734958                   85.489012                   68.933911        0        0        0        0        0        0        0        0        0         1       0       0       0       0       0       0       0       0       0        0        0        0        0        0        0        0        0        0        0        0        0        0        0        0        0        0        0        0        0        0   \n",
      "44996                   85.414343                  114.018155                   65.867479                   82.744506                   68.466956        0        0        0        0        0        0        0        0        0         1       0       0       0       0       0       0       0       0       0        0        0        0        0        0        0        0        0        0        0        0        0        0        0        0        0        0        0        0        0        0   \n",
      "44997                   94.207172                  117.009078                   69.433740                   90.872253                   71.733478        0        0        0        0        0        0        0        0        0         1       0       0       0       0       0       0       0       0       0        0        0        0        0        0        0        0        0        0        0        0        0        0        0        0        0        0        0        0        0        0   \n",
      "44998                   96.603586                  108.004539                   68.716870                   84.936127                   77.366739        0        0        0        0        0        0        0        0        0         1       0       0       0       0       0       0       0       0       0        0        0        0        0        0        0        0        0        0        0        0        0        0        0        0        0        0        0        0        0        0   \n",
      "44999                   83.801793                  103.002269                   68.858435                   90.968063                   79.683369        0        0        0        0        0        0        0        0        0         1       0       0       0       0       0       0       0       0       0        0        0        0        0        0        0        0        0        0        0        0        0        0        0        0        0        0        0        0        0        0   \n",
      "\n",
      "       item_31  item_32  item_33  item_34  item_35  item_36  item_37  item_38  item_39  item_40  item_41  item_42  item_43  item_44  item_45  item_46  item_47  item_48  item_49  item_50  day_of_week_0  day_of_week_1  day_of_week_2  day_of_week_3  day_of_week_4  day_of_week_5  day_of_week_6  month_1  month_2  month_3  month_4  month_5  month_6  month_7  month_8  month_9  month_10  month_11  month_12  \n",
      "44995        0        0        0        0        0        0        0        0        0        0        0        0        0        0        0        0        0        0        0        1              0              1              0              0              0              0              0        0        0        1        0        0        0        0        0        0         0         0         0  \n",
      "44996        0        0        0        0        0        0        0        0        0        0        0        0        0        0        0        0        0        0        0        1              0              0              1              0              0              0              0        0        0        1        0        0        0        0        0        0         0         0         0  \n",
      "44997        0        0        0        0        0        0        0        0        0        0        0        0        0        0        0        0        0        0        0        1              0              0              0              1              0              0              0        0        0        1        0        0        0        0        0        0         0         0         0  \n",
      "44998        0        0        0        0        0        0        0        0        0        0        0        0        0        0        0        0        0        0        0        1              0              0              0              0              1              0              0        0        0        1        0        0        0        0        0        0         0         0         0  \n",
      "44999        0        0        0        0        0        0        0        0        0        0        0        0        0        0        0        0        0        0        0        1              0              0              0              0              0              1              0        0        0        1        0        0        0        0        0        0         0         0         0  \n",
      "##################### NA #####################\n",
      "date                 0\n",
      "sales            45000\n",
      "id              913023\n",
      "day_of_month         0\n",
      "day_of_year          0\n",
      "                 ...  \n",
      "month_8              0\n",
      "month_9              0\n",
      "month_10             0\n",
      "month_11             0\n",
      "month_12             0\n",
      "Length: 146, dtype: int64\n",
      "##################### Quantiles #####################\n",
      "              0.00     0.05     0.50      0.95      0.99     1.00\n",
      "sales          0.0    16.00     47.0    107.00    135.00    231.0\n",
      "id             0.0  2249.95  22499.5  42749.05  44549.01  44999.0\n",
      "day_of_month   1.0     2.00     16.0     29.00     31.00     31.0\n",
      "day_of_year    1.0    16.00    174.0    347.00    362.00    366.0\n",
      "week_of_year   1.0     3.00     25.0     50.00     52.00     53.0\n",
      "...            ...      ...      ...       ...       ...      ...\n",
      "month_8        0.0     0.00      0.0      1.00      1.00      1.0\n",
      "month_9        0.0     0.00      0.0      1.00      1.00      1.0\n",
      "month_10       0.0     0.00      0.0      1.00      1.00      1.0\n",
      "month_11       0.0     0.00      0.0      1.00      1.00      1.0\n",
      "month_12       0.0     0.00      0.0      1.00      1.00      1.0\n",
      "\n",
      "[145 rows x 6 columns]\n"
     ]
    }
   ],
   "source": [
    "df = pd.get_dummies(df, columns=['store', 'item', 'day_of_week', 'month'])\n",
    "check_df(df)"
   ],
   "metadata": {
    "collapsed": false
   }
  },
  {
   "cell_type": "markdown",
   "source": [
    "**Converting sales to log(1+sales)**\n",
    "dependent variable (sales) logarithm is taken (standardized)"
   ],
   "metadata": {
    "collapsed": false
   }
  },
  {
   "cell_type": "code",
   "execution_count": 72,
   "outputs": [
    {
     "name": "stdout",
     "output_type": "stream",
     "text": [
      "##################### Shape #####################\n",
      "(958023, 146)\n",
      "##################### Types #####################\n",
      "date            datetime64[ns]\n",
      "sales                  float64\n",
      "id                     float64\n",
      "day_of_month             int64\n",
      "day_of_year              int64\n",
      "                     ...      \n",
      "month_8                  uint8\n",
      "month_9                  uint8\n",
      "month_10                 uint8\n",
      "month_11                 uint8\n",
      "month_12                 uint8\n",
      "Length: 146, dtype: object\n",
      "##################### Head #####################\n",
      "         date     sales  id  day_of_month  day_of_year  week_of_year  year  is_wknd  is_month_start  is_month_end  sales_lag_91  sales_lag_98  sales_lag_105  sales_lag_112  sales_lag_119  sales_lag_126  sales_lag_182  sales_lag_364  sales_lag_546  sales_lag_728  sales_roll_mean_365  sales_roll_mean_546  sales_ewm_alpha_095_lag_91  sales_ewm_alpha_095_lag_98  sales_ewm_alpha_095_lag_105  sales_ewm_alpha_095_lag_112  sales_ewm_alpha_095_lag_180  sales_ewm_alpha_095_lag_270  \\\n",
      "0  2013-01-01  2.639057 NaN             1            1             1  2013        0               1             0           NaN           NaN            NaN            NaN            NaN            NaN            NaN            NaN            NaN            NaN                  NaN                  NaN                         NaN                         NaN                          NaN                          NaN                          NaN                          NaN   \n",
      "24 2013-01-01  2.639057 NaN             1            1             1  2013        0               1             0           NaN           NaN            NaN            NaN            NaN            NaN            NaN            NaN            NaN            NaN                  NaN                  NaN                         NaN                         NaN                          NaN                          NaN                          NaN                          NaN   \n",
      "1  2013-01-02  2.484907 NaN             2            2             1  2013        0               0             0           NaN           NaN            NaN            NaN            NaN            NaN            NaN            NaN            NaN            NaN                  NaN                  NaN                         NaN                         NaN                          NaN                          NaN                          NaN                          NaN   \n",
      "25 2013-01-02  2.484907 NaN             2            2             1  2013        0               0             0           NaN           NaN            NaN            NaN            NaN            NaN            NaN            NaN            NaN            NaN                  NaN                  NaN                         NaN                         NaN                          NaN                          NaN                          NaN                          NaN   \n",
      "2  2013-01-03  2.708050 NaN             3            3             1  2013        0               0             0           NaN           NaN            NaN            NaN            NaN            NaN            NaN            NaN            NaN            NaN                  NaN                  NaN                         NaN                         NaN                          NaN                          NaN                          NaN                          NaN   \n",
      "\n",
      "    sales_ewm_alpha_095_lag_365  sales_ewm_alpha_095_lag_546  sales_ewm_alpha_095_lag_728  sales_ewm_alpha_09_lag_91  sales_ewm_alpha_09_lag_98  sales_ewm_alpha_09_lag_105  sales_ewm_alpha_09_lag_112  sales_ewm_alpha_09_lag_180  sales_ewm_alpha_09_lag_270  sales_ewm_alpha_09_lag_365  sales_ewm_alpha_09_lag_546  sales_ewm_alpha_09_lag_728  sales_ewm_alpha_08_lag_91  sales_ewm_alpha_08_lag_98  sales_ewm_alpha_08_lag_105  sales_ewm_alpha_08_lag_112  sales_ewm_alpha_08_lag_180  \\\n",
      "0                           NaN                          NaN                          NaN                        NaN                        NaN                         NaN                         NaN                         NaN                         NaN                         NaN                         NaN                         NaN                        NaN                        NaN                         NaN                         NaN                         NaN   \n",
      "24                          NaN                          NaN                          NaN                        NaN                        NaN                         NaN                         NaN                         NaN                         NaN                         NaN                         NaN                         NaN                        NaN                        NaN                         NaN                         NaN                         NaN   \n",
      "1                           NaN                          NaN                          NaN                        NaN                        NaN                         NaN                         NaN                         NaN                         NaN                         NaN                         NaN                         NaN                        NaN                        NaN                         NaN                         NaN                         NaN   \n",
      "25                          NaN                          NaN                          NaN                        NaN                        NaN                         NaN                         NaN                         NaN                         NaN                         NaN                         NaN                         NaN                        NaN                        NaN                         NaN                         NaN                         NaN   \n",
      "2                           NaN                          NaN                          NaN                        NaN                        NaN                         NaN                         NaN                         NaN                         NaN                         NaN                         NaN                         NaN                        NaN                        NaN                         NaN                         NaN                         NaN   \n",
      "\n",
      "    sales_ewm_alpha_08_lag_270  sales_ewm_alpha_08_lag_365  sales_ewm_alpha_08_lag_546  sales_ewm_alpha_08_lag_728  sales_ewm_alpha_07_lag_91  sales_ewm_alpha_07_lag_98  sales_ewm_alpha_07_lag_105  sales_ewm_alpha_07_lag_112  sales_ewm_alpha_07_lag_180  sales_ewm_alpha_07_lag_270  sales_ewm_alpha_07_lag_365  sales_ewm_alpha_07_lag_546  sales_ewm_alpha_07_lag_728  sales_ewm_alpha_05_lag_91  sales_ewm_alpha_05_lag_98  sales_ewm_alpha_05_lag_105  sales_ewm_alpha_05_lag_112  \\\n",
      "0                          NaN                         NaN                         NaN                         NaN                        NaN                        NaN                         NaN                         NaN                         NaN                         NaN                         NaN                         NaN                         NaN                        NaN                        NaN                         NaN                         NaN   \n",
      "24                         NaN                         NaN                         NaN                         NaN                        NaN                        NaN                         NaN                         NaN                         NaN                         NaN                         NaN                         NaN                         NaN                        NaN                        NaN                         NaN                         NaN   \n",
      "1                          NaN                         NaN                         NaN                         NaN                        NaN                        NaN                         NaN                         NaN                         NaN                         NaN                         NaN                         NaN                         NaN                        NaN                        NaN                         NaN                         NaN   \n",
      "25                         NaN                         NaN                         NaN                         NaN                        NaN                        NaN                         NaN                         NaN                         NaN                         NaN                         NaN                         NaN                         NaN                        NaN                        NaN                         NaN                         NaN   \n",
      "2                          NaN                         NaN                         NaN                         NaN                        NaN                        NaN                         NaN                         NaN                         NaN                         NaN                         NaN                         NaN                         NaN                        NaN                        NaN                         NaN                         NaN   \n",
      "\n",
      "    sales_ewm_alpha_05_lag_180  sales_ewm_alpha_05_lag_270  sales_ewm_alpha_05_lag_365  sales_ewm_alpha_05_lag_546  sales_ewm_alpha_05_lag_728  store_1  store_2  store_3  store_4  store_5  store_6  store_7  store_8  store_9  store_10  item_1  item_2  item_3  item_4  item_5  item_6  item_7  item_8  item_9  item_10  item_11  item_12  item_13  item_14  item_15  item_16  item_17  item_18  item_19  item_20  item_21  item_22  item_23  item_24  item_25  item_26  item_27  item_28  item_29  item_30  \\\n",
      "0                          NaN                         NaN                         NaN                         NaN                         NaN        1        0        0        0        0        0        0        0        0         0       1       0       0       0       0       0       0       0       0        0        0        0        0        0        0        0        0        0        0        0        0        0        0        0        0        0        0        0        0        0   \n",
      "24                         NaN                         NaN                         NaN                         NaN                         NaN        1        0        0        0        0        0        0        0        0         0       1       0       0       0       0       0       0       0       0        0        0        0        0        0        0        0        0        0        0        0        0        0        0        0        0        0        0        0        0        0   \n",
      "1                          NaN                         NaN                         NaN                         NaN                         NaN        1        0        0        0        0        0        0        0        0         0       1       0       0       0       0       0       0       0       0        0        0        0        0        0        0        0        0        0        0        0        0        0        0        0        0        0        0        0        0        0   \n",
      "25                         NaN                         NaN                         NaN                         NaN                         NaN        1        0        0        0        0        0        0        0        0         0       1       0       0       0       0       0       0       0       0        0        0        0        0        0        0        0        0        0        0        0        0        0        0        0        0        0        0        0        0        0   \n",
      "2                          NaN                         NaN                         NaN                         NaN                         NaN        1        0        0        0        0        0        0        0        0         0       1       0       0       0       0       0       0       0       0        0        0        0        0        0        0        0        0        0        0        0        0        0        0        0        0        0        0        0        0        0   \n",
      "\n",
      "    item_31  item_32  item_33  item_34  item_35  item_36  item_37  item_38  item_39  item_40  item_41  item_42  item_43  item_44  item_45  item_46  item_47  item_48  item_49  item_50  day_of_week_0  day_of_week_1  day_of_week_2  day_of_week_3  day_of_week_4  day_of_week_5  day_of_week_6  month_1  month_2  month_3  month_4  month_5  month_6  month_7  month_8  month_9  month_10  month_11  month_12  \n",
      "0         0        0        0        0        0        0        0        0        0        0        0        0        0        0        0        0        0        0        0        0              0              1              0              0              0              0              0        1        0        0        0        0        0        0        0        0         0         0         0  \n",
      "24        0        0        0        0        0        0        0        0        0        0        0        0        0        0        0        0        0        0        0        0              0              1              0              0              0              0              0        1        0        0        0        0        0        0        0        0         0         0         0  \n",
      "1         0        0        0        0        0        0        0        0        0        0        0        0        0        0        0        0        0        0        0        0              0              0              1              0              0              0              0        1        0        0        0        0        0        0        0        0         0         0         0  \n",
      "25        0        0        0        0        0        0        0        0        0        0        0        0        0        0        0        0        0        0        0        0              0              0              1              0              0              0              0        1        0        0        0        0        0        0        0        0         0         0         0  \n",
      "2         0        0        0        0        0        0        0        0        0        0        0        0        0        0        0        0        0        0        0        0              0              0              0              1              0              0              0        1        0        0        0        0        0        0        0        0         0         0         0  \n",
      "##################### Tail #####################\n",
      "            date  sales       id  day_of_month  day_of_year  week_of_year  year  is_wknd  is_month_start  is_month_end  sales_lag_91  sales_lag_98  sales_lag_105  sales_lag_112  sales_lag_119  sales_lag_126  sales_lag_182  sales_lag_364  sales_lag_546  sales_lag_728  sales_roll_mean_365  sales_roll_mean_546  sales_ewm_alpha_095_lag_91  sales_ewm_alpha_095_lag_98  sales_ewm_alpha_095_lag_105  sales_ewm_alpha_095_lag_112  sales_ewm_alpha_095_lag_180  sales_ewm_alpha_095_lag_270  \\\n",
      "44995 2018-03-27    NaN  44995.0            27           86            13  2018        0               0             0     40.912960     53.497906      68.128784      67.448275      66.404635      79.960015      80.134407      57.655564      94.620587      74.037063            87.059758            89.189604                   41.561777                   54.028375                    66.387487                    67.349358                    81.895724                   112.421502   \n",
      "44996 2018-03-28    NaN  44996.0            28           87            13  2018        0               0             0     65.026335     53.504049      69.037328      63.023352      76.085457      79.984190      81.873612      74.646715      79.171510      68.665939            87.844849            82.358679                   61.928089                   51.151419                    66.969374                    60.367468                    89.594786                   118.671075   \n",
      "44997 2018-03-29    NaN  44997.0            29           88            13  2018        0               0             0     59.789766     61.450057      70.853245      66.873342      74.318526      86.009441      83.799763      69.583255      99.317472      75.355552            89.090524            83.474434                   59.146404                   62.407571                    71.748469                    65.718373                   102.329739                   119.933554   \n",
      "44998 2018-03-30    NaN  44998.0            30           89            13  2018        1               0             0     73.835956     75.607373      72.338883      70.645568      63.282256      80.033074      89.401878      67.703982      80.060090      82.216243            89.593037            86.112513                   73.257320                   74.370379                    71.987423                    66.935919                    99.166487                   100.046678   \n",
      "44999 2018-03-31    NaN  44999.0            31           90            13  2018        1               0             1     60.025558     71.183289      51.796236      67.720276      48.809418      75.040318     103.772358     101.118243      98.400605      82.948522            86.802016            85.836648                   62.562866                   70.218519                    52.999371                    68.896796                    72.408324                    98.102334   \n",
      "\n",
      "       sales_ewm_alpha_095_lag_365  sales_ewm_alpha_095_lag_546  sales_ewm_alpha_095_lag_728  sales_ewm_alpha_09_lag_91  sales_ewm_alpha_09_lag_98  sales_ewm_alpha_09_lag_105  sales_ewm_alpha_09_lag_112  sales_ewm_alpha_09_lag_180  sales_ewm_alpha_09_lag_270  sales_ewm_alpha_09_lag_365  sales_ewm_alpha_09_lag_546  sales_ewm_alpha_09_lag_728  sales_ewm_alpha_08_lag_91  sales_ewm_alpha_08_lag_98  sales_ewm_alpha_08_lag_105  sales_ewm_alpha_08_lag_112  sales_ewm_alpha_08_lag_180  \\\n",
      "44995                    66.744209                    94.617783                    71.979468                  42.244368                  54.197995                   65.849785                   66.785772                   81.777579                  112.682169                   67.473304                   92.561560                   71.115472                  43.955442                  54.879654                   64.996171                   65.861563                   81.488819   \n",
      "44996                    60.337210                    80.730889                    68.198973                  60.924437                  51.319799                   66.884978                   60.678577                   89.177758                  118.368217                   60.747330                   81.256156                   68.311547                  59.191088                  51.775931                   66.599234                   61.172313                   88.297764   \n",
      "44997                    72.366861                    98.086544                    74.659949                  59.192444                  61.831980                   71.488498                   65.467858                  101.617776                  119.836822                   71.774733                   97.225616                   74.331155                  59.038218                  60.755186                   70.919847                   65.034463                  100.059553   \n",
      "44998                    68.218343                    79.954327                    82.582997                  72.519244                  73.683198                   71.948850                   66.846786                   99.261778                  101.083682                   68.377473                   80.822562                   82.133115                  71.007644                  72.151037                   71.783969                   66.606893                   99.211911   \n",
      "44999                    68.960917                    96.147716                    82.029150                  63.051924                  70.368320                   53.994885                   68.784679                   73.826178                   98.308368                   68.937747                   95.382256                   82.013312                  63.801529                  70.430207                   55.956794                   68.521379                   76.642382   \n",
      "\n",
      "       sales_ewm_alpha_08_lag_270  sales_ewm_alpha_08_lag_365  sales_ewm_alpha_08_lag_546  sales_ewm_alpha_08_lag_728  sales_ewm_alpha_07_lag_91  sales_ewm_alpha_07_lag_98  sales_ewm_alpha_07_lag_105  sales_ewm_alpha_07_lag_112  sales_ewm_alpha_07_lag_180  sales_ewm_alpha_07_lag_270  sales_ewm_alpha_07_lag_365  sales_ewm_alpha_07_lag_546  sales_ewm_alpha_07_lag_728  sales_ewm_alpha_05_lag_91  sales_ewm_alpha_05_lag_98  sales_ewm_alpha_05_lag_105  sales_ewm_alpha_05_lag_112  \\\n",
      "44995                  112.703381                   68.859556                   89.361543                   69.838571                  46.091666                  55.909793                   64.428121                   65.144155                   81.162051                  112.055216                   70.090358                   87.248414                   69.116907                  51.309755                  58.648702                   64.033868                   64.335072   \n",
      "44996                  117.740676                   61.771911                   81.872309                   68.367714                  57.927500                  52.472938                   66.228436                   61.543247                   87.348615                  116.916565                   63.027108                   82.174524                   68.335072                  57.154878                  54.824351                   65.516934                   62.167536   \n",
      "44997                  119.548135                   70.754382                   95.574462                   73.673543                  58.678250                  59.841881                   70.268531                   64.662974                   98.304585                  119.074969                   70.008132                   93.952357                   73.000522                  58.077439                  58.912176                   68.758467                   64.083768   \n",
      "44998                  103.109627                   68.550876                   82.314892                   81.134709                  69.403475                  70.452564                   71.480559                   66.298892                   98.791375                  105.022491                   68.602440                   83.485707                   80.000156                  66.038719                  66.956088                   70.379233                   65.541884   \n",
      "44999                   99.021925                   68.910175                   94.062978                   81.826942                  64.221042                  70.135769                   57.844168                   68.189668                   79.337413                  100.106747                   68.880732                   92.945712                   81.400047                  64.019360                  68.478044                   61.189617                   67.270942   \n",
      "\n",
      "       sales_ewm_alpha_05_lag_180  sales_ewm_alpha_05_lag_270  sales_ewm_alpha_05_lag_365  sales_ewm_alpha_05_lag_546  sales_ewm_alpha_05_lag_728  store_1  store_2  store_3  store_4  store_5  store_6  store_7  store_8  store_9  store_10  item_1  item_2  item_3  item_4  item_5  item_6  item_7  item_8  item_9  item_10  item_11  item_12  item_13  item_14  item_15  item_16  item_17  item_18  item_19  item_20  item_21  item_22  item_23  item_24  item_25  item_26  item_27  item_28  item_29  item_30  \\\n",
      "44995                   80.828687                  109.036310                   71.734958                   85.489012                   68.933911        0        0        0        0        0        0        0        0        0         1       0       0       0       0       0       0       0       0       0        0        0        0        0        0        0        0        0        0        0        0        0        0        0        0        0        0        0        0        0        0   \n",
      "44996                   85.414343                  114.018155                   65.867479                   82.744506                   68.466956        0        0        0        0        0        0        0        0        0         1       0       0       0       0       0       0       0       0       0        0        0        0        0        0        0        0        0        0        0        0        0        0        0        0        0        0        0        0        0        0   \n",
      "44997                   94.207172                  117.009078                   69.433740                   90.872253                   71.733478        0        0        0        0        0        0        0        0        0         1       0       0       0       0       0       0       0       0       0        0        0        0        0        0        0        0        0        0        0        0        0        0        0        0        0        0        0        0        0        0   \n",
      "44998                   96.603586                  108.004539                   68.716870                   84.936127                   77.366739        0        0        0        0        0        0        0        0        0         1       0       0       0       0       0       0       0       0       0        0        0        0        0        0        0        0        0        0        0        0        0        0        0        0        0        0        0        0        0        0   \n",
      "44999                   83.801793                  103.002269                   68.858435                   90.968063                   79.683369        0        0        0        0        0        0        0        0        0         1       0       0       0       0       0       0       0       0       0        0        0        0        0        0        0        0        0        0        0        0        0        0        0        0        0        0        0        0        0        0   \n",
      "\n",
      "       item_31  item_32  item_33  item_34  item_35  item_36  item_37  item_38  item_39  item_40  item_41  item_42  item_43  item_44  item_45  item_46  item_47  item_48  item_49  item_50  day_of_week_0  day_of_week_1  day_of_week_2  day_of_week_3  day_of_week_4  day_of_week_5  day_of_week_6  month_1  month_2  month_3  month_4  month_5  month_6  month_7  month_8  month_9  month_10  month_11  month_12  \n",
      "44995        0        0        0        0        0        0        0        0        0        0        0        0        0        0        0        0        0        0        0        1              0              1              0              0              0              0              0        0        0        1        0        0        0        0        0        0         0         0         0  \n",
      "44996        0        0        0        0        0        0        0        0        0        0        0        0        0        0        0        0        0        0        0        1              0              0              1              0              0              0              0        0        0        1        0        0        0        0        0        0         0         0         0  \n",
      "44997        0        0        0        0        0        0        0        0        0        0        0        0        0        0        0        0        0        0        0        1              0              0              0              1              0              0              0        0        0        1        0        0        0        0        0        0         0         0         0  \n",
      "44998        0        0        0        0        0        0        0        0        0        0        0        0        0        0        0        0        0        0        0        1              0              0              0              0              1              0              0        0        0        1        0        0        0        0        0        0         0         0         0  \n",
      "44999        0        0        0        0        0        0        0        0        0        0        0        0        0        0        0        0        0        0        0        1              0              0              0              0              0              1              0        0        0        1        0        0        0        0        0        0         0         0         0  \n",
      "##################### NA #####################\n",
      "date                 0\n",
      "sales            45000\n",
      "id              913023\n",
      "day_of_month         0\n",
      "day_of_year          0\n",
      "                 ...  \n",
      "month_8              0\n",
      "month_9              0\n",
      "month_10             0\n",
      "month_11             0\n",
      "month_12             0\n",
      "Length: 146, dtype: int64\n",
      "##################### Quantiles #####################\n",
      "              0.00         0.05          0.50          0.95          0.99          1.00\n",
      "sales          0.0     2.833213      3.871201      4.682131      4.912655      5.446737\n",
      "id             0.0  2249.950000  22499.500000  42749.050000  44549.010000  44999.000000\n",
      "day_of_month   1.0     2.000000     16.000000     29.000000     31.000000     31.000000\n",
      "day_of_year    1.0    16.000000    174.000000    347.000000    362.000000    366.000000\n",
      "week_of_year   1.0     3.000000     25.000000     50.000000     52.000000     53.000000\n",
      "...            ...          ...           ...           ...           ...           ...\n",
      "month_8        0.0     0.000000      0.000000      1.000000      1.000000      1.000000\n",
      "month_9        0.0     0.000000      0.000000      1.000000      1.000000      1.000000\n",
      "month_10       0.0     0.000000      0.000000      1.000000      1.000000      1.000000\n",
      "month_11       0.0     0.000000      0.000000      1.000000      1.000000      1.000000\n",
      "month_12       0.0     0.000000      0.000000      1.000000      1.000000      1.000000\n",
      "\n",
      "[145 rows x 6 columns]\n",
      "##################### Shape #####################\n",
      "(958023, 146)\n",
      "##################### Types #####################\n",
      "date            datetime64[ns]\n",
      "sales                  float64\n",
      "id                     float64\n",
      "day_of_month             int64\n",
      "day_of_year              int64\n",
      "                     ...      \n",
      "month_8                  uint8\n",
      "month_9                  uint8\n",
      "month_10                 uint8\n",
      "month_11                 uint8\n",
      "month_12                 uint8\n",
      "Length: 146, dtype: object\n",
      "##################### Head #####################\n",
      "         date     sales  id  day_of_month  day_of_year  week_of_year  year  is_wknd  is_month_start  is_month_end  sales_lag_91  sales_lag_98  sales_lag_105  sales_lag_112  sales_lag_119  sales_lag_126  sales_lag_182  sales_lag_364  sales_lag_546  sales_lag_728  sales_roll_mean_365  sales_roll_mean_546  sales_ewm_alpha_095_lag_91  sales_ewm_alpha_095_lag_98  sales_ewm_alpha_095_lag_105  sales_ewm_alpha_095_lag_112  sales_ewm_alpha_095_lag_180  sales_ewm_alpha_095_lag_270  \\\n",
      "0  2013-01-01  2.639057 NaN             1            1             1  2013        0               1             0           NaN           NaN            NaN            NaN            NaN            NaN            NaN            NaN            NaN            NaN                  NaN                  NaN                         NaN                         NaN                          NaN                          NaN                          NaN                          NaN   \n",
      "24 2013-01-01  2.639057 NaN             1            1             1  2013        0               1             0           NaN           NaN            NaN            NaN            NaN            NaN            NaN            NaN            NaN            NaN                  NaN                  NaN                         NaN                         NaN                          NaN                          NaN                          NaN                          NaN   \n",
      "1  2013-01-02  2.484907 NaN             2            2             1  2013        0               0             0           NaN           NaN            NaN            NaN            NaN            NaN            NaN            NaN            NaN            NaN                  NaN                  NaN                         NaN                         NaN                          NaN                          NaN                          NaN                          NaN   \n",
      "25 2013-01-02  2.484907 NaN             2            2             1  2013        0               0             0           NaN           NaN            NaN            NaN            NaN            NaN            NaN            NaN            NaN            NaN                  NaN                  NaN                         NaN                         NaN                          NaN                          NaN                          NaN                          NaN   \n",
      "2  2013-01-03  2.708050 NaN             3            3             1  2013        0               0             0           NaN           NaN            NaN            NaN            NaN            NaN            NaN            NaN            NaN            NaN                  NaN                  NaN                         NaN                         NaN                          NaN                          NaN                          NaN                          NaN   \n",
      "\n",
      "    sales_ewm_alpha_095_lag_365  sales_ewm_alpha_095_lag_546  sales_ewm_alpha_095_lag_728  sales_ewm_alpha_09_lag_91  sales_ewm_alpha_09_lag_98  sales_ewm_alpha_09_lag_105  sales_ewm_alpha_09_lag_112  sales_ewm_alpha_09_lag_180  sales_ewm_alpha_09_lag_270  sales_ewm_alpha_09_lag_365  sales_ewm_alpha_09_lag_546  sales_ewm_alpha_09_lag_728  sales_ewm_alpha_08_lag_91  sales_ewm_alpha_08_lag_98  sales_ewm_alpha_08_lag_105  sales_ewm_alpha_08_lag_112  sales_ewm_alpha_08_lag_180  \\\n",
      "0                           NaN                          NaN                          NaN                        NaN                        NaN                         NaN                         NaN                         NaN                         NaN                         NaN                         NaN                         NaN                        NaN                        NaN                         NaN                         NaN                         NaN   \n",
      "24                          NaN                          NaN                          NaN                        NaN                        NaN                         NaN                         NaN                         NaN                         NaN                         NaN                         NaN                         NaN                        NaN                        NaN                         NaN                         NaN                         NaN   \n",
      "1                           NaN                          NaN                          NaN                        NaN                        NaN                         NaN                         NaN                         NaN                         NaN                         NaN                         NaN                         NaN                        NaN                        NaN                         NaN                         NaN                         NaN   \n",
      "25                          NaN                          NaN                          NaN                        NaN                        NaN                         NaN                         NaN                         NaN                         NaN                         NaN                         NaN                         NaN                        NaN                        NaN                         NaN                         NaN                         NaN   \n",
      "2                           NaN                          NaN                          NaN                        NaN                        NaN                         NaN                         NaN                         NaN                         NaN                         NaN                         NaN                         NaN                        NaN                        NaN                         NaN                         NaN                         NaN   \n",
      "\n",
      "    sales_ewm_alpha_08_lag_270  sales_ewm_alpha_08_lag_365  sales_ewm_alpha_08_lag_546  sales_ewm_alpha_08_lag_728  sales_ewm_alpha_07_lag_91  sales_ewm_alpha_07_lag_98  sales_ewm_alpha_07_lag_105  sales_ewm_alpha_07_lag_112  sales_ewm_alpha_07_lag_180  sales_ewm_alpha_07_lag_270  sales_ewm_alpha_07_lag_365  sales_ewm_alpha_07_lag_546  sales_ewm_alpha_07_lag_728  sales_ewm_alpha_05_lag_91  sales_ewm_alpha_05_lag_98  sales_ewm_alpha_05_lag_105  sales_ewm_alpha_05_lag_112  \\\n",
      "0                          NaN                         NaN                         NaN                         NaN                        NaN                        NaN                         NaN                         NaN                         NaN                         NaN                         NaN                         NaN                         NaN                        NaN                        NaN                         NaN                         NaN   \n",
      "24                         NaN                         NaN                         NaN                         NaN                        NaN                        NaN                         NaN                         NaN                         NaN                         NaN                         NaN                         NaN                         NaN                        NaN                        NaN                         NaN                         NaN   \n",
      "1                          NaN                         NaN                         NaN                         NaN                        NaN                        NaN                         NaN                         NaN                         NaN                         NaN                         NaN                         NaN                         NaN                        NaN                        NaN                         NaN                         NaN   \n",
      "25                         NaN                         NaN                         NaN                         NaN                        NaN                        NaN                         NaN                         NaN                         NaN                         NaN                         NaN                         NaN                         NaN                        NaN                        NaN                         NaN                         NaN   \n",
      "2                          NaN                         NaN                         NaN                         NaN                        NaN                        NaN                         NaN                         NaN                         NaN                         NaN                         NaN                         NaN                         NaN                        NaN                        NaN                         NaN                         NaN   \n",
      "\n",
      "    sales_ewm_alpha_05_lag_180  sales_ewm_alpha_05_lag_270  sales_ewm_alpha_05_lag_365  sales_ewm_alpha_05_lag_546  sales_ewm_alpha_05_lag_728  store_1  store_2  store_3  store_4  store_5  store_6  store_7  store_8  store_9  store_10  item_1  item_2  item_3  item_4  item_5  item_6  item_7  item_8  item_9  item_10  item_11  item_12  item_13  item_14  item_15  item_16  item_17  item_18  item_19  item_20  item_21  item_22  item_23  item_24  item_25  item_26  item_27  item_28  item_29  item_30  \\\n",
      "0                          NaN                         NaN                         NaN                         NaN                         NaN        1        0        0        0        0        0        0        0        0         0       1       0       0       0       0       0       0       0       0        0        0        0        0        0        0        0        0        0        0        0        0        0        0        0        0        0        0        0        0        0   \n",
      "24                         NaN                         NaN                         NaN                         NaN                         NaN        1        0        0        0        0        0        0        0        0         0       1       0       0       0       0       0       0       0       0        0        0        0        0        0        0        0        0        0        0        0        0        0        0        0        0        0        0        0        0        0   \n",
      "1                          NaN                         NaN                         NaN                         NaN                         NaN        1        0        0        0        0        0        0        0        0         0       1       0       0       0       0       0       0       0       0        0        0        0        0        0        0        0        0        0        0        0        0        0        0        0        0        0        0        0        0        0   \n",
      "25                         NaN                         NaN                         NaN                         NaN                         NaN        1        0        0        0        0        0        0        0        0         0       1       0       0       0       0       0       0       0       0        0        0        0        0        0        0        0        0        0        0        0        0        0        0        0        0        0        0        0        0        0   \n",
      "2                          NaN                         NaN                         NaN                         NaN                         NaN        1        0        0        0        0        0        0        0        0         0       1       0       0       0       0       0       0       0       0        0        0        0        0        0        0        0        0        0        0        0        0        0        0        0        0        0        0        0        0        0   \n",
      "\n",
      "    item_31  item_32  item_33  item_34  item_35  item_36  item_37  item_38  item_39  item_40  item_41  item_42  item_43  item_44  item_45  item_46  item_47  item_48  item_49  item_50  day_of_week_0  day_of_week_1  day_of_week_2  day_of_week_3  day_of_week_4  day_of_week_5  day_of_week_6  month_1  month_2  month_3  month_4  month_5  month_6  month_7  month_8  month_9  month_10  month_11  month_12  \n",
      "0         0        0        0        0        0        0        0        0        0        0        0        0        0        0        0        0        0        0        0        0              0              1              0              0              0              0              0        1        0        0        0        0        0        0        0        0         0         0         0  \n",
      "24        0        0        0        0        0        0        0        0        0        0        0        0        0        0        0        0        0        0        0        0              0              1              0              0              0              0              0        1        0        0        0        0        0        0        0        0         0         0         0  \n",
      "1         0        0        0        0        0        0        0        0        0        0        0        0        0        0        0        0        0        0        0        0              0              0              1              0              0              0              0        1        0        0        0        0        0        0        0        0         0         0         0  \n",
      "25        0        0        0        0        0        0        0        0        0        0        0        0        0        0        0        0        0        0        0        0              0              0              1              0              0              0              0        1        0        0        0        0        0        0        0        0         0         0         0  \n",
      "2         0        0        0        0        0        0        0        0        0        0        0        0        0        0        0        0        0        0        0        0              0              0              0              1              0              0              0        1        0        0        0        0        0        0        0        0         0         0         0  \n",
      "##################### Tail #####################\n",
      "            date  sales       id  day_of_month  day_of_year  week_of_year  year  is_wknd  is_month_start  is_month_end  sales_lag_91  sales_lag_98  sales_lag_105  sales_lag_112  sales_lag_119  sales_lag_126  sales_lag_182  sales_lag_364  sales_lag_546  sales_lag_728  sales_roll_mean_365  sales_roll_mean_546  sales_ewm_alpha_095_lag_91  sales_ewm_alpha_095_lag_98  sales_ewm_alpha_095_lag_105  sales_ewm_alpha_095_lag_112  sales_ewm_alpha_095_lag_180  sales_ewm_alpha_095_lag_270  \\\n",
      "44995 2018-03-27    NaN  44995.0            27           86            13  2018        0               0             0     42.404543     54.415110      67.564221      69.874074      70.444520      78.762114      81.037075      57.431557      97.347539      74.301188            89.582341            88.191571                   41.561777                   54.028375                    66.387487                    67.349358                    81.895724                   112.421502   \n",
      "44996 2018-03-28    NaN  44996.0            28           87            13  2018        0               0             0     63.550876     49.454431      66.463829      61.229898      76.250378      79.562259      82.236058      74.328129      79.603984      68.666942            88.698377            86.457505                   61.928089                   51.151419                    66.969374                    60.367468                    89.594786                   118.671075   \n",
      "44997 2018-03-29    NaN  44997.0            29           88            13  2018        0               0             0     59.180313     62.660187      69.200374      65.713735      71.679134      87.528039      83.544743      66.824460      97.079707      73.673479            88.885126            84.386198                   59.146404                   62.407571                    71.748469                    65.718373                   102.329739                   119.933554   \n",
      "44998 2018-03-30    NaN  44998.0            30           89            13  2018        1               0             0     73.438435     75.750007      71.580377      67.335350      66.331764      83.176356      89.730837      72.211497      81.063340      82.744463            88.883431            85.806512                   73.257320                   74.370379                    71.987423                    66.935919                    99.166487                   100.046678   \n",
      "44999 2018-03-31    NaN  44999.0            31           90            13  2018        1               0             1     61.622726     72.774932      51.833452      68.360373      46.791720      77.322386     104.161699     102.318002      96.858345      82.754090            90.891725            87.484936                   62.562866                   70.218519                    52.999371                    68.896796                    72.408324                    98.102334   \n",
      "\n",
      "       sales_ewm_alpha_095_lag_365  sales_ewm_alpha_095_lag_546  sales_ewm_alpha_095_lag_728  sales_ewm_alpha_09_lag_91  sales_ewm_alpha_09_lag_98  sales_ewm_alpha_09_lag_105  sales_ewm_alpha_09_lag_112  sales_ewm_alpha_09_lag_180  sales_ewm_alpha_09_lag_270  sales_ewm_alpha_09_lag_365  sales_ewm_alpha_09_lag_546  sales_ewm_alpha_09_lag_728  sales_ewm_alpha_08_lag_91  sales_ewm_alpha_08_lag_98  sales_ewm_alpha_08_lag_105  sales_ewm_alpha_08_lag_112  sales_ewm_alpha_08_lag_180  \\\n",
      "44995                    66.744209                    94.617783                    71.979468                  42.244368                  54.197995                   65.849785                   66.785772                   81.777579                  112.682169                   67.473304                   92.561560                   71.115472                  43.955442                  54.879654                   64.996171                   65.861563                   81.488819   \n",
      "44996                    60.337210                    80.730889                    68.198973                  60.924437                  51.319799                   66.884978                   60.678577                   89.177758                  118.368217                   60.747330                   81.256156                   68.311547                  59.191088                  51.775931                   66.599234                   61.172313                   88.297764   \n",
      "44997                    72.366861                    98.086544                    74.659949                  59.192444                  61.831980                   71.488498                   65.467858                  101.617776                  119.836822                   71.774733                   97.225616                   74.331155                  59.038218                  60.755186                   70.919847                   65.034463                  100.059553   \n",
      "44998                    68.218343                    79.954327                    82.582997                  72.519244                  73.683198                   71.948850                   66.846786                   99.261778                  101.083682                   68.377473                   80.822562                   82.133115                  71.007644                  72.151037                   71.783969                   66.606893                   99.211911   \n",
      "44999                    68.960917                    96.147716                    82.029150                  63.051924                  70.368320                   53.994885                   68.784679                   73.826178                   98.308368                   68.937747                   95.382256                   82.013312                  63.801529                  70.430207                   55.956794                   68.521379                   76.642382   \n",
      "\n",
      "       sales_ewm_alpha_08_lag_270  sales_ewm_alpha_08_lag_365  sales_ewm_alpha_08_lag_546  sales_ewm_alpha_08_lag_728  sales_ewm_alpha_07_lag_91  sales_ewm_alpha_07_lag_98  sales_ewm_alpha_07_lag_105  sales_ewm_alpha_07_lag_112  sales_ewm_alpha_07_lag_180  sales_ewm_alpha_07_lag_270  sales_ewm_alpha_07_lag_365  sales_ewm_alpha_07_lag_546  sales_ewm_alpha_07_lag_728  sales_ewm_alpha_05_lag_91  sales_ewm_alpha_05_lag_98  sales_ewm_alpha_05_lag_105  sales_ewm_alpha_05_lag_112  \\\n",
      "44995                  112.703381                   68.859556                   89.361543                   69.838571                  46.091666                  55.909793                   64.428121                   65.144155                   81.162051                  112.055216                   70.090358                   87.248414                   69.116907                  51.309755                  58.648702                   64.033868                   64.335072   \n",
      "44996                  117.740676                   61.771911                   81.872309                   68.367714                  57.927500                  52.472938                   66.228436                   61.543247                   87.348615                  116.916565                   63.027108                   82.174524                   68.335072                  57.154878                  54.824351                   65.516934                   62.167536   \n",
      "44997                  119.548135                   70.754382                   95.574462                   73.673543                  58.678250                  59.841881                   70.268531                   64.662974                   98.304585                  119.074969                   70.008132                   93.952357                   73.000522                  58.077439                  58.912176                   68.758467                   64.083768   \n",
      "44998                  103.109627                   68.550876                   82.314892                   81.134709                  69.403475                  70.452564                   71.480559                   66.298892                   98.791375                  105.022491                   68.602440                   83.485707                   80.000156                  66.038719                  66.956088                   70.379233                   65.541884   \n",
      "44999                   99.021925                   68.910175                   94.062978                   81.826942                  64.221042                  70.135769                   57.844168                   68.189668                   79.337413                  100.106747                   68.880732                   92.945712                   81.400047                  64.019360                  68.478044                   61.189617                   67.270942   \n",
      "\n",
      "       sales_ewm_alpha_05_lag_180  sales_ewm_alpha_05_lag_270  sales_ewm_alpha_05_lag_365  sales_ewm_alpha_05_lag_546  sales_ewm_alpha_05_lag_728  store_1  store_2  store_3  store_4  store_5  store_6  store_7  store_8  store_9  store_10  item_1  item_2  item_3  item_4  item_5  item_6  item_7  item_8  item_9  item_10  item_11  item_12  item_13  item_14  item_15  item_16  item_17  item_18  item_19  item_20  item_21  item_22  item_23  item_24  item_25  item_26  item_27  item_28  item_29  item_30  \\\n",
      "44995                   80.828687                  109.036310                   71.734958                   85.489012                   68.933911        0        0        0        0        0        0        0        0        0         1       0       0       0       0       0       0       0       0       0        0        0        0        0        0        0        0        0        0        0        0        0        0        0        0        0        0        0        0        0        0   \n",
      "44996                   85.414343                  114.018155                   65.867479                   82.744506                   68.466956        0        0        0        0        0        0        0        0        0         1       0       0       0       0       0       0       0       0       0        0        0        0        0        0        0        0        0        0        0        0        0        0        0        0        0        0        0        0        0        0   \n",
      "44997                   94.207172                  117.009078                   69.433740                   90.872253                   71.733478        0        0        0        0        0        0        0        0        0         1       0       0       0       0       0       0       0       0       0        0        0        0        0        0        0        0        0        0        0        0        0        0        0        0        0        0        0        0        0        0   \n",
      "44998                   96.603586                  108.004539                   68.716870                   84.936127                   77.366739        0        0        0        0        0        0        0        0        0         1       0       0       0       0       0       0       0       0       0        0        0        0        0        0        0        0        0        0        0        0        0        0        0        0        0        0        0        0        0        0   \n",
      "44999                   83.801793                  103.002269                   68.858435                   90.968063                   79.683369        0        0        0        0        0        0        0        0        0         1       0       0       0       0       0       0       0       0       0        0        0        0        0        0        0        0        0        0        0        0        0        0        0        0        0        0        0        0        0        0   \n",
      "\n",
      "       item_31  item_32  item_33  item_34  item_35  item_36  item_37  item_38  item_39  item_40  item_41  item_42  item_43  item_44  item_45  item_46  item_47  item_48  item_49  item_50  day_of_week_0  day_of_week_1  day_of_week_2  day_of_week_3  day_of_week_4  day_of_week_5  day_of_week_6  month_1  month_2  month_3  month_4  month_5  month_6  month_7  month_8  month_9  month_10  month_11  month_12  \n",
      "44995        0        0        0        0        0        0        0        0        0        0        0        0        0        0        0        0        0        0        0        1              0              1              0              0              0              0              0        0        0        1        0        0        0        0        0        0         0         0         0  \n",
      "44996        0        0        0        0        0        0        0        0        0        0        0        0        0        0        0        0        0        0        0        1              0              0              1              0              0              0              0        0        0        1        0        0        0        0        0        0         0         0         0  \n",
      "44997        0        0        0        0        0        0        0        0        0        0        0        0        0        0        0        0        0        0        0        1              0              0              0              1              0              0              0        0        0        1        0        0        0        0        0        0         0         0         0  \n",
      "44998        0        0        0        0        0        0        0        0        0        0        0        0        0        0        0        0        0        0        0        1              0              0              0              0              1              0              0        0        0        1        0        0        0        0        0        0         0         0         0  \n",
      "44999        0        0        0        0        0        0        0        0        0        0        0        0        0        0        0        0        0        0        0        1              0              0              0              0              0              1              0        0        0        1        0        0        0        0        0        0         0         0         0  \n",
      "##################### NA #####################\n",
      "date                 0\n",
      "sales            45000\n",
      "id              913023\n",
      "day_of_month         0\n",
      "day_of_year          0\n",
      "                 ...  \n",
      "month_8              0\n",
      "month_9              0\n",
      "month_10             0\n",
      "month_11             0\n",
      "month_12             0\n",
      "Length: 146, dtype: int64\n",
      "##################### Quantiles #####################\n",
      "              0.00         0.05          0.50          0.95          0.99          1.00\n",
      "sales          0.0     2.833213      3.871201      4.682131      4.912655      5.446737\n",
      "id             0.0  2249.950000  22499.500000  42749.050000  44549.010000  44999.000000\n",
      "day_of_month   1.0     2.000000     16.000000     29.000000     31.000000     31.000000\n",
      "day_of_year    1.0    16.000000    174.000000    347.000000    362.000000    366.000000\n",
      "week_of_year   1.0     3.000000     25.000000     50.000000     52.000000     53.000000\n",
      "...            ...          ...           ...           ...           ...           ...\n",
      "month_8        0.0     0.000000      0.000000      1.000000      1.000000      1.000000\n",
      "month_9        0.0     0.000000      0.000000      1.000000      1.000000      1.000000\n",
      "month_10       0.0     0.000000      0.000000      1.000000      1.000000      1.000000\n",
      "month_11       0.0     0.000000      0.000000      1.000000      1.000000      1.000000\n",
      "month_12       0.0     0.000000      0.000000      1.000000      1.000000      1.000000\n",
      "\n",
      "[145 rows x 6 columns]\n"
     ]
    }
   ],
   "source": [
    "df['sales'] = np.log1p(df[\"sales\"].values)\n",
    "check_df(df)"
   ],
   "metadata": {
    "collapsed": false
   }
  },
  {
   "cell_type": "markdown",
   "source": [
    "**Custom Cost Function (SMAPE)**"
   ],
   "metadata": {
    "collapsed": false
   }
  },
  {
   "cell_type": "code",
   "execution_count": 73,
   "outputs": [],
   "source": [
    "def smape(preds, target):\n",
    "    n = len(preds)\n",
    "    masked_arr = ~((preds == 0) & (target == 0))\n",
    "    preds, target = preds[masked_arr], target[masked_arr]\n",
    "    num = np.abs(preds - target)\n",
    "    denom = np.abs(preds) + np.abs(target)\n",
    "    smape_val = (200 * np.sum(num / denom)) / n\n",
    "    return smape_val"
   ],
   "metadata": {
    "collapsed": false
   }
  },
  {
   "cell_type": "code",
   "execution_count": 74,
   "outputs": [],
   "source": [
    "def lgbm_smape(preds, train_data):\n",
    "    labels = train_data.get_label()\n",
    "    smape_val = smape(np.expm1(preds), np.expm1(labels))\n",
    "    return 'SMAPE', smape_val, False"
   ],
   "metadata": {
    "collapsed": false
   }
  },
  {
   "cell_type": "markdown",
   "source": [
    "**Time-Based Validation Sets**"
   ],
   "metadata": {
    "collapsed": false
   }
  },
  {
   "cell_type": "code",
   "execution_count": 75,
   "outputs": [],
   "source": [
    "train = df.loc[(df[\"date\"] < \"2017-01-01\"), :]\n",
    "val = df.loc[(df[\"date\"] >= \"2017-01-01\") & (df[\"date\"] < \"2017-04-01\"), :]\n",
    "cols = [col for col in train.columns if col not in ['date', 'id', \"sales\", \"year\"]]"
   ],
   "metadata": {
    "collapsed": false
   }
  },
  {
   "cell_type": "code",
   "execution_count": 76,
   "outputs": [],
   "source": [
    "Y_train = train['sales']\n",
    "X_train = train[cols]\n",
    "\n",
    "Y_val = val['sales']\n",
    "X_val = val[cols]"
   ],
   "metadata": {
    "collapsed": false
   }
  },
  {
   "cell_type": "markdown",
   "source": [
    "**Time Series Model with LightGBM**"
   ],
   "metadata": {
    "collapsed": false
   }
  },
  {
   "cell_type": "code",
   "execution_count": 79,
   "outputs": [],
   "source": [
    "lgb_params = {'num_leaves': 10,\n",
    "              'learning_rate': 0.02,\n",
    "              'feature_fraction': 0.8,\n",
    "              'max_depth': 5,\n",
    "              'verbose': 0,\n",
    "              'num_boost_round': 1000,\n",
    "              'early_stopping_rounds': 200,\n",
    "              'nthread': -1,\n",
    "              'force_col_wise': True}"
   ],
   "metadata": {
    "collapsed": false
   }
  },
  {
   "cell_type": "code",
   "execution_count": 80,
   "outputs": [
    {
     "name": "stdout",
     "output_type": "stream",
     "text": [
      "Training until validation scores don't improve for 200 rounds\n",
      "[100]\ttraining's SMAPE: 17.5981\tvalid_1's SMAPE: 17.4649\n",
      "[200]\ttraining's SMAPE: 14.5758\tvalid_1's SMAPE: 14.9021\n",
      "[300]\ttraining's SMAPE: 14.0218\tvalid_1's SMAPE: 14.4372\n",
      "[400]\ttraining's SMAPE: 13.8073\tvalid_1's SMAPE: 14.2767\n",
      "[500]\ttraining's SMAPE: 13.6687\tvalid_1's SMAPE: 14.1282\n",
      "[600]\ttraining's SMAPE: 13.5733\tvalid_1's SMAPE: 14.0346\n",
      "[700]\ttraining's SMAPE: 13.5031\tvalid_1's SMAPE: 13.9589\n",
      "[800]\ttraining's SMAPE: 13.4461\tvalid_1's SMAPE: 13.906\n",
      "[900]\ttraining's SMAPE: 13.3971\tvalid_1's SMAPE: 13.8626\n",
      "[1000]\ttraining's SMAPE: 13.3559\tvalid_1's SMAPE: 13.8281\n",
      "Did not meet early stopping. Best iteration is:\n",
      "[1000]\ttraining's SMAPE: 13.3559\tvalid_1's SMAPE: 13.8281\n"
     ]
    }
   ],
   "source": [
    "lgbtrain = lgb.Dataset(data=X_train, label=Y_train, feature_name=cols)\n",
    "lgbval = lgb.Dataset(data=X_val, label=Y_val, reference=lgbtrain, feature_name=cols)\n",
    "\n",
    "model = lgb.train(lgb_params, lgbtrain,\n",
    "                  valid_sets=[lgbtrain, lgbval],\n",
    "                  num_boost_round=lgb_params['num_boost_round'],\n",
    "                  early_stopping_rounds=lgb_params['early_stopping_rounds'],\n",
    "                  feval=lgbm_smape,\n",
    "                  verbose_eval=100)\n"
   ],
   "metadata": {
    "collapsed": false
   }
  },
  {
   "cell_type": "code",
   "execution_count": 81,
   "outputs": [
    {
     "data": {
      "text/plain": "13.828108685972817"
     },
     "execution_count": 81,
     "metadata": {},
     "output_type": "execute_result"
    }
   ],
   "source": [
    "y_pred_val = model.predict(X_val, num_iteration=model.best_iteration)\n",
    "smape(np.expm1(y_pred_val), np.expm1(Y_val))\n"
   ],
   "metadata": {
    "collapsed": false
   }
  },
  {
   "cell_type": "code",
   "execution_count": 83,
   "outputs": [],
   "source": [
    "def plot_lgb_importances(model, plot=False, num=10):\n",
    "    gain = model.feature_importance('gain')\n",
    "    feat_imp = pd.DataFrame({'feature': model.feature_name(),\n",
    "                             'split': model.feature_importance('split'),\n",
    "                             'gain': 100 * gain / gain.sum()}).sort_values('gain', ascending=False)\n",
    "    if plot:\n",
    "        plt.figure(figsize=(10, 10))\n",
    "        sns.set(font_scale=1)\n",
    "        sns.barplot(x=\"gain\", y=\"feature\", data=feat_imp[0:25])\n",
    "        plt.title('feature')\n",
    "        plt.tight_layout()\n",
    "        plt.show()\n",
    "    else:\n",
    "        print(feat_imp.head(num))\n",
    "    return feat_imp"
   ],
   "metadata": {
    "collapsed": false
   }
  },
  {
   "cell_type": "code",
   "execution_count": 85,
   "outputs": [
    {
     "data": {
      "text/plain": "<Figure size 1000x1000 with 1 Axes>",
      "image/png": "[encoded data removed]"
     },
     "metadata": {},
     "output_type": "display_data"
    },
    {
     "data": {
      "text/plain": "                        feature  split       gain\n17          sales_roll_mean_546    911  54.463792\n13                sales_lag_364   1242  13.124889\n16          sales_roll_mean_365    626   9.838403\n60   sales_ewm_alpha_05_lag_365    365   4.855714\n18   sales_ewm_alpha_095_lag_91     88   2.246254\n..                          ...    ...        ...\n104                     item_32      0   0.000000\n105                     item_33      0   0.000000\n107                     item_35      0   0.000000\n78                       item_6      0   0.000000\n71                      store_9      0   0.000000\n\n[142 rows x 3 columns]",
      "text/html": "<div>\n<style scoped>\n    .dataframe tbody tr th:only-of-type {\n        vertical-align: middle;\n    }\n\n    .dataframe tbody tr th {\n        vertical-align: top;\n    }\n\n    .dataframe thead th {\n        text-align: right;\n    }\n</style>\n<table border=\"1\" class=\"dataframe\">\n  <thead>\n    <tr style=\"text-align: right;\">\n      <th></th>\n      <th>feature</th>\n      <th>split</th>\n      <th>gain</th>\n    </tr>\n  </thead>\n  <tbody>\n    <tr>\n      <th>17</th>\n      <td>sales_roll_mean_546</td>\n      <td>911</td>\n      <td>54.463792</td>\n    </tr>\n    <tr>\n      <th>13</th>\n      <td>sales_lag_364</td>\n      <td>1242</td>\n      <td>13.124889</td>\n    </tr>\n    <tr>\n      <th>16</th>\n      <td>sales_roll_mean_365</td>\n      <td>626</td>\n      <td>9.838403</td>\n    </tr>\n    <tr>\n      <th>60</th>\n      <td>sales_ewm_alpha_05_lag_365</td>\n      <td>365</td>\n      <td>4.855714</td>\n    </tr>\n    <tr>\n      <th>18</th>\n      <td>sales_ewm_alpha_095_lag_91</td>\n      <td>88</td>\n      <td>2.246254</td>\n    </tr>\n    <tr>\n      <th>...</th>\n      <td>...</td>\n      <td>...</td>\n      <td>...</td>\n    </tr>\n    <tr>\n      <th>104</th>\n      <td>item_32</td>\n      <td>0</td>\n      <td>0.000000</td>\n    </tr>\n    <tr>\n      <th>105</th>\n      <td>item_33</td>\n      <td>0</td>\n      <td>0.000000</td>\n    </tr>\n    <tr>\n      <th>107</th>\n      <td>item_35</td>\n      <td>0</td>\n      <td>0.000000</td>\n    </tr>\n    <tr>\n      <th>78</th>\n      <td>item_6</td>\n      <td>0</td>\n      <td>0.000000</td>\n    </tr>\n    <tr>\n      <th>71</th>\n      <td>store_9</td>\n      <td>0</td>\n      <td>0.000000</td>\n    </tr>\n  </tbody>\n</table>\n<p>142 rows × 3 columns</p>\n</div>"
     },
     "execution_count": 85,
     "metadata": {},
     "output_type": "execute_result"
    }
   ],
   "source": [
    "plot_lgb_importances(model, num=30, plot=True)"
   ],
   "metadata": {
    "collapsed": false
   }
  },
  {
   "cell_type": "code",
   "execution_count": 86,
   "outputs": [
    {
     "name": "stdout",
     "output_type": "stream",
     "text": [
      "                        feature  split       gain\n",
      "17          sales_roll_mean_546    911  54.463792\n",
      "13                sales_lag_364   1242  13.124889\n",
      "16          sales_roll_mean_365    626   9.838403\n",
      "60   sales_ewm_alpha_05_lag_365    365   4.855714\n",
      "18   sales_ewm_alpha_095_lag_91     88   2.246254\n",
      "..                          ...    ...        ...\n",
      "104                     item_32      0   0.000000\n",
      "105                     item_33      0   0.000000\n",
      "107                     item_35      0   0.000000\n",
      "78                       item_6      0   0.000000\n",
      "71                      store_9      0   0.000000\n",
      "\n",
      "[142 rows x 3 columns]\n"
     ]
    }
   ],
   "source": [
    "feat_imp = plot_lgb_importances(model, num=200)"
   ],
   "metadata": {
    "collapsed": false
   }
  },
  {
   "cell_type": "code",
   "execution_count": 87,
   "outputs": [
    {
     "data": {
      "text/plain": "111"
     },
     "execution_count": 87,
     "metadata": {},
     "output_type": "execute_result"
    }
   ],
   "source": [
    "importance_zero = feat_imp[feat_imp[\"gain\"] == 0][\"feature\"].values\n",
    "\n",
    "imp_feats = [col for col in cols if col not in importance_zero]\n",
    "len(imp_feats)"
   ],
   "metadata": {
    "collapsed": false
   }
  },
  {
   "cell_type": "markdown",
   "source": [
    "**Final Model**"
   ],
   "metadata": {
    "collapsed": false
   }
  },
  {
   "cell_type": "code",
   "execution_count": 88,
   "outputs": [],
   "source": [
    "train = df.loc[~df.sales.isna()]\n",
    "Y_train = train['sales']\n",
    "X_train = train[cols]"
   ],
   "metadata": {
    "collapsed": false
   }
  },
  {
   "cell_type": "code",
   "execution_count": 89,
   "outputs": [],
   "source": [
    "test = df.loc[df.sales.isna()]\n",
    "X_test = test[cols]"
   ],
   "metadata": {
    "collapsed": false
   }
  },
  {
   "cell_type": "code",
   "execution_count": 90,
   "outputs": [],
   "source": [
    "lgb_params = {'num_leaves': 10,\n",
    "              'learning_rate': 0.02,\n",
    "              'feature_fraction': 0.8,\n",
    "              'max_depth': 5,\n",
    "              'verbose': 0,\n",
    "              'nthread': -1,\n",
    "              \"num_boost_round\": model.best_iteration,\n",
    "              \"force_row_wise\": True}"
   ],
   "metadata": {
    "collapsed": false
   }
  },
  {
   "cell_type": "code",
   "execution_count": 91,
   "outputs": [],
   "source": [
    "lgbtrain_all = lgb.Dataset(data=X_train, label=Y_train, feature_name=cols)\n",
    "\n",
    "final_model = lgb.train(lgb_params, lgbtrain_all, num_boost_round=model.best_iteration)"
   ],
   "metadata": {
    "collapsed": false
   }
  },
  {
   "cell_type": "code",
   "execution_count": 92,
   "outputs": [],
   "source": [
    "test_preds = final_model.predict(X_test, num_iteration=model.best_iteration)"
   ],
   "metadata": {
    "collapsed": false
   }
  },
  {
   "cell_type": "code",
   "execution_count": null,
   "outputs": [],
   "source": [],
   "metadata": {
    "collapsed": false
   }
  }
 ],
 "metadata": {
  "kernelspec": {
   "display_name": "Python 3",
   "language": "python",
   "name": "python3"
  },
  "language_info": {
   "codemirror_mode": {
    "name": "ipython",
    "version": 2
   },
   "file_extension": ".py",
   "mimetype": "text/x-python",
   "name": "python",
   "nbconvert_exporter": "python",
   "pygments_lexer": "ipython2",
   "version": "2.7.6"
  }
 },
 "nbformat": 4,
 "nbformat_minor": 0
}
